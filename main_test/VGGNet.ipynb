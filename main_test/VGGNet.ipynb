{
 "cells": [
  {
   "cell_type": "markdown",
   "metadata": {
    "id": "view-in-github"
   },
   "source": [
    "<a href=\"https://colab.research.google.com/github/anishjohnson/Face-Emotion-Recognition/blob/main/FER/Colab%20Notebook/Face_Emotion_Recognition_Anish_Johnson.ipynb\" target=\"_parent\"><img src=\"https://colab.research.google.com/assets/colab-badge.svg\" alt=\"Open In Colab\"/></a>"
   ]
  },
  {
   "cell_type": "markdown",
   "metadata": {
    "id": "URwdYfsiMltF"
   },
   "source": [
    "# **Face Emotion Recognition**\n",
    "\n",
    "\n",
    "\n",
    "\n",
    "\n",
    "\n",
    "\n",
    "\n"
   ]
  },
  {
   "cell_type": "markdown",
   "metadata": {
    "id": "g5RpZlMkPGG2"
   },
   "source": [
    "# **Objective**\n",
    "Our objective is to solve the above mentioned challenge by applying deep learning algorithms to live video data inorder to recognize the facial emotions and categorize them accordingly."
   ]
  },
  {
   "cell_type": "markdown",
   "metadata": {
    "id": "9AGaR26YPV--"
   },
   "source": [
    "# **Dataset used**\n",
    "We have utilized the [FER 2013](https://www.kaggle.com/datasets/msambare/fer2013) dataset provided on Kaggle.<br>\n",
    "The data consists of 48x48 pixel grayscale images of faces. The faces have been automatically registered so that the face is more or less centred and occupies about the same amount of space in each image.<br>\n",
    "\n",
    "The task is to categorize each face based on the emotion shown in the facial expression into one of seven categories (0=Angry, 1=Disgust, 2=Fear, 3=Happy, 4=Sad, 5=Surprise, 6=Neutral). The training set consists of 28,709 examples and the public test set consists of 3,589 examples."
   ]
  },
  {
   "cell_type": "code",
   "execution_count": 1,
   "metadata": {
    "colab": {
     "base_uri": "https://localhost:8080/"
    },
    "executionInfo": {
     "elapsed": 1244,
     "status": "ok",
     "timestamp": 1676257325848,
     "user": {
      "displayName": "tuan cuong",
      "userId": "08844748302156682664"
     },
     "user_tz": -420
    },
    "id": "gVjAMoriVm5s",
    "outputId": "495d6750-7a63-4838-d511-306ff9d551e5"
   },
   "outputs": [
    {
     "name": "stdout",
     "output_type": "stream",
     "text": [
      "Mon Feb 20 10:35:35 2023       \n",
      "+-----------------------------------------------------------------------------+\n",
      "| NVIDIA-SMI 528.33       Driver Version: 528.33       CUDA Version: 12.0     |\n",
      "|-------------------------------+----------------------+----------------------+\n",
      "| GPU  Name            TCC/WDDM | Bus-Id        Disp.A | Volatile Uncorr. ECC |\n",
      "| Fan  Temp  Perf  Pwr:Usage/Cap|         Memory-Usage | GPU-Util  Compute M. |\n",
      "|                               |                      |               MIG M. |\n",
      "|===============================+======================+======================|\n",
      "|   0  NVIDIA GeForce ... WDDM  | 00000000:01:00.0 Off |                  N/A |\n",
      "| N/A   44C    P8     9W /  80W |      0MiB /  6144MiB |      0%      Default |\n",
      "|                               |                      |                  N/A |\n",
      "+-------------------------------+----------------------+----------------------+\n",
      "                                                                               \n",
      "+-----------------------------------------------------------------------------+\n",
      "| Processes:                                                                  |\n",
      "|  GPU   GI   CI        PID   Type   Process name                  GPU Memory |\n",
      "|        ID   ID                                                   Usage      |\n",
      "|=============================================================================|\n",
      "|  No running processes found                                                 |\n",
      "+-----------------------------------------------------------------------------+\n",
      "nvcc: NVIDIA (R) Cuda compiler driver\n",
      "Copyright (c) 2005-2023 NVIDIA Corporation\n",
      "Built on Fri_Jan__6_19:04:39_Pacific_Standard_Time_2023\n",
      "Cuda compilation tools, release 12.0, V12.0.140\n",
      "Build cuda_12.0.r12.0/compiler.32267302_0\n"
     ]
    }
   ],
   "source": [
    "!nvidia-smi\n",
    "!nvcc -V"
   ]
  },
  {
   "cell_type": "markdown",
   "metadata": {
    "id": "mKaCCukeQGGv"
   },
   "source": [
    "### **Let's Begin:**"
   ]
  },
  {
   "cell_type": "markdown",
   "metadata": {
    "id": "n2QTffm_tEDK"
   },
   "source": [
    "# **Data Exploration:**"
   ]
  },
  {
   "cell_type": "markdown",
   "metadata": {
    "id": "5py4G2_K3R3Y"
   },
   "source": [
    "**Lets start by importing the required libraries.**"
   ]
  },
  {
   "cell_type": "code",
   "execution_count": 2,
   "metadata": {
    "colab": {
     "base_uri": "https://localhost:8080/"
    },
    "executionInfo": {
     "elapsed": 489,
     "status": "ok",
     "timestamp": 1676257340869,
     "user": {
      "displayName": "tuan cuong",
      "userId": "08844748302156682664"
     },
     "user_tz": -420
    },
    "id": "OheLkRm1DJ3a",
    "outputId": "616e7afc-ec64-4055-f621-2206c1722c2c"
   },
   "outputs": [
    {
     "name": "stdout",
     "output_type": "stream",
     "text": [
      "Above libraries have been imported.\n"
     ]
    }
   ],
   "source": [
    "# Basic python libraries.\n",
    "import datetime\n",
    "import numpy as np\n",
    "import os\n",
    "import tensorflow as tf\n",
    "import matplotlib.pyplot as plt\n",
    "from tqdm import tqdm\n",
    "from PIL import Image\n",
    "import itertools\n",
    "\n",
    "# Get rid of warnings!\n",
    "import warnings\n",
    "warnings.filterwarnings('ignore')\n",
    "\n",
    "# Deep learning libraries.\n",
    "from sklearn.metrics import confusion_matrix\n",
    "from tensorflow.keras import Model\n",
    "from tensorflow.keras.models import load_model\n",
    "from tensorflow.keras.preprocessing.image import load_img, img_to_array, ImageDataGenerator\n",
    "from tensorflow.keras.utils import plot_model\n",
    "from tensorflow.keras.models import Sequential\n",
    "from tensorflow.keras.utils import to_categorical\n",
    "from tensorflow.keras.losses import categorical_crossentropy\n",
    "from tensorflow.keras.layers import Dense, Flatten, Conv2D, MaxPooling2D, Dropout\n",
    "from keras.optimizers import SGD\n",
    "\n",
    "print('Above libraries have been imported.')"
   ]
  },
  {
   "cell_type": "markdown",
   "metadata": {
    "id": "nKEJMNa45tfB"
   },
   "source": [
    "**Seperate the Training and Validation Data.**"
   ]
  },
  {
   "cell_type": "code",
   "execution_count": null,
   "metadata": {
    "colab": {
     "base_uri": "https://localhost:8080/",
     "height": 38
    },
    "executionInfo": {
     "elapsed": 13,
     "status": "ok",
     "timestamp": 1675862686443,
     "user": {
      "displayName": "DAT TRAN TUAN",
      "userId": "05852791585342980378"
     },
     "user_tz": -420
    },
    "id": "PnFhfDs6sobL",
    "outputId": "be394413-aa6e-4c95-e84f-257d842dff90"
   },
   "outputs": [
    {
     "data": {
      "application/vnd.google.colaboratory.intrinsic+json": {
       "type": "string"
      },
      "text/plain": [
       "'2.9.2'"
      ]
     },
     "execution_count": 4,
     "metadata": {},
     "output_type": "execute_result"
    }
   ],
   "source": [
    "tf.__version__"
   ]
  },
  {
   "cell_type": "code",
   "execution_count": 13,
   "metadata": {
    "executionInfo": {
     "elapsed": 390,
     "status": "ok",
     "timestamp": 1676257358187,
     "user": {
      "displayName": "tuan cuong",
      "userId": "08844748302156682664"
     },
     "user_tz": -420
    },
    "id": "lKpeEhrw5sSN"
   },
   "outputs": [],
   "source": [
    "# Define the train and validataion data paths.\n",
    "train_dir = 'Dataset/train'\n",
    "val_dir = 'Dataset/test'"
   ]
  },
  {
   "cell_type": "code",
   "execution_count": 14,
   "metadata": {
    "colab": {
     "base_uri": "https://localhost:8080/",
     "height": 169
    },
    "executionInfo": {
     "elapsed": 6,
     "status": "ok",
     "timestamp": 1676257360595,
     "user": {
      "displayName": "tuan cuong",
      "userId": "08844748302156682664"
     },
     "user_tz": -420
    },
    "id": "3bzIXm5UjD-p",
    "outputId": "aa8efd58-1f5d-4b45-c01f-9e7ccf2472bf"
   },
   "outputs": [
    {
     "data": {
      "image/png": "[encoded data removed]",
      "text/plain": [
       "<Figure size 1800x2200 with 7 Axes>"
      ]
     },
     "metadata": {},
     "output_type": "display_data"
    }
   ],
   "source": [
    "# Define the default image size.\n",
    "img_size = 48\n",
    "\n",
    "# Define the seven emotions provided in dataset.\n",
    "emotion_list = ['angry', 'disgust', 'fear', 'happy', 'sad', 'surprise', 'neutral']\n",
    "\n",
    "# Plot the images with each distinct emotions.\n",
    "plt.figure(figsize=(18,22))\n",
    "i = 1\n",
    "for expression in emotion_list:\n",
    "    img = load_img((train_dir + '/' + expression +'/'+ os.listdir(train_dir + '/' + expression)[59]))\n",
    "    plt.subplot(1,7,i)\n",
    "    plt.imshow(img)\n",
    "    plt.title(expression)\n",
    "    plt.axis('off')\n",
    "    i += 1\n",
    "plt.show()"
   ]
  },
  {
   "cell_type": "markdown",
   "metadata": {
    "id": "_Duo9uIT3PV6"
   },
   "source": [
    "**Have a look at our data.**"
   ]
  },
  {
   "cell_type": "markdown",
   "metadata": {
    "id": "UNCuMOZrGkcx"
   },
   "source": [
    "**Perform some Data Augmentation on train and validations sets.**"
   ]
  },
  {
   "cell_type": "markdown",
   "metadata": {
    "id": "vvy5uusVtMAh"
   },
   "source": [
    "# **Data Preprocessing:**"
   ]
  },
  {
   "cell_type": "code",
   "execution_count": 15,
   "metadata": {
    "colab": {
     "base_uri": "https://localhost:8080/"
    },
    "executionInfo": {
     "elapsed": 432,
     "status": "ok",
     "timestamp": 1676257369984,
     "user": {
      "displayName": "tuan cuong",
      "userId": "08844748302156682664"
     },
     "user_tz": -420
    },
    "id": "NnZfATJ1GW5T",
    "outputId": "0a29d923-01bc-40aa-8273-b878312cb860"
   },
   "outputs": [
    {
     "name": "stdout",
     "output_type": "stream",
     "text": [
      "Above data generator functions have been created.\n"
     ]
    }
   ],
   "source": [
    "# Rescale the data.\n",
    "'''\n",
    "Before we proceed we need to rescale our data by multiplying it to 1/255.\n",
    "This is done so we get target values between 0 and 1.\n",
    "'''\n",
    "# Rescale train data.\n",
    "datagen_train = ImageDataGenerator(\n",
    "    rescale=1./255,\n",
    "    shear_range=0.2,\n",
    "    zoom_range=0.2,\n",
    "    horizontal_flip=True\n",
    ")\n",
    "\n",
    "# Rescale validation data.\n",
    "datagen_val = ImageDataGenerator(rescale = 1./255,\n",
    "                                 )\n",
    "\n",
    "print('Above data generator functions have been created.')"
   ]
  },
  {
   "cell_type": "code",
   "execution_count": 16,
   "metadata": {
    "colab": {
     "base_uri": "https://localhost:8080/"
    },
    "executionInfo": {
     "elapsed": 1008,
     "status": "ok",
     "timestamp": 1676257373020,
     "user": {
      "displayName": "tuan cuong",
      "userId": "08844748302156682664"
     },
     "user_tz": -420
    },
    "id": "pfQSzCIDGWvq",
    "outputId": "84f4081a-cf86-4778-821b-45a012625cd2"
   },
   "outputs": [
    {
     "name": "stdout",
     "output_type": "stream",
     "text": [
      "Found 28709 images belonging to 7 classes.\n",
      "Found 7178 images belonging to 7 classes.\n",
      "Train and Validation sets have been created.\n"
     ]
    }
   ],
   "source": [
    "# Perform data\n",
    "\n",
    "'''\n",
    "Data augmentation is a technique to artificially create new training data from existing training data. \n",
    "It helps us to increase the size of the dataset and introduce variability in the dataset.\n",
    "'''\n",
    "# Define the default image size.\n",
    "img_size = 48\n",
    "\n",
    "# Define batch size.\n",
    "batch_size = 32\n",
    "\n",
    "                                         \n",
    "# Train data\n",
    "train_set = datagen_train.flow_from_directory(\n",
    "    directory=train_dir,\n",
    "    target_size=(img_size, img_size),\n",
    "    batch_size=batch_size,\n",
    "    color_mode = 'rgb',\n",
    "    class_mode='categorical',\n",
    "    shuffle=True\n",
    ")\n",
    "\n",
    "# Validation data\n",
    "val_set = datagen_train.flow_from_directory(\n",
    "    directory=val_dir,\n",
    "    target_size=(img_size, img_size),\n",
    "    batch_size=batch_size,\n",
    "    color_mode = 'rgb',\n",
    "    class_mode='categorical',\n",
    "    shuffle=False\n",
    ")\n",
    "\n",
    "\n",
    "print('Train and Validation sets have been created.')"
   ]
  },
  {
   "cell_type": "markdown",
   "metadata": {
    "id": "YNBzIZBDQbAm"
   },
   "source": [
    "**Now lets create our custom CNN model.**"
   ]
  },
  {
   "cell_type": "markdown",
   "metadata": {
    "id": "yOwMRBUFuHnp"
   },
   "source": [
    "# **Build CNN Model:**"
   ]
  },
  {
   "cell_type": "markdown",
   "metadata": {
    "id": "YK5yRfKO2r53"
   },
   "source": [
    "**Before we start building the neural network lets understand some of the terms that we will be using.**\n",
    "\n",
    "* **Model = sequential** : A Sequential model is appropriate for a plain stack of layers where each layer has exactly one input tensor and one output tensor.\n",
    "\n",
    "* **Padding** = The padding parameter of the Keras Conv2D class can take one of two values: 'valid' or 'same'. Setting the value to “valid” parameter means that the input volume is not zero-padded and the spatial dimensions are allowed to reduce via the natural application of convolution.\n",
    "\n",
    "* **Activation** = relu :The rectified linear activation function or ReLU for short is a piecewise linear function that will output the input directly if it is positive, otherwise, it will output zero. It has become the default activation function for many types of neural networks because a model that uses it is easier to train and often achieves better performance.\n",
    "\n",
    "* **Maxpooling** = Maximum pooling, or max pooling, is a pooling operation that calculates the maximum, or largest, value in each patch of each feature map. The results are down sampled or pooled feature maps that highlight the most present feature in the patch, not the average presence of the feature in the case of average pooling.\n",
    "\n",
    "* **Batch normalization** = Batch normalization is a technique for training very deep neural networks that standardizes the inputs to a layer for each mini-batch. This has the effect of stabilizing the learning process and dramatically reducing the number of training epochs required to train deep networks.\n",
    "\n",
    "* **Dropout** = Dropout is a technique used to prevent a model from overfitting. Dropout works by randomly setting the outgoing edges of hidden units (neurons that make up hidden layers) to 0 at each update of the training phase.\n",
    "\n",
    "* **Adam** = Adaptive Moment Estimation is an algorithm for optimization technique for gradient descent. The method is really efficient when working with large problem involving a lot of data or parameters. It requires less memory and is efficient. Intuitively, it is a combination of the ‘gradient descent with momentum’ algorithm and the ‘RMSP’ algorithm. It uses the squared gradients to scale the learning rate like RMSprop and it takes advantage of momentum by using moving average of the gradient instead of gradient itself like SGD with momentum."
   ]
  },
  {
   "cell_type": "code",
   "execution_count": 14,
   "metadata": {
    "executionInfo": {
     "elapsed": 793,
     "status": "ok",
     "timestamp": 1676257380942,
     "user": {
      "displayName": "tuan cuong",
      "userId": "08844748302156682664"
     },
     "user_tz": -420
    },
    "id": "dnxVTMKcGWjd"
   },
   "outputs": [],
   "source": [
    "class VGGNet(Sequential):\n",
    "  def __init__(self, input_shape, num_classes):\n",
    "    super().__init__()\n",
    "\n",
    "    self.add(Conv2D(64, (3, 3), activation='relu', padding='same', input_shape=(48, 48, 3)))\n",
    "    self.add(Conv2D(64, (3, 3), activation='relu', padding='same'))\n",
    "    self.add(MaxPooling2D(pool_size=(2, 2)))\n",
    "\n",
    "    self.add(Conv2D(128, (3, 3), activation='relu', padding='same'))\n",
    "    self.add(MaxPooling2D(pool_size=(2, 2)))\n",
    "\n",
    "    self.add(Conv2D(256, (3, 3), activation='relu', padding='same'))\n",
    "    self.add(MaxPooling2D(pool_size=(2, 2)))\n",
    "\n",
    "    self.add(Flatten())\n",
    "    self.add(Dense(4096, activation='relu'))\n",
    "    self.add(Dropout(0.5))\n",
    "    self.add(Dense(4096, activation='relu'))\n",
    "    self.add(Dropout(0.5))\n",
    "    self.add(Dense(1000, activation='relu'))\n",
    "    self.add(Dropout(0.5))\n",
    "    self.add(Dense(num_classes, activation='softmax'))\n",
    "    opt = SGD(lr=0.01)\n",
    "    self.compile(loss='categorical_crossentropy', optimizer=opt, metrics=['accuracy'])\n",
    "    self.summary()\n"
   ]
  },
  {
   "cell_type": "code",
   "execution_count": 15,
   "metadata": {
    "colab": {
     "base_uri": "https://localhost:8080/"
    },
    "executionInfo": {
     "elapsed": 1478960,
     "status": "ok",
     "timestamp": 1676258872182,
     "user": {
      "displayName": "tuan cuong",
      "userId": "08844748302156682664"
     },
     "user_tz": -420
    },
    "id": "E5PFtI5jumJ4",
    "outputId": "1b192186-6ee1-446b-a021-7737aec7ec4b"
   },
   "outputs": [
    {
     "name": "stdout",
     "output_type": "stream",
     "text": [
      "Epoch 1/20\n",
      "897/897 [==============================] - 84s 83ms/step - loss: 1.8200 - accuracy: 0.2514 - val_loss: 1.8094 - val_accuracy: 0.2475\n",
      "Epoch 2/20\n",
      "897/897 [==============================] - 58s 65ms/step - loss: 1.7912 - accuracy: 0.2544 - val_loss: 1.7920 - val_accuracy: 0.2574\n",
      "Epoch 3/20\n",
      "897/897 [==============================] - 55s 62ms/step - loss: 1.7366 - accuracy: 0.3007 - val_loss: 1.7126 - val_accuracy: 0.3149\n",
      "Epoch 4/20\n",
      "897/897 [==============================] - 54s 60ms/step - loss: 1.6654 - accuracy: 0.3397 - val_loss: 1.6225 - val_accuracy: 0.3657\n",
      "Epoch 5/20\n",
      "897/897 [==============================] - 54s 60ms/step - loss: 1.5938 - accuracy: 0.3784 - val_loss: 1.5906 - val_accuracy: 0.3772\n",
      "Epoch 6/20\n",
      "897/897 [==============================] - 51s 57ms/step - loss: 1.5282 - accuracy: 0.4090 - val_loss: 1.5472 - val_accuracy: 0.3998\n",
      "Epoch 7/20\n",
      "897/897 [==============================] - 54s 60ms/step - loss: 1.4800 - accuracy: 0.4270 - val_loss: 1.4905 - val_accuracy: 0.4289\n",
      "Epoch 8/20\n",
      "897/897 [==============================] - 53s 59ms/step - loss: 1.4324 - accuracy: 0.4452 - val_loss: 1.4409 - val_accuracy: 0.4415\n",
      "Epoch 9/20\n",
      "897/897 [==============================] - 54s 60ms/step - loss: 1.3897 - accuracy: 0.4645 - val_loss: 1.3759 - val_accuracy: 0.4630\n",
      "Epoch 10/20\n",
      "897/897 [==============================] - 53s 59ms/step - loss: 1.3468 - accuracy: 0.4839 - val_loss: 1.3567 - val_accuracy: 0.4679\n",
      "Epoch 11/20\n",
      "897/897 [==============================] - 53s 59ms/step - loss: 1.3031 - accuracy: 0.5009 - val_loss: 1.3035 - val_accuracy: 0.4982\n",
      "Epoch 12/20\n",
      "897/897 [==============================] - 54s 60ms/step - loss: 1.2612 - accuracy: 0.5162 - val_loss: 1.2839 - val_accuracy: 0.5091\n",
      "Epoch 13/20\n",
      "897/897 [==============================] - 54s 60ms/step - loss: 1.2235 - accuracy: 0.5332 - val_loss: 1.2642 - val_accuracy: 0.5243\n",
      "Epoch 14/20\n",
      "897/897 [==============================] - 54s 60ms/step - loss: 1.1849 - accuracy: 0.5489 - val_loss: 1.2415 - val_accuracy: 0.5262\n",
      "Epoch 15/20\n",
      "897/897 [==============================] - 51s 56ms/step - loss: 1.1523 - accuracy: 0.5623 - val_loss: 1.2277 - val_accuracy: 0.5335\n",
      "Epoch 16/20\n",
      "897/897 [==============================] - 54s 60ms/step - loss: 1.1215 - accuracy: 0.5745 - val_loss: 1.1997 - val_accuracy: 0.5381\n",
      "Epoch 17/20\n",
      "897/897 [==============================] - 52s 58ms/step - loss: 1.0891 - accuracy: 0.5870 - val_loss: 1.2198 - val_accuracy: 0.5363\n",
      "Epoch 18/20\n",
      "897/897 [==============================] - 54s 60ms/step - loss: 1.0565 - accuracy: 0.5999 - val_loss: 1.1636 - val_accuracy: 0.5515\n",
      "Epoch 19/20\n",
      "897/897 [==============================] - 54s 60ms/step - loss: 1.0296 - accuracy: 0.6127 - val_loss: 1.1543 - val_accuracy: 0.5654\n",
      "Epoch 20/20\n",
      "897/897 [==============================] - 52s 58ms/step - loss: 1.0058 - accuracy: 0.6237 - val_loss: 1.2742 - val_accuracy: 0.5412\n"
     ]
    }
   ],
   "source": [
    "model = VGGNet((48,48,3),7)\n",
    "\n",
    "epochs = 10\n",
    "steps_per_epoch = train_set.n//train_set.batch_size\n",
    "validation_steps = val_set.n//val_set.batch_size\n",
    "\n",
    "history = model.fit(train_set,\n",
    "                              steps_per_epoch=steps_per_epoch,\n",
    "                              epochs=epochs,\n",
    "                              batch_size = 32,\n",
    "                              validation_data=val_set,\n",
    "                              validation_steps=validation_steps)"
   ]
  },
  {
   "cell_type": "markdown",
   "metadata": {
    "id": "vnmN7X0Lt88s"
   },
   "source": [
    "#Save model"
   ]
  },
  {
   "cell_type": "code",
   "execution_count": 16,
   "metadata": {
    "executionInfo": {
     "elapsed": 662,
     "status": "ok",
     "timestamp": 1676258874557,
     "user": {
      "displayName": "tuan cuong",
      "userId": "08844748302156682664"
     },
     "user_tz": -420
    },
    "id": "uP_BI7vtutIy"
   },
   "outputs": [],
   "source": [
    "model.save_weights('VGGNet_weights.h5')"
   ]
  },
  {
   "cell_type": "markdown",
   "metadata": {
    "id": "oNzk0KhaISG4"
   },
   "source": [
    "# Predict model "
   ]
  },
  {
   "cell_type": "code",
   "execution_count": null,
   "metadata": {
    "colab": {
     "base_uri": "https://localhost:8080/"
    },
    "executionInfo": {
     "elapsed": 1161,
     "status": "ok",
     "timestamp": 1675842971788,
     "user": {
      "displayName": "DAT TRAN TUAN",
      "userId": "05852791585342980378"
     },
     "user_tz": -420
    },
    "id": "eULANQXOIOhU",
    "outputId": "431c7969-30cd-4911-ed61-08941291614d"
   },
   "outputs": [
    {
     "name": "stdout",
     "output_type": "stream",
     "text": [
      "1/1 [==============================] - 1s 647ms/step\n",
      "Angry\n"
     ]
    }
   ],
   "source": [
    "import numpy as np\n",
    "from keras.preprocessing import image\n",
    "label_dict = {0:'Angry',1:'Disgust',2:'Fear',3:'Happy',4:'Neutral',5:'Sad',6:'Surprise'}\n",
    "\n",
    "def predict(img_dir):\n",
    "  img = load_img(img_dir,target_size = (48,48),color_mode = \"rgb\")\n",
    "  img = np.array(img)\n",
    "  img = np.expand_dims(img,axis = 0) # Makes image shape (1,48,48)\n",
    "  img = img.reshape(1,48,48,3)\n",
    "  result = model.predict(img)\n",
    "  result = list(result[0])\n",
    "  img_index = result.index(max(result))\n",
    "  return label_dict[img_index]\n",
    "\n",
    "result = predict(\"/content/test/happy/PrivateTest_10513598.jpg\")\n",
    "print(result)"
   ]
  },
  {
   "cell_type": "markdown",
   "metadata": {
    "id": "HRQ3-GAkutyh"
   },
   "source": [
    "# **Model evaluation:**"
   ]
  },
  {
   "cell_type": "code",
   "execution_count": null,
   "metadata": {
    "id": "xqi6dYuevD74"
   },
   "outputs": [],
   "source": [
    "# Using Tensorboard \n",
    "%tensorboard --logdir logs/fit"
   ]
  },
  {
   "cell_type": "code",
   "execution_count": null,
   "metadata": {
    "id": "OirCn85XRRjJ"
   },
   "outputs": [],
   "source": [
    "# Or using plotting \n",
    "# Create plots for accuracy and loss.\n",
    "fig , ax = plt.subplots(1,2)\n",
    "train_acc = history.history['accuracy']\n",
    "train_loss = history.history['loss']\n",
    "fig.set_size_inches(12,4)\n",
    "\n",
    "ax[0].plot(history.history['accuracy'])\n",
    "ax[0].plot(history.history['val_accuracy'])\n",
    "ax[0].set_title('Training Accuracy vs Validation Accuracy')\n",
    "ax[0].set_ylabel('Accuracy')\n",
    "ax[0].set_xlabel('Epoch')\n",
    "ax[0].legend(['Train', 'Validation'], loc='upper left')\n",
    "\n",
    "ax[1].plot(history.history['loss'])\n",
    "ax[1].plot(history.history['val_loss'])\n",
    "ax[1].set_title('Training Loss vs Validation Loss')\n",
    "ax[1].set_ylabel('Loss')\n",
    "ax[1].set_xlabel('Epoch')\n",
    "ax[1].legend(['Train', 'Validation'], loc='upper left')\n",
    "\n",
    "plt.show()"
   ]
  },
  {
   "cell_type": "code",
   "execution_count": 17,
   "metadata": {
    "colab": {
     "base_uri": "https://localhost:8080/",
     "height": 741
    },
    "executionInfo": {
     "elapsed": 11530,
     "status": "ok",
     "timestamp": 1676259013956,
     "user": {
      "displayName": "tuan cuong",
      "userId": "08844748302156682664"
     },
     "user_tz": -420
    },
    "id": "M_4f0pr_MvTf",
    "outputId": "556c4fe2-d73c-4e90-9488-1cdcebaf19fb"
   },
   "outputs": [
    {
     "data": {
      "text/plain": [
       "<Figure size 432x288 with 0 Axes>"
      ]
     },
     "metadata": {},
     "output_type": "display_data"
    },
    {
     "data": {
      "image/png": "[encoded data removed]",
      "text/plain": [
       "<Figure size 1440x720 with 2 Axes>"
      ]
     },
     "metadata": {
      "needs_background": "light"
     },
     "output_type": "display_data"
    }
   ],
   "source": [
    "# Create confusion matrix of our predictions\n",
    "\n",
    "# compute predictions\n",
    "predictions = model.predict_generator(generator=val_set)\n",
    "y_pred = [np.argmax(probas) for probas in predictions]\n",
    "y_test = val_set.classes\n",
    "class_names = val_set.class_indices.keys()\n",
    "\n",
    "# Create function to plot confussion matrix.\n",
    "def plot_confusion_matrix(cm, classes, title='Confusion matrix', cmap=plt.cm.Blues):\n",
    "    cm = cm.astype('float') / cm.sum(axis=1)[:, np.newaxis]\n",
    "    plt.figure(figsize=(12,6), dpi=120)\n",
    "    plt.imshow(cm, interpolation='nearest', cmap=cmap)\n",
    "    plt.title(title)\n",
    "    plt.colorbar()\n",
    "    tick_marks = np.arange(len(classes))\n",
    "    plt.xticks(tick_marks, classes, rotation=45)\n",
    "    plt.yticks(tick_marks, classes)\n",
    "\n",
    "    fmt = '.2f'\n",
    "    thresh = cm.max() / 2.\n",
    "    for i, j in itertools.product(range(cm.shape[0]), range(cm.shape[1])):\n",
    "        plt.text(j, i, format(cm[i, j], fmt),\n",
    "                 horizontalalignment=\"center\",\n",
    "                 color=\"white\" if cm[i, j] > thresh else \"black\")\n",
    "\n",
    "    plt.ylabel('True label')# **Live Class Monitoring System(Face Emotion Recognition)**\n",
    "    plt.xlabel('Predicted label')\n",
    "    plt.tight_layout()\n",
    "    plt.show()\n",
    "    \n",
    "# Compute confusion matrix\n",
    "cnf_matrix = confusion_matrix(y_test, y_pred)\n",
    "np.set_printoptions(precision=2)\n",
    "\n",
    "# Plot normalized confusion matrix\n",
    "plt.figure()\n",
    "plot_confusion_matrix(cnf_matrix, classes=class_names, title='Normalized confusion matrix')\n",
    "plt.show()"
   ]
  },
  {
   "cell_type": "markdown",
   "metadata": {
    "id": "YpwLo3MOVlo_"
   },
   "source": [
    "## Pretrain Model\n"
   ]
  },
  {
   "cell_type": "markdown",
   "metadata": {
    "id": "V69pX_lbVp0U"
   },
   "source": [
    "Load model:"
   ]
  },
  {
   "cell_type": "markdown",
   "metadata": {
    "id": "tgloycjsVovY"
   },
   "source": [
    "loaded_model = load_model(\"AlexNet_model-100iters.h5\")\n",
    "loaded_model.load_weights(\"AlexNet_model_weights-100iters.h5\")"
   ]
  }
 ],
 "metadata": {
  "accelerator": "GPU",
  "colab": {
   "collapsed_sections": [
    "URwdYfsiMltF",
    "g5RpZlMkPGG2"
   ],
   "provenance": [
    {
     "file_id": "1FoptFWyIqp53HXsot65kNsndN85uJLce",
     "timestamp": 1675585468393
    },
    {
     "file_id": "1vaz1tUJkzsBwROz1_ZNEe8G6KbWWX-3X",
     "timestamp": 1675563684398
    }
   ]
  },
  "gpuClass": "standard",
  "kernelspec": {
   "display_name": "Python 3 (ipykernel)",
   "language": "python",
   "name": "python3"
  },
  "language_info": {
   "codemirror_mode": {
    "name": "ipython",
    "version": 3
   },
   "file_extension": ".py",
   "mimetype": "text/x-python",
   "name": "python",
   "nbconvert_exporter": "python",
   "pygments_lexer": "ipython3",
   "version": "3.8.0"
  }
 },
 "nbformat": 4,
 "nbformat_minor": 1
}
