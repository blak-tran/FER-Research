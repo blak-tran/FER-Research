{
 "cells": [
  {
   "cell_type": "markdown",
   "metadata": {
    "id": "view-in-github"
   },
   "source": [
    "<a href=\"https://colab.research.google.com/github/anishjohnson/Face-Emotion-Recognition/blob/main/FER/Colab%20Notebook/Face_Emotion_Recognition_Anish_Johnson.ipynb\" target=\"_parent\"><img src=\"https://colab.research.google.com/assets/colab-badge.svg\" alt=\"Open In Colab\"/></a>"
   ]
  },
  {
   "cell_type": "markdown",
   "metadata": {
    "id": "URwdYfsiMltF"
   },
   "source": [
    "# **Face Emotion Recognition**\n",
    "\n",
    "\n",
    "\n",
    "\n",
    "\n",
    "\n",
    "\n",
    "\n"
   ]
  },
  {
   "cell_type": "markdown",
   "metadata": {
    "id": "g5RpZlMkPGG2"
   },
   "source": [
    "# **Objective**\n",
    "Our objective is to solve the above mentioned challenge by applying deep learning algorithms to live video data inorder to recognize the facial emotions and categorize them accordingly."
   ]
  },
  {
   "cell_type": "markdown",
   "metadata": {
    "id": "9AGaR26YPV--"
   },
   "source": [
    "# **Dataset used**\n",
    "We have utilized the [FER 2013](https://www.kaggle.com/datasets/msambare/fer2013) dataset provided on Kaggle.<br>\n",
    "The data consists of 48x48 pixel grayscale images of faces. The faces have been automatically registered so that the face is more or less centred and occupies about the same amount of space in each image.<br>\n",
    "\n",
    "The task is to categorize each face based on the emotion shown in the facial expression into one of seven categories (0=Angry, 1=Disgust, 2=Fear, 3=Happy, 4=Sad, 5=Surprise, 6=Neutral). The training set consists of 28,709 examples and the public test set consists of 3,589 examples."
   ]
  },
  {
   "cell_type": "code",
   "execution_count": 1,
   "metadata": {
    "colab": {
     "base_uri": "https://localhost:8080/"
    },
    "executionInfo": {
     "elapsed": 1351,
     "status": "ok",
     "timestamp": 1676186325531,
     "user": {
      "displayName": "DAT TRAN TUAN",
      "userId": "05852791585342980378"
     },
     "user_tz": -420
    },
    "id": "gVjAMoriVm5s",
    "outputId": "1d5e44c9-6ffd-4f1d-a5d5-a9b4da738645"
   },
   "outputs": [
    {
     "name": "stdout",
     "output_type": "stream",
     "text": [
      "Mon Mar 20 10:03:29 2023       \n",
      "+-----------------------------------------------------------------------------+\n",
      "| NVIDIA-SMI 528.33       Driver Version: 528.33       CUDA Version: 12.0     |\n",
      "|-------------------------------+----------------------+----------------------+\n",
      "| GPU  Name            TCC/WDDM | Bus-Id        Disp.A | Volatile Uncorr. ECC |\n",
      "| Fan  Temp  Perf  Pwr:Usage/Cap|         Memory-Usage | GPU-Util  Compute M. |\n",
      "|                               |                      |               MIG M. |\n",
      "|===============================+======================+======================|\n",
      "|   0  NVIDIA GeForce ... WDDM  | 00000000:01:00.0 Off |                  N/A |\n",
      "| N/A   39C    P8     8W /  30W |      0MiB /  6144MiB |      0%      Default |\n",
      "|                               |                      |                  N/A |\n",
      "+-------------------------------+----------------------+----------------------+\n",
      "                                                                               \n",
      "+-----------------------------------------------------------------------------+\n",
      "| Processes:                                                                  |\n",
      "|  GPU   GI   CI        PID   Type   Process name                  GPU Memory |\n",
      "|        ID   ID                                                   Usage      |\n",
      "|=============================================================================|\n",
      "|  No running processes found                                                 |\n",
      "+-----------------------------------------------------------------------------+\n",
      "nvcc: NVIDIA (R) Cuda compiler driver\n",
      "Copyright (c) 2005-2023 NVIDIA Corporation\n",
      "Built on Fri_Jan__6_19:04:39_Pacific_Standard_Time_2023\n",
      "Cuda compilation tools, release 12.0, V12.0.140\n",
      "Build cuda_12.0.r12.0/compiler.32267302_0\n"
     ]
    }
   ],
   "source": [
    "!nvidia-smi\n",
    "!nvcc -V"
   ]
  },
  {
   "cell_type": "markdown",
   "metadata": {
    "id": "mKaCCukeQGGv"
   },
   "source": [
    "### **Let's Begin:**"
   ]
  },
  {
   "cell_type": "markdown",
   "metadata": {
    "id": "n2QTffm_tEDK"
   },
   "source": [
    "# **Data Exploration:**"
   ]
  },
  {
   "cell_type": "markdown",
   "metadata": {
    "id": "5py4G2_K3R3Y"
   },
   "source": [
    "**Lets start by importing the required libraries.**"
   ]
  },
  {
   "cell_type": "code",
   "execution_count": 2,
   "metadata": {
    "colab": {
     "base_uri": "https://localhost:8080/"
    },
    "executionInfo": {
     "elapsed": 3105,
     "status": "ok",
     "timestamp": 1676186328634,
     "user": {
      "displayName": "DAT TRAN TUAN",
      "userId": "05852791585342980378"
     },
     "user_tz": -420
    },
    "id": "OheLkRm1DJ3a",
    "outputId": "b7d82422-cbe0-4338-d46d-9e7bc684fc42"
   },
   "outputs": [
    {
     "name": "stdout",
     "output_type": "stream",
     "text": [
      "Above libraries have been imported.\n"
     ]
    }
   ],
   "source": [
    "# Basic python libraries.\n",
    "import datetime\n",
    "import numpy as np\n",
    "import os\n",
    "import tensorflow\n",
    "import matplotlib.pyplot as plt\n",
    "from tqdm import tqdm\n",
    "from PIL import Image\n",
    "import itertools\n",
    "\n",
    "# Get rid of warnings!\n",
    "import warnings\n",
    "warnings.filterwarnings('ignore')\n",
    "\n",
    "# Deep learning libraries.\n",
    "from sklearn.metrics import confusion_matrix\n",
    "from tensorflow.keras import Model\n",
    "from tensorflow.keras.models import load_model\n",
    "from tensorflow.keras.preprocessing.image import load_img, img_to_array, ImageDataGenerator\n",
    "from tensorflow.keras.utils import plot_model\n",
    "from tensorflow.keras.models import Sequential\n",
    "from tensorflow.keras.utils import to_categorical\n",
    "from tensorflow.keras.losses import categorical_crossentropy\n",
    "from tensorflow.keras.layers import Dense, Flatten, Conv2D, MaxPooling2D, Dropout, AveragePooling2D\n",
    "from tensorflow.keras.optimizers import SGD, schedules\n",
    "from tensorflow.keras.callbacks import TensorBoard, ModelCheckpoint\n",
    "\n",
    "print('Above libraries have been imported.')"
   ]
  },
  {
   "cell_type": "markdown",
   "metadata": {
    "id": "nKEJMNa45tfB"
   },
   "source": [
    "**Seperate the Training and Validation Data.**"
   ]
  },
  {
   "cell_type": "code",
   "execution_count": 3,
   "metadata": {
    "id": "lKpeEhrw5sSN"
   },
   "outputs": [],
   "source": [
    "# Define the train and validataion data paths.\n",
    "train_dir = '../../dataset/train'\n",
    "val_dir = '../../dataset/val'"
   ]
  },
  {
   "cell_type": "code",
   "execution_count": 4,
   "metadata": {
    "colab": {
     "base_uri": "https://localhost:8080/",
     "height": 169
    },
    "executionInfo": {
     "elapsed": 2273,
     "status": "ok",
     "timestamp": 1676186397104,
     "user": {
      "displayName": "DAT TRAN TUAN",
      "userId": "05852791585342980378"
     },
     "user_tz": -420
    },
    "id": "3bzIXm5UjD-p",
    "outputId": "61ddf88e-3aaa-49e8-af06-95654241b29a"
   },
   "outputs": [
    {
     "data": {
      "image/png": "[encoded data removed]",
      "text/plain": [
       "<Figure size 1800x2200 with 7 Axes>"
      ]
     },
     "metadata": {},
     "output_type": "display_data"
    }
   ],
   "source": [
    "# Define the default image size.\n",
    "img_size = 48\n",
    "\n",
    "# Define the seven emotions provided in dataset.\n",
    "emotion_list = ['angry', 'disgust', 'fear', 'happy', 'sad', 'surprise', 'neutral']\n",
    "\n",
    "# Plot the images with each distinct emotions.\n",
    "plt.figure(figsize=(18,22))\n",
    "i = 1\n",
    "for expression in emotion_list:\n",
    "    img = load_img((train_dir + '/' + expression +'/'+ os.listdir(train_dir + '/' + expression)[59]))\n",
    "    plt.subplot(1,7,i)\n",
    "    plt.imshow(img)\n",
    "    plt.title(expression)\n",
    "    plt.axis('off')\n",
    "    i += 1\n",
    "plt.show()"
   ]
  },
  {
   "cell_type": "markdown",
   "metadata": {
    "id": "_Duo9uIT3PV6"
   },
   "source": [
    "**Have a look at our data.**"
   ]
  },
  {
   "cell_type": "markdown",
   "metadata": {
    "id": "UNCuMOZrGkcx"
   },
   "source": [
    "**Perform some Data Augmentation on train and validations sets.**"
   ]
  },
  {
   "cell_type": "code",
   "execution_count": 5,
   "metadata": {
    "id": "W5qezqUmBdrx"
   },
   "outputs": [],
   "source": [
    "def random_crop(img, random_crop_size):\n",
    "    # Note: image_data_format is 'channel_last'\n",
    "    # SOURCE: https://jkjung-avt.github.io/keras-image-cropping/\n",
    "    assert img.shape[2] == 3\n",
    "    height, width = img.shape[0], img.shape[1]\n",
    "    dy, dx = random_crop_size\n",
    "    x = np.random.randint(0, width - dx + 1)\n",
    "    y = np.random.randint(0, height - dy + 1)\n",
    "    return img[y:(y+dy), x:(x+dx), :]"
   ]
  },
  {
   "cell_type": "markdown",
   "metadata": {
    "id": "vvy5uusVtMAh"
   },
   "source": [
    "# **Data Preprocessing:**"
   ]
  },
  {
   "cell_type": "code",
   "execution_count": 6,
   "metadata": {
    "colab": {
     "base_uri": "https://localhost:8080/"
    },
    "executionInfo": {
     "elapsed": 20,
     "status": "ok",
     "timestamp": 1676186397105,
     "user": {
      "displayName": "DAT TRAN TUAN",
      "userId": "05852791585342980378"
     },
     "user_tz": -420
    },
    "id": "NnZfATJ1GW5T",
    "outputId": "88604ab0-4713-4704-9b41-1e49c65c013a"
   },
   "outputs": [
    {
     "name": "stdout",
     "output_type": "stream",
     "text": [
      "Above data generator functions have been created.\n"
     ]
    }
   ],
   "source": [
    "# Rescale the data.\n",
    "'''\n",
    "Before we proceed we need to rescale our data by multiplying it to 1/255.\n",
    "This is done so we get target values between 0 and 1.\n",
    "'''\n",
    "# Rescale train data.\n",
    "datagen_train = ImageDataGenerator(\n",
    "    rescale=1./255,\n",
    "    shear_range=0.2,\n",
    "    zoom_range=0.2,\n",
    "    horizontal_flip=True\n",
    ")\n",
    "\n",
    "# Rescale validation data.\n",
    "datagen_val = ImageDataGenerator(rescale = 1./255,\n",
    "                                 )\n",
    "\n",
    "print('Above data generator functions have been created.')"
   ]
  },
  {
   "cell_type": "code",
   "execution_count": 7,
   "metadata": {
    "colab": {
     "base_uri": "https://localhost:8080/"
    },
    "executionInfo": {
     "elapsed": 519,
     "status": "ok",
     "timestamp": 1676186397607,
     "user": {
      "displayName": "DAT TRAN TUAN",
      "userId": "05852791585342980378"
     },
     "user_tz": -420
    },
    "id": "pfQSzCIDGWvq",
    "outputId": "3439a3ed-c3a3-4770-9a55-938a8a8f01a6"
   },
   "outputs": [
    {
     "name": "stdout",
     "output_type": "stream",
     "text": [
      "Found 28709 images belonging to 7 classes.\n",
      "Found 7178 images belonging to 7 classes.\n",
      "Train and Validation sets have been created.\n"
     ]
    }
   ],
   "source": [
    "# Perform data augmentation.\n",
    "'''\n",
    "Data augmentation is a technique to artificially create new training data from existing training data. \n",
    "It helps us to increase the size of the dataset and introduce variability in the dataset.\n",
    "'''\n",
    "# Define the default image size.\n",
    "img_size = 48\n",
    "\n",
    "# Define batch size.\n",
    "batch_size = 32\n",
    "\n",
    "                                         \n",
    "# Train data\n",
    "train_set = datagen_train.flow_from_directory(\n",
    "    directory=train_dir,\n",
    "    target_size=(img_size, img_size),\n",
    "    batch_size=batch_size,\n",
    "    class_mode='categorical',\n",
    "    shuffle=True\n",
    ")\n",
    "\n",
    "# Validation data\n",
    "val_set = datagen_train.flow_from_directory(\n",
    "    directory=val_dir,\n",
    "    target_size=(img_size, img_size),\n",
    "    batch_size=batch_size,\n",
    "    class_mode='categorical',\n",
    "    shuffle=False\n",
    ")\n",
    "\n",
    "\n",
    "print('Train and Validation sets have been created.')"
   ]
  },
  {
   "cell_type": "markdown",
   "metadata": {
    "id": "YNBzIZBDQbAm"
   },
   "source": [
    "**Now lets create our custom CNN model.**"
   ]
  },
  {
   "cell_type": "markdown",
   "metadata": {
    "id": "yOwMRBUFuHnp"
   },
   "source": [
    "# **Build CNN Model:**"
   ]
  },
  {
   "cell_type": "markdown",
   "metadata": {
    "id": "YK5yRfKO2r53"
   },
   "source": [
    "**Before we start building the neural network lets understand some of the terms that we will be using.**\n",
    "\n",
    "* **Model = sequential** : A Sequential model is appropriate for a plain stack of layers where each layer has exactly one input tensor and one output tensor.\n",
    "\n",
    "* **Padding** = The padding parameter of the Keras Conv2D class can take one of two values: 'valid' or 'same'. Setting the value to “valid” parameter means that the input volume is not zero-padded and the spatial dimensions are allowed to reduce via the natural application of convolution.\n",
    "\n",
    "* **Activation** = relu :The rectified linear activation function or ReLU for short is a piecewise linear function that will output the input directly if it is positive, otherwise, it will output zero. It has become the default activation function for many types of neural networks because a model that uses it is easier to train and often achieves better performance.\n",
    "\n",
    "* **Maxpooling** = Maximum pooling, or max pooling, is a pooling operation that calculates the maximum, or largest, value in each patch of each feature map. The results are down sampled or pooled feature maps that highlight the most present feature in the patch, not the average presence of the feature in the case of average pooling.\n",
    "\n",
    "* **Batch normalization** = Batch normalization is a technique for training very deep neural networks that standardizes the inputs to a layer for each mini-batch. This has the effect of stabilizing the learning process and dramatically reducing the number of training epochs required to train deep networks.\n",
    "\n",
    "* **Dropout** = Dropout is a technique used to prevent a model from overfitting. Dropout works by randomly setting the outgoing edges of hidden units (neurons that make up hidden layers) to 0 at each update of the training phase.\n",
    "\n",
    "* **Adam** = Adaptive Moment Estimation is an algorithm for optimization technique for gradient descent. The method is really efficient when working with large problem involving a lot of data or parameters. It requires less memory and is efficient. Intuitively, it is a combination of the ‘gradient descent with momentum’ algorithm and the ‘RMSP’ algorithm. It uses the squared gradients to scale the learning rate like RMSprop and it takes advantage of momentum by using moving average of the gradient instead of gradient itself like SGD with momentum."
   ]
  },
  {
   "cell_type": "code",
   "execution_count": 8,
   "metadata": {},
   "outputs": [],
   "source": [
    "# Learning rate config per the He et al. paper\n",
    "boundaries = [32000, 48000]\n",
    "values = [0.1, 0.01, 0.001]\n",
    "lr_schedule = schedules.PiecewiseConstantDecay(boundaries, values)\n",
    "\n",
    "loss = tensorflow.keras.losses.CategoricalCrossentropy(from_logits=True)\n",
    "\n",
    "# Define optimizer\n",
    "optimizer_momentum = 0.9\n",
    "optimizer_additional_metrics = [\"accuracy\"]\n",
    "optimizer = SGD(learning_rate=lr_schedule, momentum=optimizer_momentum)\n"
   ]
  },
  {
   "cell_type": "code",
   "execution_count": 9,
   "metadata": {
    "id": "dnxVTMKcGWjd"
   },
   "outputs": [],
   "source": [
    "class AlexNet(Sequential):\n",
    "  def __init__(self, input_shape, num_classes, dropout_rate=0.5):\n",
    "    super().__init__()\n",
    "\n",
    "    self.add(Conv2D(64, kernel_size = (3,3),\n",
    "                    strides= 2, \n",
    "                    padding = 'valid', \n",
    "                    activation = 'relu',\n",
    "                    input_shape= input_shape,\n",
    "                    kernel_initializer= 'he_normal'\n",
    "                    ))\n",
    "    \n",
    "    self.add(MaxPooling2D(pool_size=(3,3), \n",
    "                          strides= (2,2),\n",
    "                          padding= 'valid', \n",
    "                          data_format= None))\n",
    "    \n",
    "\n",
    "    self.add(Conv2D(128, kernel_size=(3,3), \n",
    "                    strides= 1,\n",
    "                    padding= 'same', \n",
    "                    activation= 'relu',\n",
    "                    kernel_initializer= 'he_normal'))\n",
    "    \n",
    "    self.add(MaxPooling2D(pool_size=(3,3), \n",
    "                          strides= (2,2),\n",
    "                          padding= 'valid', \n",
    "                          data_format= None)) \n",
    "\n",
    "\n",
    "    self.add(Conv2D(256, kernel_size=(3,3), \n",
    "                    strides= 1,\n",
    "                    padding= 'same', activation= 'relu',\n",
    "                        kernel_initializer= 'he_normal'))\n",
    "\n",
    "    self.add(MaxPooling2D(pool_size=(2,2), \n",
    "                          strides= (2,2),\n",
    "                          padding= 'valid', \n",
    "                          data_format= None))\n",
    "\n",
    "\n",
    "    self.add(Flatten())\n",
    "    self.add(Dense(4096, activation= 'relu'))\n",
    "    self.add(Dropout(dropout_rate))\n",
    "    self.add(Dense(4096, activation= 'relu'))\n",
    "    self.add(Dropout(dropout_rate))\n",
    "    self.add(Dense(num_classes, activation= 'softmax'))\n",
    "\n",
    "    opt = SGD(lr=0.01)\n",
    "    self.compile(loss='categorical_crossentropy', optimizer=opt, metrics=['accuracy'])\n"
   ]
  },
  {
   "cell_type": "code",
   "execution_count": null,
   "metadata": {
    "colab": {
     "base_uri": "https://localhost:8080/"
    },
    "executionInfo": {
     "elapsed": 751771,
     "status": "ok",
     "timestamp": 1676187159371,
     "user": {
      "displayName": "DAT TRAN TUAN",
      "userId": "05852791585342980378"
     },
     "user_tz": -420
    },
    "id": "RkgDCp9csotr",
    "outputId": "3f0e7591-2e61-4f84-aaad-2b3a6ff07995"
   },
   "outputs": [
    {
     "name": "stdout",
     "output_type": "stream",
     "text": [
      "Epoch 1/200\n",
      "897/897 [==============================] - 224s 240ms/step - loss: 1.8186 - accuracy: 0.2452 - val_loss: 1.7782 - val_accuracy: 0.2577\n",
      "Epoch 2/200\n",
      "897/897 [==============================] - 34s 38ms/step - loss: 1.7719 - accuracy: 0.2729 - val_loss: 1.7273 - val_accuracy: 0.3108\n",
      "Epoch 3/200\n",
      "897/897 [==============================] - 34s 37ms/step - loss: 1.7146 - accuracy: 0.3149 - val_loss: 1.6544 - val_accuracy: 0.3559\n",
      "Epoch 4/200\n",
      "897/897 [==============================] - 34s 38ms/step - loss: 1.6554 - accuracy: 0.3477 - val_loss: 1.6099 - val_accuracy: 0.3722\n",
      "Epoch 5/200\n",
      "897/897 [==============================] - 34s 38ms/step - loss: 1.6036 - accuracy: 0.3734 - val_loss: 1.5511 - val_accuracy: 0.4043\n",
      "Epoch 6/200\n",
      "897/897 [==============================] - 35s 38ms/step - loss: 1.5639 - accuracy: 0.3917 - val_loss: 1.5551 - val_accuracy: 0.3954\n",
      "Epoch 7/200\n",
      "897/897 [==============================] - 34s 38ms/step - loss: 1.5236 - accuracy: 0.4127 - val_loss: 1.4670 - val_accuracy: 0.4436\n",
      "Epoch 8/200\n",
      "897/897 [==============================] - 34s 38ms/step - loss: 1.4901 - accuracy: 0.4267 - val_loss: 1.4504 - val_accuracy: 0.4473\n",
      "Epoch 9/200\n",
      "897/897 [==============================] - 34s 38ms/step - loss: 1.4619 - accuracy: 0.4374 - val_loss: 1.4306 - val_accuracy: 0.4515\n",
      "Epoch 10/200\n",
      "897/897 [==============================] - 34s 38ms/step - loss: 1.4388 - accuracy: 0.4473 - val_loss: 1.4379 - val_accuracy: 0.4581\n",
      "Epoch 11/200\n",
      "897/897 [==============================] - 34s 38ms/step - loss: 1.4149 - accuracy: 0.4591 - val_loss: 1.3951 - val_accuracy: 0.4700\n",
      "Epoch 12/200\n",
      "897/897 [==============================] - 34s 38ms/step - loss: 1.3908 - accuracy: 0.4715 - val_loss: 1.3644 - val_accuracy: 0.4817\n",
      "Epoch 13/200\n",
      "897/897 [==============================] - 34s 38ms/step - loss: 1.3707 - accuracy: 0.4791 - val_loss: 1.3630 - val_accuracy: 0.4837\n",
      "Epoch 14/200\n",
      "897/897 [==============================] - 35s 39ms/step - loss: 1.3547 - accuracy: 0.4830 - val_loss: 1.3410 - val_accuracy: 0.4925\n",
      "Epoch 15/200\n",
      "897/897 [==============================] - 35s 39ms/step - loss: 1.3402 - accuracy: 0.4882 - val_loss: 1.3324 - val_accuracy: 0.4881\n",
      "Epoch 16/200\n",
      "897/897 [==============================] - 35s 39ms/step - loss: 1.3256 - accuracy: 0.4942 - val_loss: 1.3147 - val_accuracy: 0.5004\n",
      "Epoch 17/200\n",
      "897/897 [==============================] - 35s 38ms/step - loss: 1.3103 - accuracy: 0.5014 - val_loss: 1.2987 - val_accuracy: 0.5049\n",
      "Epoch 18/200\n",
      "897/897 [==============================] - 34s 38ms/step - loss: 1.2966 - accuracy: 0.5083 - val_loss: 1.3111 - val_accuracy: 0.5040\n",
      "Epoch 19/200\n",
      "897/897 [==============================] - 34s 37ms/step - loss: 1.2813 - accuracy: 0.5137 - val_loss: 1.2906 - val_accuracy: 0.5022\n",
      "Epoch 20/200\n",
      "897/897 [==============================] - 34s 38ms/step - loss: 1.2743 - accuracy: 0.5146 - val_loss: 1.2797 - val_accuracy: 0.5114\n",
      "Epoch 21/200\n",
      "897/897 [==============================] - 34s 38ms/step - loss: 1.2620 - accuracy: 0.5201 - val_loss: 1.2616 - val_accuracy: 0.5153\n",
      "Epoch 22/200\n",
      "897/897 [==============================] - 34s 38ms/step - loss: 1.2482 - accuracy: 0.5275 - val_loss: 1.2625 - val_accuracy: 0.5153\n",
      "Epoch 23/200\n",
      "897/897 [==============================] - 34s 38ms/step - loss: 1.2413 - accuracy: 0.5293 - val_loss: 1.2548 - val_accuracy: 0.5198\n",
      "Epoch 24/200\n",
      "897/897 [==============================] - 34s 38ms/step - loss: 1.2293 - accuracy: 0.5332 - val_loss: 1.2552 - val_accuracy: 0.5211\n",
      "Epoch 25/200\n",
      "897/897 [==============================] - 34s 38ms/step - loss: 1.2210 - accuracy: 0.5378 - val_loss: 1.2434 - val_accuracy: 0.5229\n",
      "Epoch 26/200\n",
      "897/897 [==============================] - 35s 39ms/step - loss: 1.2132 - accuracy: 0.5420 - val_loss: 1.2257 - val_accuracy: 0.5343\n",
      "Epoch 27/200\n",
      "897/897 [==============================] - 35s 39ms/step - loss: 1.2049 - accuracy: 0.5418 - val_loss: 1.2440 - val_accuracy: 0.5247\n",
      "Epoch 28/200\n",
      "897/897 [==============================] - 34s 38ms/step - loss: 1.1917 - accuracy: 0.5505 - val_loss: 1.2105 - val_accuracy: 0.5372\n",
      "Epoch 29/200\n",
      "897/897 [==============================] - 35s 39ms/step - loss: 1.1850 - accuracy: 0.5542 - val_loss: 1.2169 - val_accuracy: 0.5319\n",
      "Epoch 30/200\n",
      "897/897 [==============================] - 35s 39ms/step - loss: 1.1743 - accuracy: 0.5559 - val_loss: 1.2149 - val_accuracy: 0.5384\n",
      "Epoch 31/200\n",
      "897/897 [==============================] - 35s 39ms/step - loss: 1.1698 - accuracy: 0.5563 - val_loss: 1.1981 - val_accuracy: 0.5465\n",
      "Epoch 32/200\n",
      "897/897 [==============================] - 35s 38ms/step - loss: 1.1631 - accuracy: 0.5615 - val_loss: 1.2309 - val_accuracy: 0.5375\n",
      "Epoch 33/200\n",
      "897/897 [==============================] - 35s 39ms/step - loss: 1.1538 - accuracy: 0.5646 - val_loss: 1.2125 - val_accuracy: 0.5455\n",
      "Epoch 34/200\n",
      "897/897 [==============================] - 35s 38ms/step - loss: 1.1466 - accuracy: 0.5663 - val_loss: 1.1855 - val_accuracy: 0.5483\n",
      "Epoch 35/200\n",
      "897/897 [==============================] - 35s 39ms/step - loss: 1.1429 - accuracy: 0.5684 - val_loss: 1.2129 - val_accuracy: 0.5402\n",
      "Epoch 36/200\n",
      "897/897 [==============================] - 34s 38ms/step - loss: 1.1309 - accuracy: 0.5725 - val_loss: 1.1932 - val_accuracy: 0.5446\n",
      "Epoch 37/200\n",
      "897/897 [==============================] - 35s 39ms/step - loss: 1.1254 - accuracy: 0.5756 - val_loss: 1.1901 - val_accuracy: 0.5515\n",
      "Epoch 38/200\n",
      "897/897 [==============================] - 35s 39ms/step - loss: 1.1194 - accuracy: 0.5774 - val_loss: 1.1774 - val_accuracy: 0.5590\n",
      "Epoch 39/200\n",
      "897/897 [==============================] - 38s 42ms/step - loss: 1.1146 - accuracy: 0.5796 - val_loss: 1.1664 - val_accuracy: 0.5590\n",
      "Epoch 40/200\n",
      "897/897 [==============================] - 39s 43ms/step - loss: 1.1051 - accuracy: 0.5838 - val_loss: 1.1824 - val_accuracy: 0.5557\n",
      "Epoch 41/200\n",
      "897/897 [==============================] - 39s 43ms/step - loss: 1.1022 - accuracy: 0.5837 - val_loss: 1.1703 - val_accuracy: 0.5569\n",
      "Epoch 42/200\n",
      "897/897 [==============================] - 38s 42ms/step - loss: 1.0933 - accuracy: 0.5883 - val_loss: 1.1740 - val_accuracy: 0.5539\n",
      "Epoch 43/200\n",
      "897/897 [==============================] - 35s 38ms/step - loss: 1.0896 - accuracy: 0.5894 - val_loss: 1.1518 - val_accuracy: 0.5654\n",
      "Epoch 44/200\n",
      "897/897 [==============================] - 35s 39ms/step - loss: 1.0846 - accuracy: 0.5911 - val_loss: 1.1688 - val_accuracy: 0.5628\n",
      "Epoch 45/200\n",
      "897/897 [==============================] - 37s 41ms/step - loss: 1.0788 - accuracy: 0.5927 - val_loss: 1.1736 - val_accuracy: 0.5660\n",
      "Epoch 46/200\n",
      "897/897 [==============================] - 35s 39ms/step - loss: 1.0758 - accuracy: 0.5969 - val_loss: 1.1626 - val_accuracy: 0.5635\n",
      "Epoch 47/200\n",
      "897/897 [==============================] - 36s 40ms/step - loss: 1.0629 - accuracy: 0.6014 - val_loss: 1.1823 - val_accuracy: 0.5586\n",
      "Epoch 48/200\n",
      "897/897 [==============================] - 35s 39ms/step - loss: 1.0607 - accuracy: 0.6017 - val_loss: 1.1765 - val_accuracy: 0.5575\n",
      "Epoch 49/200\n",
      "897/897 [==============================] - 36s 40ms/step - loss: 1.0541 - accuracy: 0.6016 - val_loss: 1.1625 - val_accuracy: 0.5706\n",
      "Epoch 50/200\n",
      "897/897 [==============================] - 35s 38ms/step - loss: 1.0496 - accuracy: 0.6033 - val_loss: 1.1494 - val_accuracy: 0.5713\n",
      "Epoch 51/200\n",
      "897/897 [==============================] - 35s 39ms/step - loss: 1.0433 - accuracy: 0.6074 - val_loss: 1.1609 - val_accuracy: 0.5664\n",
      "Epoch 52/200\n",
      "897/897 [==============================] - 35s 39ms/step - loss: 1.0339 - accuracy: 0.6111 - val_loss: 1.1621 - val_accuracy: 0.5675\n",
      "Epoch 53/200\n",
      "897/897 [==============================] - 37s 41ms/step - loss: 1.0277 - accuracy: 0.6152 - val_loss: 1.1523 - val_accuracy: 0.5737\n",
      "Epoch 54/200\n",
      "897/897 [==============================] - 37s 41ms/step - loss: 1.0248 - accuracy: 0.6166 - val_loss: 1.1597 - val_accuracy: 0.5635\n",
      "Epoch 55/200\n",
      "897/897 [==============================] - 37s 41ms/step - loss: 1.0175 - accuracy: 0.6151 - val_loss: 1.1583 - val_accuracy: 0.5744\n",
      "Epoch 56/200\n",
      "897/897 [==============================] - 37s 42ms/step - loss: 1.0169 - accuracy: 0.6157 - val_loss: 1.1476 - val_accuracy: 0.5664\n",
      "Epoch 57/200\n"
     ]
    },
    {
     "name": "stdout",
     "output_type": "stream",
     "text": [
      "897/897 [==============================] - 36s 40ms/step - loss: 1.0063 - accuracy: 0.6207 - val_loss: 1.1690 - val_accuracy: 0.5646\n",
      "Epoch 58/200\n",
      "897/897 [==============================] - 35s 38ms/step - loss: 1.0017 - accuracy: 0.6220 - val_loss: 1.1692 - val_accuracy: 0.5681\n",
      "Epoch 59/200\n",
      "897/897 [==============================] - 38s 42ms/step - loss: 1.0010 - accuracy: 0.6219 - val_loss: 1.1566 - val_accuracy: 0.5667\n",
      "Epoch 60/200\n",
      "897/897 [==============================] - 38s 43ms/step - loss: 0.9914 - accuracy: 0.6233 - val_loss: 1.1462 - val_accuracy: 0.5763\n",
      "Epoch 61/200\n",
      "897/897 [==============================] - 36s 40ms/step - loss: 0.9830 - accuracy: 0.6296 - val_loss: 1.1564 - val_accuracy: 0.5746\n",
      "Epoch 62/200\n",
      "897/897 [==============================] - 34s 38ms/step - loss: 0.9813 - accuracy: 0.6302 - val_loss: 1.1430 - val_accuracy: 0.5798\n",
      "Epoch 63/200\n",
      "897/897 [==============================] - 35s 39ms/step - loss: 0.9761 - accuracy: 0.6336 - val_loss: 1.1294 - val_accuracy: 0.5837\n",
      "Epoch 64/200\n",
      "897/897 [==============================] - 35s 39ms/step - loss: 0.9713 - accuracy: 0.6357 - val_loss: 1.1427 - val_accuracy: 0.5756\n",
      "Epoch 65/200\n",
      "156/897 [====>.........................] - ETA: 24s - loss: 0.9583 - accuracy: 0.6400"
     ]
    }
   ],
   "source": [
    "model = AlexNet((48,48,3),7)\n",
    "\n",
    "epochs = 200\n",
    "steps_per_epoch = train_set.n//train_set.batch_size\n",
    "validation_steps = val_set.n//val_set.batch_size\n",
    "\n",
    "history = model.fit(train_set,\n",
    "                              steps_per_epoch=steps_per_epoch,\n",
    "                              epochs=epochs,\n",
    "                              batch_size = 128, \n",
    "                              validation_data=val_set,\n",
    "                              validation_steps=validation_steps,\n",
    "                            )"
   ]
  },
  {
   "cell_type": "markdown",
   "metadata": {
    "id": "vnmN7X0Lt88s"
   },
   "source": [
    "#Save model"
   ]
  },
  {
   "cell_type": "code",
   "execution_count": 39,
   "metadata": {
    "id": "K1WdFN3cXW8Q"
   },
   "outputs": [],
   "source": [
    "model_dir = \"AlexNetnew_model_200.h5\"\n",
    "model_weights_dir = \"AlexNetnew_model_weighs_200.h5\""
   ]
  },
  {
   "cell_type": "code",
   "execution_count": 40,
   "metadata": {
    "id": "PQlkFuj_t8II"
   },
   "outputs": [],
   "source": [
    "# Save the whole model\n",
    "model.save(model_dir)\n",
    "model.save_weights(model_weights_dir)"
   ]
  },
  {
   "cell_type": "code",
   "execution_count": null,
   "metadata": {},
   "outputs": [],
   "source": [
    "checkpoint_path = \"model_weights/AlexNetnew_model_weighs_100.h5\"\n",
    "model_loaded = AlexNet((48,48,3),7)\n",
    "model_loaded.load_weights(checkpoint_path)\n",
    "\n",
    "history = model_loaded.fit_generator(\n",
    "    train_set,\n",
    "    steps_per_epoch=len(train_set),\n",
    "    epochs=100,\n",
    "    validation_data=val_set,\n",
    "    validation_steps=len(val_set)\n",
    ")"
   ]
  },
  {
   "cell_type": "code",
   "execution_count": null,
   "metadata": {},
   "outputs": [],
   "source": [
    "model_weights_dir = \"AlexNetnew_model_weighs_200.h5\"\n",
    "model_loaded.save_weights(model_weights_dir)"
   ]
  },
  {
   "cell_type": "markdown",
   "metadata": {
    "id": "HRQ3-GAkutyh"
   },
   "source": [
    "# **Model evaluation:**"
   ]
  },
  {
   "cell_type": "code",
   "execution_count": null,
   "metadata": {
    "id": "xqi6dYuevD74"
   },
   "outputs": [],
   "source": [
    "# Using Tensorboard \n",
    "%tensorboard --logdir logs/fit"
   ]
  },
  {
   "cell_type": "code",
   "execution_count": null,
   "metadata": {
    "id": "OirCn85XRRjJ"
   },
   "outputs": [],
   "source": [
    "# Or using plotting \n",
    "# Create plots for accuracy and loss.\n",
    "fig , ax = plt.subplots(1,2)\n",
    "train_acc = history.history['accuracy']\n",
    "train_loss = history.history['loss']\n",
    "fig.set_size_inches(12,4)\n",
    "\n",
    "ax[0].plot(history.history['accuracy'])\n",
    "ax[0].plot(history.history['val_accuracy'])\n",
    "ax[0].set_title('Training Accuracy vs Validation Accuracy')\n",
    "ax[0].set_ylabel('Accuracy')\n",
    "ax[0].set_xlabel('Epoch')\n",
    "ax[0].legend(['Train', 'Validation'], loc='upper left')\n",
    "\n",
    "ax[1].plot(history.history['loss'])\n",
    "ax[1].plot(history.history['val_loss'])\n",
    "ax[1].set_title('Training Loss vs Validation Loss')\n",
    "ax[1].set_ylabel('Loss')\n",
    "ax[1].set_xlabel('Epoch')\n",
    "ax[1].legend(['Train', 'Validation'], loc='upper left')\n",
    "\n",
    "plt.show()"
   ]
  },
  {
   "cell_type": "code",
   "execution_count": null,
   "metadata": {
    "id": "M_4f0pr_MvTf"
   },
   "outputs": [],
   "source": [
    "# Create confusion matrix of our predictions\n",
    "\n",
    "# compute predictions\n",
    "predictions = model.predict_generator(generator=val_set)\n",
    "y_pred = [np.argmax(probas) for probas in predictions]\n",
    "y_test = val_set.classes\n",
    "class_names = val_set.class_indices.keys()\n",
    "\n",
    "# Create function to plot confussion matrix.\n",
    "def plot_confusion_matrix(cm, classes, title='Confusion matrix', cmap=plt.cm.Blues):\n",
    "    cm = cm.astype('float') / cm.sum(axis=1)[:, np.newaxis]\n",
    "    plt.figure(figsize=(12,6), dpi=120)\n",
    "    plt.imshow(cm, interpolation='nearest', cmap=cmap)\n",
    "    plt.title(title)\n",
    "    plt.colorbar()\n",
    "    tick_marks = np.arange(len(classes))\n",
    "    plt.xticks(tick_marks, classes, rotation=45)\n",
    "    plt.yticks(tick_marks, classes)\n",
    "\n",
    "    fmt = '.2f'\n",
    "    thresh = cm.max() / 2.\n",
    "    for i, j in itertools.product(range(cm.shape[0]), range(cm.shape[1])):\n",
    "        plt.text(j, i, format(cm[i, j], fmt),\n",
    "                 horizontalalignment=\"center\",\n",
    "                 color=\"white\" if cm[i, j] > thresh else \"black\")\n",
    "\n",
    "    plt.ylabel('True label')# **Live Class Monitoring System(Face Emotion Recognition)**\n",
    "    plt.xlabel('Predicted label')\n",
    "    plt.tight_layout()\n",
    "    plt.show()\n",
    "    \n",
    "# Compute confusion matrix\n",
    "cnf_matrix = confusion_matrix(y_test, y_pred)\n",
    "np.set_printoptions(precision=2)\n",
    "\n",
    "# Plot normalized confusion matrix\n",
    "plt.figure()\n",
    "plot_confusion_matrix(cnf_matrix, classes=class_names, title='Normalized confusion matrix')\n",
    "plt.show()"
   ]
  },
  {
   "cell_type": "markdown",
   "metadata": {
    "id": "YpwLo3MOVlo_"
   },
   "source": [
    "## Pretrain Model\n"
   ]
  },
  {
   "cell_type": "markdown",
   "metadata": {
    "id": "V69pX_lbVp0U"
   },
   "source": [
    "Load model:"
   ]
  },
  {
   "cell_type": "markdown",
   "metadata": {
    "id": "tgloycjsVovY"
   },
   "source": [
    "loaded_model = load_model(\"AlexNet_model-100iters.h5\")\n",
    "loaded_model.load_weights(\"AlexNet_model_weights-100iters.h5\")"
   ]
  }
 ],
 "metadata": {
  "accelerator": "GPU",
  "colab": {
   "collapsed_sections": [
    "URwdYfsiMltF",
    "g5RpZlMkPGG2"
   ],
   "provenance": [
    {
     "file_id": "1vaz1tUJkzsBwROz1_ZNEe8G6KbWWX-3X",
     "timestamp": 1675563684398
    }
   ]
  },
  "gpuClass": "standard",
  "kernelspec": {
   "display_name": "Python 3.8 (tensorflow)",
   "language": "python",
   "name": "tensorflow"
  },
  "language_info": {
   "codemirror_mode": {
    "name": "ipython",
    "version": 3
   },
   "file_extension": ".py",
   "mimetype": "text/x-python",
   "name": "python",
   "nbconvert_exporter": "python",
   "pygments_lexer": "ipython3",
   "version": "3.8.0"
  }
 },
 "nbformat": 4,
 "nbformat_minor": 1
}
