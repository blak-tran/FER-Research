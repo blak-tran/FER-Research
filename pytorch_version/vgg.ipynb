{
 "cells": [
  {
   "cell_type": "markdown",
   "metadata": {
    "id": "view-in-github"
   },
   "source": [
    "<a href=\"https://colab.research.google.com/github/anishjohnson/Face-Emotion-Recognition/blob/main/FER/Colab%20Notebook/Face_Emotion_Recognition_Anish_Johnson.ipynb\" target=\"_parent\"><img src=\"https://colab.research.google.com/assets/colab-badge.svg\" alt=\"Open In Colab\"/></a>"
   ]
  },
  {
   "cell_type": "markdown",
   "metadata": {
    "id": "URwdYfsiMltF"
   },
   "source": [
    "# **Face Emotion Recognition**\n",
    "\n",
    "\n",
    "\n",
    "\n",
    "\n",
    "\n",
    "\n",
    "\n"
   ]
  },
  {
   "cell_type": "markdown",
   "metadata": {
    "id": "g5RpZlMkPGG2"
   },
   "source": [
    "# **Objective**\n",
    "Our objective is to solve the above mentioned challenge by applying deep learning algorithms to live video data inorder to recognize the facial emotions and categorize them accordingly."
   ]
  },
  {
   "cell_type": "markdown",
   "metadata": {
    "id": "9AGaR26YPV--"
   },
   "source": [
    "# **Dataset used**\n",
    "We have utilized the [FER 2013](https://www.kaggle.com/datasets/msambare/fer2013) dataset provided on Kaggle.<br>\n",
    "The data consists of 48x48 pixel grayscale images of faces. The faces have been automatically registered so that the face is more or less centred and occupies about the same amount of space in each image.<br>\n",
    "\n",
    "The task is to categorize each face based on the emotion shown in the facial expression into one of seven categories (0=Angry, 1=Disgust, 2=Fear, 3=Happy, 4=Sad, 5=Surprise, 6=Neutral). The training set consists of 28,709 examples and the public test set consists of 3,589 examples."
   ]
  },
  {
   "cell_type": "code",
   "execution_count": 1,
   "metadata": {
    "colab": {
     "base_uri": "https://localhost:8080/"
    },
    "id": "gVjAMoriVm5s",
    "outputId": "4e0d120e-a274-4986-a84d-12f0907d7599"
   },
   "outputs": [
    {
     "name": "stdout",
     "output_type": "stream",
     "text": [
      "Wed Mar 15 17:01:35 2023       \n",
      "+-----------------------------------------------------------------------------+\n",
      "| NVIDIA-SMI 528.33       Driver Version: 528.33       CUDA Version: 12.0     |\n",
      "|-------------------------------+----------------------+----------------------+\n",
      "| GPU  Name            TCC/WDDM | Bus-Id        Disp.A | Volatile Uncorr. ECC |\n",
      "| Fan  Temp  Perf  Pwr:Usage/Cap|         Memory-Usage | GPU-Util  Compute M. |\n",
      "|                               |                      |               MIG M. |\n",
      "|===============================+======================+======================|\n",
      "|   0  NVIDIA GeForce ... WDDM  | 00000000:01:00.0 Off |                  N/A |\n",
      "| N/A   50C    P8     9W /  80W |      0MiB /  6144MiB |      0%      Default |\n",
      "|                               |                      |                  N/A |\n",
      "+-------------------------------+----------------------+----------------------+\n",
      "                                                                               \n",
      "+-----------------------------------------------------------------------------+\n",
      "| Processes:                                                                  |\n",
      "|  GPU   GI   CI        PID   Type   Process name                  GPU Memory |\n",
      "|        ID   ID                                                   Usage      |\n",
      "|=============================================================================|\n",
      "|  No running processes found                                                 |\n",
      "+-----------------------------------------------------------------------------+\n",
      "nvcc: NVIDIA (R) Cuda compiler driver\n",
      "Copyright (c) 2005-2022 NVIDIA Corporation\n",
      "Built on Tue_Mar__8_18:36:24_Pacific_Standard_Time_2022\n",
      "Cuda compilation tools, release 11.6, V11.6.124\n",
      "Build cuda_11.6.r11.6/compiler.31057947_0\n"
     ]
    }
   ],
   "source": [
    "!nvidia-smi\n",
    "!nvcc -V"
   ]
  },
  {
   "cell_type": "markdown",
   "metadata": {
    "id": "mKaCCukeQGGv"
   },
   "source": [
    "### **Let's Begin:**"
   ]
  },
  {
   "cell_type": "markdown",
   "metadata": {
    "id": "n2QTffm_tEDK"
   },
   "source": [
    "# **Data Exploration:**"
   ]
  },
  {
   "cell_type": "markdown",
   "metadata": {
    "id": "5py4G2_K3R3Y"
   },
   "source": [
    "**Lets start by importing the required libraries.**"
   ]
  },
  {
   "cell_type": "code",
   "execution_count": 2,
   "metadata": {
    "colab": {
     "base_uri": "https://localhost:8080/"
    },
    "id": "OheLkRm1DJ3a",
    "outputId": "75c8e931-196f-428b-8152-28e765fbbb53"
   },
   "outputs": [
    {
     "name": "stdout",
     "output_type": "stream",
     "text": [
      "Above libraries have been imported.\n"
     ]
    }
   ],
   "source": [
    "# Basic python libraries.\n",
    "import glob\n",
    "import os.path as osp\n",
    "import datetime\n",
    "import numpy as np\n",
    "import pandas as pd\n",
    "import os\n",
    "import matplotlib.pyplot as plt\n",
    "from tqdm import tqdm\n",
    "from PIL import Image\n",
    "import itertools\n",
    "# Get rid of warnings!\n",
    "import warnings\n",
    "warnings.filterwarnings('ignore')\n",
    "import torch\n",
    "import torchvision.transforms as transforms\n",
    "from torch.utils.data import DataLoader, Dataset\n",
    "import torch.nn as nn\n",
    "import torch.nn.functional as F\n",
    "from torchvision.datasets import ImageFolder\n",
    "import torch.optim as optim\n",
    "import torch.utils.data as data\n",
    "import shutil\n",
    "import time\n",
    "from tqdm import tqdm\n",
    "print('Above libraries have been imported.')"
   ]
  },
  {
   "cell_type": "markdown",
   "metadata": {
    "id": "vvy5uusVtMAh"
   },
   "source": [
    "# **Data Preprocessing:**"
   ]
  },
  {
   "cell_type": "code",
   "execution_count": 3,
   "metadata": {
    "id": "IwCiBlsKgL2Q"
   },
   "outputs": [],
   "source": [
    "def model_configuration():\n",
    "  # Generic config\n",
    "    width, height, channels = 48, 48, 3\n",
    "    batch_size = 128\n",
    "    num_classes = 7\n",
    "  # validation_split = 0.1 # 45/5 per the He et al. paper\n",
    "    verbose = 1\n",
    "    n = 3\n",
    "    init_fm_dim = 64\n",
    "    shortcut_type = \"identity\" # or: projection\n",
    "\n",
    "    # Create config dictionary\n",
    "    config = {\n",
    "        \"width\": width,\n",
    "        \"height\": height,\n",
    "        \"dim\": channels,\n",
    "        \"batch_size\": batch_size,\n",
    "        \"num_classes\": num_classes,\n",
    "        \"verbose\": verbose,\n",
    "        \"stack_n\": n,\n",
    "        \"initial_num_feature_maps\": init_fm_dim,\n",
    "        # \"training_ds_size\": train_size,\n",
    "        # \"steps_per_epoch\": steps_per_epoch,\n",
    "        # \"val_steps_per_epoch\": val_steps_per_epoch,\n",
    "        \"shortcut_type\": shortcut_type\n",
    "    }\n",
    "    return config"
   ]
  },
  {
   "cell_type": "markdown",
   "metadata": {
    "id": "yOwMRBUFuHnp"
   },
   "source": [
    "# **Build Dataset:**"
   ]
  },
  {
   "cell_type": "code",
   "execution_count": 4,
   "metadata": {
    "id": "KYEDziQoOyqW"
   },
   "outputs": [],
   "source": [
    "class ImageTransform():\n",
    "    def __init__(self, resize, mean, std):\n",
    "        self.data_transform = {\n",
    "            'train': transforms.Compose([\n",
    "                transforms.RandomResizedCrop(resize, scale = (0.5, 1.0)),\n",
    "                transforms.RandomHorizontalFlip(),\n",
    "                transforms.ToTensor(),\n",
    "                transforms.Normalize((0.5), (0.5))\n",
    "            ]),\n",
    "            \n",
    "            'val': transforms.Compose([\n",
    "                transforms.Resize(resize),\n",
    "                transforms.CenterCrop(resize),\n",
    "                transforms.ToTensor(),\n",
    "                transforms.Normalize((0.5), (0.5))\n",
    "            ])\n",
    "        }\n",
    "        \n",
    "    def __call__(self, img, phase='train'):\n",
    "        return self.data_transform[phase](img)"
   ]
  },
  {
   "cell_type": "code",
   "execution_count": 5,
   "metadata": {
    "id": "IRAbUP_oNjbK"
   },
   "outputs": [],
   "source": [
    "resize = 48\n",
    "mean = (0.485, 0.456, 0.406)\n",
    "std = (0.229, 0.224, 0.225)\n",
    "\n",
    "transform = ImageTransform(resize, mean, std)"
   ]
  },
  {
   "cell_type": "code",
   "execution_count": 6,
   "metadata": {
    "id": "I1F6LqmTMoxJ"
   },
   "outputs": [],
   "source": [
    "def make_datapath_list(phase='train'):\n",
    "    rootpath = './dataset/'\n",
    "    target_path = osp.join(rootpath + phase + '/**/*.jpg')\n",
    "    print(target_path)\n",
    "    \n",
    "    path_list = []\n",
    "    \n",
    "    for path in glob.glob(target_path):\n",
    "        path_list.append(path)\n",
    "        \n",
    "    return path_list"
   ]
  },
  {
   "cell_type": "code",
   "execution_count": 7,
   "metadata": {
    "colab": {
     "base_uri": "https://localhost:8080/"
    },
    "id": "TqQ0wuylMyDj",
    "outputId": "a18b3497-fcd3-46ce-f625-74388a24b701"
   },
   "outputs": [
    {
     "name": "stdout",
     "output_type": "stream",
     "text": [
      "./dataset/train/**/*.jpg\n"
     ]
    }
   ],
   "source": [
    "path_list = make_datapath_list('train')"
   ]
  },
  {
   "cell_type": "code",
   "execution_count": 8,
   "metadata": {
    "colab": {
     "base_uri": "https://localhost:8080/"
    },
    "id": "2bwAn_mSMzSE",
    "outputId": "42057a50-3bf9-4c99-97ee-bf68a8c53ffa"
   },
   "outputs": [
    {
     "data": {
      "text/plain": [
       "['./dataset/train\\\\angry\\\\Training_10118481.jpg',\n",
       " './dataset/train\\\\angry\\\\Training_10120469.jpg',\n",
       " './dataset/train\\\\angry\\\\Training_10131352.jpg',\n",
       " './dataset/train\\\\angry\\\\Training_10161559.jpg',\n",
       " './dataset/train\\\\angry\\\\Training_1021836.jpg',\n",
       " './dataset/train\\\\angry\\\\Training_10269675.jpg',\n",
       " './dataset/train\\\\angry\\\\Training_10278738.jpg',\n",
       " './dataset/train\\\\angry\\\\Training_10290703.jpg',\n",
       " './dataset/train\\\\angry\\\\Training_10295477.jpg',\n",
       " './dataset/train\\\\angry\\\\Training_10315441.jpg']"
      ]
     },
     "execution_count": 8,
     "metadata": {},
     "output_type": "execute_result"
    }
   ],
   "source": [
    "path_list[:10]"
   ]
  },
  {
   "cell_type": "code",
   "execution_count": 9,
   "metadata": {
    "colab": {
     "base_uri": "https://localhost:8080/"
    },
    "id": "yNgoxOaUM0qG",
    "outputId": "2f9b857e-3ff3-4c67-abcb-b78f2259ae23"
   },
   "outputs": [
    {
     "name": "stdout",
     "output_type": "stream",
     "text": [
      "./dataset/train/**/*.jpg\n",
      "./dataset/val/**/*.jpg\n"
     ]
    }
   ],
   "source": [
    "train_list = make_datapath_list('train')\n",
    "val_list = make_datapath_list('val')"
   ]
  },
  {
   "cell_type": "code",
   "execution_count": 10,
   "metadata": {
    "id": "TZ-u4sz7M2U_"
   },
   "outputs": [],
   "source": [
    "class MyDataset(data.Dataset):\n",
    "    def __init__(self, file_list, transform=None, phase=\"train\"):\n",
    "        self.file_list = file_list\n",
    "        self.transform = transform\n",
    "        self.phase = phase\n",
    "        \n",
    "    def __len__(self):\n",
    "        return len(self.file_list)\n",
    "\n",
    "    def __getitem__(self, idx):\n",
    "        img_path = self.file_list[idx]\n",
    "        img = Image.open(img_path)\n",
    "        \n",
    "        img_transformed = self.transform(img, self.phase)\n",
    "        \n",
    "        label = img_path.split('\\\\')[1]\n",
    "        \n",
    "        if label == \"angry\":\n",
    "            label = 0\n",
    "        elif label == \"disgust\":\n",
    "            label = 1\n",
    "        elif label == \"fear\":\n",
    "            label = 2\n",
    "        elif label == \"happy\":\n",
    "            label = 3\n",
    "        elif label == \"neutral\":\n",
    "            label = 4\n",
    "        elif label == \"sad\":\n",
    "            label = 5\n",
    "        elif label == \"surprise\":\n",
    "            label = 6\n",
    "        return img_transformed, label"
   ]
  },
  {
   "cell_type": "code",
   "execution_count": 11,
   "metadata": {
    "id": "vUoSwPMMM4zO"
   },
   "outputs": [],
   "source": [
    "train_set = MyDataset(train_list, transform = ImageTransform(resize, mean, std), phase = 'train')\n",
    "val_set = MyDataset(val_list, transform = ImageTransform(resize, mean, std), phase = 'val')"
   ]
  },
  {
   "cell_type": "code",
   "execution_count": 12,
   "metadata": {
    "colab": {
     "base_uri": "https://localhost:8080/"
    },
    "id": "bNe1p5coNAOY",
    "outputId": "12c5683b-297c-4026-df9e-f6c5e4093dbe"
   },
   "outputs": [
    {
     "name": "stdout",
     "output_type": "stream",
     "text": [
      "28709\n",
      "(tensor([[[-0.6863, -0.7098, -0.6941,  ..., -0.5922, -0.5373, -0.4902],\n",
      "         [-0.6392, -0.6784, -0.6784,  ..., -0.5765, -0.5216, -0.4667],\n",
      "         [-0.6235, -0.6549, -0.6549,  ..., -0.5608, -0.5137, -0.4667],\n",
      "         ...,\n",
      "         [-0.3961, -0.3569, -0.2706,  ...,  0.2235,  0.2863,  0.3333],\n",
      "         [-0.3333, -0.2863, -0.1922,  ...,  0.1922,  0.2392,  0.3020],\n",
      "         [-0.2549, -0.2157, -0.1294,  ...,  0.2000,  0.2235,  0.2471]]]), 0)\n"
     ]
    }
   ],
   "source": [
    "index = 0\n",
    "print(train_set.__len__())\n",
    "print(train_set.__getitem__(index))"
   ]
  },
  {
   "cell_type": "code",
   "execution_count": 13,
   "metadata": {
    "id": "LOSto-yXNIFK"
   },
   "outputs": [],
   "source": [
    "batch_size = 64\n",
    "\n",
    "train_loader = torch.utils.data.DataLoader(train_set, batch_size, shuffle = True)\n",
    "val_loader = torch.utils.data.DataLoader(val_set, batch_size, shuffle = False)\n",
    "\n",
    "dataloader_dict = {\"train\": train_loader, \"val\": val_loader}"
   ]
  },
  {
   "cell_type": "code",
   "execution_count": 14,
   "metadata": {
    "id": "CWYpTBLiNKc2"
   },
   "outputs": [],
   "source": [
    "batch_iterator = iter(dataloader_dict[\"train\"])\n",
    "inputs, labels =  next(batch_iterator)"
   ]
  },
  {
   "cell_type": "code",
   "execution_count": 15,
   "metadata": {
    "colab": {
     "base_uri": "https://localhost:8080/"
    },
    "id": "Sp63ILFYNL0w",
    "outputId": "70f55df8-f6b4-44ea-a252-3f5a3f67e454"
   },
   "outputs": [
    {
     "name": "stdout",
     "output_type": "stream",
     "text": [
      "torch.Size([64, 1, 48, 48])\n"
     ]
    }
   ],
   "source": [
    "print(inputs.size())"
   ]
  },
  {
   "cell_type": "code",
   "execution_count": 16,
   "metadata": {
    "colab": {
     "base_uri": "https://localhost:8080/"
    },
    "id": "62jexAaJNMkD",
    "outputId": "8cdeef72-037f-465a-e091-bbfee5b0fd4c"
   },
   "outputs": [
    {
     "name": "stdout",
     "output_type": "stream",
     "text": [
      "tensor([0, 3, 3, 4, 2, 2, 0, 6, 3, 5, 6, 0, 2, 2, 3, 3, 2, 6, 2, 6, 4, 3, 5, 4,\n",
      "        6, 5, 3, 3, 2, 0, 4, 4, 5, 0, 5, 6, 0, 0, 0, 3, 5, 0, 5, 6, 3, 0, 4, 6,\n",
      "        5, 3, 4, 4, 5, 4, 2, 6, 4, 2, 0, 1, 3, 2, 6, 4])\n"
     ]
    }
   ],
   "source": [
    "print(labels)"
   ]
  },
  {
   "cell_type": "markdown",
   "metadata": {
    "id": "oS1YY0m6MhRo"
   },
   "source": [
    "# **Build Model:**"
   ]
  },
  {
   "cell_type": "code",
   "execution_count": 17,
   "metadata": {
    "id": "lvOahH28ODJr"
   },
   "outputs": [],
   "source": [
    "class VGGNet(nn.Module):\n",
    "    def __init__(self, num_classes=7, drop_rate=0.5):\n",
    "        super(VGGNet, self).__init__()\n",
    "\n",
    "        self.conv_layers = nn.Sequential(\n",
    "            nn.Conv2d(1, 64, kernel_size=3, padding=1),\n",
    "            nn.ReLU(inplace=True),          \n",
    "            nn.MaxPool2d(kernel_size=2, stride=2),\n",
    "\n",
    "            nn.Conv2d(64, 128, kernel_size=3, padding=1),\n",
    "            nn.ReLU(inplace=True),\n",
    "            nn.MaxPool2d(kernel_size=2, stride=2),\n",
    "\n",
    "            nn.Conv2d(128, 256, kernel_size=3, padding=1),\n",
    "            nn.ReLU(inplace=True),\n",
    "            nn.Conv2d(256, 256, kernel_size=3, padding=1),\n",
    "            nn.ReLU(inplace=True),             \n",
    "            nn.MaxPool2d(kernel_size=2, stride=2),\n",
    "            \n",
    "            nn.Conv2d(256, 256, kernel_size=3, padding=1),\n",
    "            nn.ReLU(inplace=True),\n",
    "            nn.Conv2d(256, 256, kernel_size=3, padding=1),\n",
    "            nn.ReLU(inplace=True),\n",
    "            nn.MaxPool2d(kernel_size=2, stride=2),\n",
    "           \n",
    "        )\n",
    "        # self.flattened_tensor = nn.Flatten()\n",
    "        self.avgpool = nn.AvgPool2d(7, stride=1)\n",
    "\n",
    "        self.fc_layers = nn.Sequential(\n",
    "            nn.Linear(2304, 4096),\n",
    "            nn.ReLU(inplace=True),\n",
    "            nn.Dropout(drop_rate),\n",
    "            nn.Linear(4096, 4096),\n",
    "            nn.ReLU(inplace=True),\n",
    "            nn.Dropout(drop_rate),\n",
    "            nn.Linear(4096, num_classes),\n",
    "        )\n",
    "\n",
    "    def forward(self, x):\n",
    "        x = self.conv_layers(x)\n",
    "        x = x.view(x.size(0), -1)\n",
    "        x = self.fc_layers(x)\n",
    "        return x"
   ]
  },
  {
   "cell_type": "code",
   "execution_count": 18,
   "metadata": {
    "colab": {
     "base_uri": "https://localhost:8080/"
    },
    "id": "Fvdv3kTa4RHn",
    "outputId": "f04231fe-c1f6-4d5d-deaf-d9095596dfb6"
   },
   "outputs": [
    {
     "name": "stdout",
     "output_type": "stream",
     "text": [
      "VGGNet(\n",
      "  (conv_layers): Sequential(\n",
      "    (0): Conv2d(1, 64, kernel_size=(3, 3), stride=(1, 1), padding=(1, 1))\n",
      "    (1): ReLU(inplace=True)\n",
      "    (2): MaxPool2d(kernel_size=2, stride=2, padding=0, dilation=1, ceil_mode=False)\n",
      "    (3): Conv2d(64, 128, kernel_size=(3, 3), stride=(1, 1), padding=(1, 1))\n",
      "    (4): ReLU(inplace=True)\n",
      "    (5): MaxPool2d(kernel_size=2, stride=2, padding=0, dilation=1, ceil_mode=False)\n",
      "    (6): Conv2d(128, 256, kernel_size=(3, 3), stride=(1, 1), padding=(1, 1))\n",
      "    (7): ReLU(inplace=True)\n",
      "    (8): Conv2d(256, 256, kernel_size=(3, 3), stride=(1, 1), padding=(1, 1))\n",
      "    (9): ReLU(inplace=True)\n",
      "    (10): MaxPool2d(kernel_size=2, stride=2, padding=0, dilation=1, ceil_mode=False)\n",
      "    (11): Conv2d(256, 256, kernel_size=(3, 3), stride=(1, 1), padding=(1, 1))\n",
      "    (12): ReLU(inplace=True)\n",
      "    (13): Conv2d(256, 256, kernel_size=(3, 3), stride=(1, 1), padding=(1, 1))\n",
      "    (14): ReLU(inplace=True)\n",
      "    (15): MaxPool2d(kernel_size=2, stride=2, padding=0, dilation=1, ceil_mode=False)\n",
      "  )\n",
      "  (avgpool): AvgPool2d(kernel_size=7, stride=1, padding=0)\n",
      "  (fc_layers): Sequential(\n",
      "    (0): Linear(in_features=2304, out_features=4096, bias=True)\n",
      "    (1): ReLU(inplace=True)\n",
      "    (2): Dropout(p=0.5, inplace=False)\n",
      "    (3): Linear(in_features=4096, out_features=4096, bias=True)\n",
      "    (4): ReLU(inplace=True)\n",
      "    (5): Dropout(p=0.5, inplace=False)\n",
      "    (6): Linear(in_features=4096, out_features=7, bias=True)\n",
      "  )\n",
      ")\n"
     ]
    }
   ],
   "source": [
    "device = torch.device('cuda' if torch.cuda.is_available() else 'cpu')\n",
    "model = VGGNet().to(device)\n",
    "print(model)"
   ]
  },
  {
   "cell_type": "code",
   "execution_count": 19,
   "metadata": {
    "colab": {
     "base_uri": "https://localhost:8080/",
     "height": 1000
    },
    "id": "uYbsNz_Oekhw",
    "outputId": "a6495ab1-9e4e-4dec-c64f-8227c9e3ab62"
   },
   "outputs": [
    {
     "name": "stdout",
     "output_type": "stream",
     "text": [
      "cuda\n",
      "Time: 114.78372073173523 Epoch 1 Train Loss: 1.8236 Train Acc: 0.2508 Val Loss: 1.8150 Val Acc: 0.2471 Best Val Acc: 0.2471\n",
      "Time: 37.26472020149231 Epoch 2 Train Loss: 1.8079 Train Acc: 0.2514 Val Loss: 1.7895 Val Acc: 0.2503 Best Val Acc: 0.2503\n",
      "Time: 34.146591663360596 Epoch 3 Train Loss: 1.7861 Train Acc: 0.2523 Val Loss: 1.7818 Val Acc: 0.2627 Best Val Acc: 0.2627\n",
      "Time: 34.63046669960022 Epoch 4 Train Loss: 1.7582 Train Acc: 0.2741 Val Loss: 1.7249 Val Acc: 0.3023 Best Val Acc: 0.3023\n",
      "Time: 37.912769079208374 Epoch 5 Train Loss: 1.7141 Train Acc: 0.3009 Val Loss: 1.6828 Val Acc: 0.3307 Best Val Acc: 0.3307\n",
      "Time: 34.60343909263611 Epoch 6 Train Loss: 1.6486 Train Acc: 0.3414 Val Loss: 1.5646 Val Acc: 0.3867 Best Val Acc: 0.3867\n",
      "Time: 34.133410692214966 Epoch 7 Train Loss: 1.5841 Train Acc: 0.3761 Val Loss: 1.5045 Val Acc: 0.4075 Best Val Acc: 0.4075\n",
      "Time: 34.00003957748413 Epoch 8 Train Loss: 1.5336 Train Acc: 0.4009 Val Loss: 1.4604 Val Acc: 0.4246 Best Val Acc: 0.4246\n",
      "Time: 34.07667016983032 Epoch 9 Train Loss: 1.4777 Train Acc: 0.4283 Val Loss: 1.4041 Val Acc: 0.4602 Best Val Acc: 0.4602\n",
      "Time: 33.44262170791626 Epoch 10 Train Loss: 1.4126 Train Acc: 0.4501 Val Loss: 1.3226 Val Acc: 0.4845 Best Val Acc: 0.4845\n",
      "Time: 34.75735664367676 Epoch 11 Train Loss: 1.3495 Train Acc: 0.4794 Val Loss: 1.3109 Val Acc: 0.4965 Best Val Acc: 0.4965\n",
      "Epoch 00012: reducing learning rate of group 0 to 1.0000e-03.\n",
      "Time: 35.70455193519592 Epoch 12 Train Loss: 1.3000 Train Acc: 0.4978 Val Loss: 1.2385 Val Acc: 0.5224 Best Val Acc: 0.5224\n",
      "Time: 34.39439034461975 Epoch 13 Train Loss: 1.2202 Train Acc: 0.5347 Val Loss: 1.1864 Val Acc: 0.5389 Best Val Acc: 0.5389\n",
      "Time: 34.165167808532715 Epoch 14 Train Loss: 1.2022 Train Acc: 0.5415 Val Loss: 1.1860 Val Acc: 0.5371 Best Val Acc: 0.5389\n",
      "Time: 34.60179805755615 Epoch 15 Train Loss: 1.1855 Train Acc: 0.5465 Val Loss: 1.1707 Val Acc: 0.5411 Best Val Acc: 0.5411\n",
      "Time: 34.578675985336304 Epoch 16 Train Loss: 1.1785 Train Acc: 0.5545 Val Loss: 1.1678 Val Acc: 0.5456 Best Val Acc: 0.5456\n",
      "Time: 34.19628834724426 Epoch 17 Train Loss: 1.1743 Train Acc: 0.5537 Val Loss: 1.1674 Val Acc: 0.5497 Best Val Acc: 0.5497\n",
      "Time: 34.277260065078735 Epoch 18 Train Loss: 1.1624 Train Acc: 0.5588 Val Loss: 1.1486 Val Acc: 0.5563 Best Val Acc: 0.5563\n",
      "Time: 35.33633899688721 Epoch 19 Train Loss: 1.1579 Train Acc: 0.5598 Val Loss: 1.1473 Val Acc: 0.5518 Best Val Acc: 0.5563\n",
      "Time: 33.719475507736206 Epoch 20 Train Loss: 1.1521 Train Acc: 0.5643 Val Loss: 1.1460 Val Acc: 0.5602 Best Val Acc: 0.5602\n",
      "Time: 32.799209117889404 Epoch 21 Train Loss: 1.1336 Train Acc: 0.5686 Val Loss: 1.1397 Val Acc: 0.5595 Best Val Acc: 0.5602\n",
      "Time: 35.435190200805664 Epoch 22 Train Loss: 1.1311 Train Acc: 0.5743 Val Loss: 1.1283 Val Acc: 0.5655 Best Val Acc: 0.5655\n",
      "Time: 34.533761978149414 Epoch 23 Train Loss: 1.1267 Train Acc: 0.5715 Val Loss: 1.1298 Val Acc: 0.5637 Best Val Acc: 0.5655\n",
      "Time: 34.233492374420166 Epoch 24 Train Loss: 1.1179 Train Acc: 0.5718 Val Loss: 1.1133 Val Acc: 0.5734 Best Val Acc: 0.5734\n",
      "Time: 34.49201154708862 Epoch 25 Train Loss: 1.1156 Train Acc: 0.5745 Val Loss: 1.1099 Val Acc: 0.5709 Best Val Acc: 0.5734\n",
      "Time: 36.115994930267334 Epoch 26 Train Loss: 1.1080 Train Acc: 0.5791 Val Loss: 1.1233 Val Acc: 0.5695 Best Val Acc: 0.5734\n",
      "Time: 34.45841360092163 Epoch 27 Train Loss: 1.1060 Train Acc: 0.5827 Val Loss: 1.1126 Val Acc: 0.5745 Best Val Acc: 0.5745\n",
      "Time: 34.50028872489929 Epoch 28 Train Loss: 1.0987 Train Acc: 0.5866 Val Loss: 1.1211 Val Acc: 0.5665 Best Val Acc: 0.5745\n",
      "Time: 35.01572895050049 Epoch 29 Train Loss: 1.0884 Train Acc: 0.5900 Val Loss: 1.1045 Val Acc: 0.5794 Best Val Acc: 0.5794\n",
      "Time: 34.45843434333801 Epoch 30 Train Loss: 1.0816 Train Acc: 0.5925 Val Loss: 1.1033 Val Acc: 0.5770 Best Val Acc: 0.5794\n",
      "Time: 34.56592512130737 Epoch 31 Train Loss: 1.0770 Train Acc: 0.5928 Val Loss: 1.1107 Val Acc: 0.5770 Best Val Acc: 0.5794\n",
      "Time: 35.452452182769775 Epoch 32 Train Loss: 1.0690 Train Acc: 0.5980 Val Loss: 1.0904 Val Acc: 0.5822 Best Val Acc: 0.5822\n",
      "Time: 33.297709703445435 Epoch 33 Train Loss: 1.0684 Train Acc: 0.5965 Val Loss: 1.0862 Val Acc: 0.5882 Best Val Acc: 0.5882\n",
      "Time: 32.85085678100586 Epoch 34 Train Loss: 1.0643 Train Acc: 0.6000 Val Loss: 1.0894 Val Acc: 0.5815 Best Val Acc: 0.5882\n",
      "Time: 32.753190994262695 Epoch 35 Train Loss: 1.0527 Train Acc: 0.6032 Val Loss: 1.0885 Val Acc: 0.5867 Best Val Acc: 0.5882\n",
      "Time: 32.80290985107422 Epoch 36 Train Loss: 1.0521 Train Acc: 0.6027 Val Loss: 1.0993 Val Acc: 0.5811 Best Val Acc: 0.5882\n",
      "Time: 32.958648681640625 Epoch 37 Train Loss: 1.0479 Train Acc: 0.6041 Val Loss: 1.0791 Val Acc: 0.5847 Best Val Acc: 0.5882\n",
      "Time: 32.89881873130798 Epoch 38 Train Loss: 1.0420 Train Acc: 0.6065 Val Loss: 1.0726 Val Acc: 0.5921 Best Val Acc: 0.5921\n",
      "Time: 32.75765562057495 Epoch 39 Train Loss: 1.0331 Train Acc: 0.6107 Val Loss: 1.1034 Val Acc: 0.5839 Best Val Acc: 0.5921\n",
      "Time: 34.64653015136719 Epoch 40 Train Loss: 1.0327 Train Acc: 0.6118 Val Loss: 1.0681 Val Acc: 0.5926 Best Val Acc: 0.5926\n",
      "Time: 38.86164331436157 Epoch 41 Train Loss: 1.0282 Train Acc: 0.6141 Val Loss: 1.0929 Val Acc: 0.5861 Best Val Acc: 0.5926\n",
      "Time: 35.317497968673706 Epoch 42 Train Loss: 1.0182 Train Acc: 0.6168 Val Loss: 1.0552 Val Acc: 0.6006 Best Val Acc: 0.6006\n",
      "Time: 42.18497943878174 Epoch 43 Train Loss: 1.0126 Train Acc: 0.6187 Val Loss: 1.0763 Val Acc: 0.5910 Best Val Acc: 0.6006\n",
      "Time: 41.61023736000061 Epoch 44 Train Loss: 1.0088 Train Acc: 0.6220 Val Loss: 1.0709 Val Acc: 0.5963 Best Val Acc: 0.6006\n",
      "Time: 40.220638036727905 Epoch 45 Train Loss: 1.0057 Train Acc: 0.6235 Val Loss: 1.0681 Val Acc: 0.5945 Best Val Acc: 0.6006\n",
      "Time: 40.57147431373596 Epoch 46 Train Loss: 1.0009 Train Acc: 0.6278 Val Loss: 1.0649 Val Acc: 0.5932 Best Val Acc: 0.6006\n",
      "Time: 39.58427572250366 Epoch 47 Train Loss: 0.9976 Train Acc: 0.6237 Val Loss: 1.0597 Val Acc: 0.5952 Best Val Acc: 0.6006\n",
      "Time: 39.81235098838806 Epoch 48 Train Loss: 0.9965 Train Acc: 0.6270 Val Loss: 1.0481 Val Acc: 0.6011 Best Val Acc: 0.6011\n",
      "Time: 39.75156378746033 Epoch 49 Train Loss: 0.9911 Train Acc: 0.6313 Val Loss: 1.0445 Val Acc: 0.6006 Best Val Acc: 0.6011\n",
      "Time: 39.90597128868103 Epoch 50 Train Loss: 0.9876 Train Acc: 0.6305 Val Loss: 1.0637 Val Acc: 0.5886 Best Val Acc: 0.6011\n",
      "Time: 44.47111511230469 Epoch 51 Train Loss: 0.9792 Train Acc: 0.6325 Val Loss: 1.0429 Val Acc: 0.6020 Best Val Acc: 0.6020\n",
      "Time: 42.06955695152283 Epoch 52 Train Loss: 0.9738 Train Acc: 0.6365 Val Loss: 1.0435 Val Acc: 0.6106 Best Val Acc: 0.6106\n",
      "Time: 41.69608020782471 Epoch 53 Train Loss: 0.9669 Train Acc: 0.6393 Val Loss: 1.0359 Val Acc: 0.6113 Best Val Acc: 0.6113\n",
      "Time: 41.87235450744629 Epoch 54 Train Loss: 0.9679 Train Acc: 0.6388 Val Loss: 1.0729 Val Acc: 0.5933 Best Val Acc: 0.6113\n",
      "Time: 40.04282522201538 Epoch 55 Train Loss: 0.9607 Train Acc: 0.6413 Val Loss: 1.0412 Val Acc: 0.6091 Best Val Acc: 0.6113\n",
      "Time: 42.502129793167114 Epoch 56 Train Loss: 0.9532 Train Acc: 0.6434 Val Loss: 1.0458 Val Acc: 0.6074 Best Val Acc: 0.6113\n",
      "Time: 42.23139452934265 Epoch 57 Train Loss: 0.9538 Train Acc: 0.6446 Val Loss: 1.0617 Val Acc: 0.6011 Best Val Acc: 0.6113\n",
      "Time: 40.67782521247864 Epoch 58 Train Loss: 0.9499 Train Acc: 0.6443 Val Loss: 1.0212 Val Acc: 0.6201 Best Val Acc: 0.6201\n",
      "Time: 40.29349112510681 Epoch 59 Train Loss: 0.9445 Train Acc: 0.6496 Val Loss: 1.0318 Val Acc: 0.6074 Best Val Acc: 0.6201\n",
      "Time: 40.55671429634094 Epoch 60 Train Loss: 0.9380 Train Acc: 0.6488 Val Loss: 1.0358 Val Acc: 0.6074 Best Val Acc: 0.6201\n",
      "Time: 37.742937326431274 Epoch 61 Train Loss: 0.9336 Train Acc: 0.6502 Val Loss: 1.0573 Val Acc: 0.6106 Best Val Acc: 0.6201\n",
      "Time: 44.94075322151184 Epoch 62 Train Loss: 0.9344 Train Acc: 0.6535 Val Loss: 1.0521 Val Acc: 0.6059 Best Val Acc: 0.6201\n",
      "Time: 40.39792084693909 Epoch 63 Train Loss: 0.9221 Train Acc: 0.6566 Val Loss: 1.0478 Val Acc: 0.6197 Best Val Acc: 0.6201\n",
      "Time: 37.101834774017334 Epoch 64 Train Loss: 0.9213 Train Acc: 0.6554 Val Loss: 1.0330 Val Acc: 0.6211 Best Val Acc: 0.6211\n",
      "Time: 41.666306018829346 Epoch 65 Train Loss: 0.9109 Train Acc: 0.6620 Val Loss: 1.0703 Val Acc: 0.6000 Best Val Acc: 0.6211\n",
      "Time: 40.143165826797485 Epoch 66 Train Loss: 0.9093 Train Acc: 0.6614 Val Loss: 1.0305 Val Acc: 0.6201 Best Val Acc: 0.6211\n"
     ]
    },
    {
     "name": "stdout",
     "output_type": "stream",
     "text": [
      "Time: 37.24990391731262 Epoch 67 Train Loss: 0.9075 Train Acc: 0.6598 Val Loss: 1.0131 Val Acc: 0.6220 Best Val Acc: 0.6220\n",
      "Time: 41.37445092201233 Epoch 68 Train Loss: 0.9001 Train Acc: 0.6640 Val Loss: 1.0410 Val Acc: 0.6152 Best Val Acc: 0.6220\n",
      "Time: 40.31630349159241 Epoch 69 Train Loss: 0.8985 Train Acc: 0.6668 Val Loss: 1.0413 Val Acc: 0.6205 Best Val Acc: 0.6220\n",
      "Time: 36.94872283935547 Epoch 70 Train Loss: 0.8990 Train Acc: 0.6663 Val Loss: 1.0426 Val Acc: 0.6220 Best Val Acc: 0.6220\n",
      "Time: 42.30509090423584 Epoch 71 Train Loss: 0.8863 Train Acc: 0.6700 Val Loss: 1.0402 Val Acc: 0.6141 Best Val Acc: 0.6220\n",
      "Time: 41.21978235244751 Epoch 72 Train Loss: 0.8858 Train Acc: 0.6709 Val Loss: 1.0174 Val Acc: 0.6241 Best Val Acc: 0.6241\n",
      "Time: 44.45250964164734 Epoch 73 Train Loss: 0.8827 Train Acc: 0.6717 Val Loss: 1.0425 Val Acc: 0.6202 Best Val Acc: 0.6241\n",
      "Time: 43.72832417488098 Epoch 74 Train Loss: 0.8774 Train Acc: 0.6708 Val Loss: 1.0247 Val Acc: 0.6257 Best Val Acc: 0.6257\n",
      "Time: 44.99198269844055 Epoch 75 Train Loss: 0.8756 Train Acc: 0.6755 Val Loss: 1.0375 Val Acc: 0.6237 Best Val Acc: 0.6257\n",
      "Time: 41.8782639503479 Epoch 76 Train Loss: 0.8665 Train Acc: 0.6779 Val Loss: 1.0319 Val Acc: 0.6269 Best Val Acc: 0.6269\n",
      "Time: 46.47754216194153 Epoch 77 Train Loss: 0.8595 Train Acc: 0.6821 Val Loss: 1.0195 Val Acc: 0.6268 Best Val Acc: 0.6269\n",
      "Time: 46.05157947540283 Epoch 78 Train Loss: 0.8615 Train Acc: 0.6796 Val Loss: 1.0204 Val Acc: 0.6259 Best Val Acc: 0.6269\n",
      "Time: 40.977370738983154 Epoch 79 Train Loss: 0.8557 Train Acc: 0.6835 Val Loss: 1.0106 Val Acc: 0.6273 Best Val Acc: 0.6273\n",
      "Time: 37.376529693603516 Epoch 80 Train Loss: 0.8499 Train Acc: 0.6836 Val Loss: 1.0359 Val Acc: 0.6186 Best Val Acc: 0.6273\n",
      "Time: 38.50600838661194 Epoch 81 Train Loss: 0.8401 Train Acc: 0.6883 Val Loss: 1.0571 Val Acc: 0.6209 Best Val Acc: 0.6273\n",
      "Time: 36.92502975463867 Epoch 82 Train Loss: 0.8441 Train Acc: 0.6849 Val Loss: 1.0488 Val Acc: 0.6220 Best Val Acc: 0.6273\n",
      "Time: 38.230374574661255 Epoch 83 Train Loss: 0.8397 Train Acc: 0.6882 Val Loss: 1.0294 Val Acc: 0.6261 Best Val Acc: 0.6273\n",
      "Time: 44.04412341117859 Epoch 84 Train Loss: 0.8358 Train Acc: 0.6918 Val Loss: 1.0527 Val Acc: 0.6169 Best Val Acc: 0.6273\n",
      "Time: 37.30160450935364 Epoch 85 Train Loss: 0.8290 Train Acc: 0.6930 Val Loss: 1.0525 Val Acc: 0.6226 Best Val Acc: 0.6273\n",
      "Time: 37.24106431007385 Epoch 86 Train Loss: 0.8221 Train Acc: 0.6966 Val Loss: 1.0649 Val Acc: 0.6220 Best Val Acc: 0.6273\n",
      "Time: 41.593926668167114 Epoch 87 Train Loss: 0.8149 Train Acc: 0.6982 Val Loss: 1.0312 Val Acc: 0.6283 Best Val Acc: 0.6283\n",
      "Time: 39.46836733818054 Epoch 88 Train Loss: 0.8171 Train Acc: 0.6958 Val Loss: 1.0498 Val Acc: 0.6251 Best Val Acc: 0.6283\n",
      "Time: 35.305999517440796 Epoch 89 Train Loss: 0.8080 Train Acc: 0.7028 Val Loss: 1.0422 Val Acc: 0.6261 Best Val Acc: 0.6283\n",
      "Time: 40.45618748664856 Epoch 90 Train Loss: 0.8085 Train Acc: 0.6996 Val Loss: 1.0330 Val Acc: 0.6255 Best Val Acc: 0.6283\n",
      "Time: 40.70795178413391 Epoch 91 Train Loss: 0.7991 Train Acc: 0.7049 Val Loss: 1.0890 Val Acc: 0.6170 Best Val Acc: 0.6283\n",
      "Time: 41.324153661727905 Epoch 92 Train Loss: 0.7936 Train Acc: 0.7051 Val Loss: 1.0509 Val Acc: 0.6252 Best Val Acc: 0.6283\n",
      "Time: 48.4244544506073 Epoch 93 Train Loss: 0.7841 Train Acc: 0.7112 Val Loss: 1.0547 Val Acc: 0.6230 Best Val Acc: 0.6283\n",
      "Time: 48.17922902107239 Epoch 94 Train Loss: 0.7872 Train Acc: 0.7058 Val Loss: 1.0472 Val Acc: 0.6308 Best Val Acc: 0.6308\n",
      "Time: 48.41144299507141 Epoch 95 Train Loss: 0.7857 Train Acc: 0.7098 Val Loss: 1.0475 Val Acc: 0.6317 Best Val Acc: 0.6317\n",
      "Time: 47.698418855667114 Epoch 96 Train Loss: 0.7757 Train Acc: 0.7142 Val Loss: 1.0541 Val Acc: 0.6286 Best Val Acc: 0.6317\n",
      "Time: 48.41386413574219 Epoch 97 Train Loss: 0.7716 Train Acc: 0.7153 Val Loss: 1.0691 Val Acc: 0.6251 Best Val Acc: 0.6317\n",
      "Time: 35.79471254348755 Epoch 98 Train Loss: 0.7676 Train Acc: 0.7155 Val Loss: 1.0720 Val Acc: 0.6266 Best Val Acc: 0.6317\n",
      "Time: 36.56074118614197 Epoch 99 Train Loss: 0.7593 Train Acc: 0.7199 Val Loss: 1.0675 Val Acc: 0.6335 Best Val Acc: 0.6335\n",
      "Time: 40.66971230506897 Epoch 100 Train Loss: 0.7643 Train Acc: 0.7186 Val Loss: 1.0385 Val Acc: 0.6323 Best Val Acc: 0.6335\n",
      "Time: 41.545430183410645 Epoch 101 Train Loss: 0.7515 Train Acc: 0.7227 Val Loss: 1.0857 Val Acc: 0.6240 Best Val Acc: 0.6335\n",
      "Time: 48.18885087966919 Epoch 102 Train Loss: 0.7487 Train Acc: 0.7238 Val Loss: 1.0992 Val Acc: 0.6250 Best Val Acc: 0.6335\n",
      "Time: 40.15136218070984 Epoch 103 Train Loss: 0.7436 Train Acc: 0.7289 Val Loss: 1.0715 Val Acc: 0.6372 Best Val Acc: 0.6372\n",
      "Time: 36.797582387924194 Epoch 104 Train Loss: 0.7404 Train Acc: 0.7292 Val Loss: 1.0773 Val Acc: 0.6321 Best Val Acc: 0.6372\n",
      "Time: 33.951537132263184 Epoch 105 Train Loss: 0.7348 Train Acc: 0.7299 Val Loss: 1.0882 Val Acc: 0.6337 Best Val Acc: 0.6372\n",
      "Time: 33.097822189331055 Epoch 106 Train Loss: 0.7325 Train Acc: 0.7297 Val Loss: 1.0811 Val Acc: 0.6343 Best Val Acc: 0.6372\n",
      "Time: 33.48969554901123 Epoch 107 Train Loss: 0.7270 Train Acc: 0.7327 Val Loss: 1.0820 Val Acc: 0.6379 Best Val Acc: 0.6379\n",
      "Time: 33.47969627380371 Epoch 108 Train Loss: 0.7231 Train Acc: 0.7357 Val Loss: 1.0956 Val Acc: 0.6367 Best Val Acc: 0.6379\n",
      "Time: 35.476240396499634 Epoch 109 Train Loss: 0.7203 Train Acc: 0.7319 Val Loss: 1.1307 Val Acc: 0.6202 Best Val Acc: 0.6379\n",
      "Time: 36.161787271499634 Epoch 110 Train Loss: 0.7122 Train Acc: 0.7389 Val Loss: 1.1126 Val Acc: 0.6326 Best Val Acc: 0.6379\n",
      "Time: 37.68803548812866 Epoch 111 Train Loss: 0.7131 Train Acc: 0.7388 Val Loss: 1.1108 Val Acc: 0.6310 Best Val Acc: 0.6379\n",
      "Time: 50.285582065582275 Epoch 112 Train Loss: 0.7064 Train Acc: 0.7417 Val Loss: 1.1130 Val Acc: 0.6356 Best Val Acc: 0.6379\n",
      "Time: 45.9029974937439 Epoch 113 Train Loss: 0.6997 Train Acc: 0.7434 Val Loss: 1.1113 Val Acc: 0.6303 Best Val Acc: 0.6379\n",
      "Time: 39.50932574272156 Epoch 114 Train Loss: 0.6932 Train Acc: 0.7461 Val Loss: 1.1390 Val Acc: 0.6264 Best Val Acc: 0.6379\n",
      "Time: 46.624122858047485 Epoch 115 Train Loss: 0.6880 Train Acc: 0.7470 Val Loss: 1.1189 Val Acc: 0.6308 Best Val Acc: 0.6379\n",
      "Time: 36.655604124069214 Epoch 116 Train Loss: 0.6797 Train Acc: 0.7509 Val Loss: 1.1655 Val Acc: 0.6275 Best Val Acc: 0.6379\n",
      "Time: 43.60937857627869 Epoch 117 Train Loss: 0.6755 Train Acc: 0.7527 Val Loss: 1.1378 Val Acc: 0.6233 Best Val Acc: 0.6379\n",
      "Time: 38.484246492385864 Epoch 118 Train Loss: 0.6745 Train Acc: 0.7556 Val Loss: 1.1433 Val Acc: 0.6255 Best Val Acc: 0.6379\n",
      "Time: 38.41534352302551 Epoch 119 Train Loss: 0.6713 Train Acc: 0.7522 Val Loss: 1.1298 Val Acc: 0.6340 Best Val Acc: 0.6379\n",
      "Time: 40.363540172576904 Epoch 120 Train Loss: 0.6724 Train Acc: 0.7513 Val Loss: 1.1702 Val Acc: 0.6272 Best Val Acc: 0.6379\n",
      "Time: 41.48092222213745 Epoch 121 Train Loss: 0.6582 Train Acc: 0.7608 Val Loss: 1.1251 Val Acc: 0.6326 Best Val Acc: 0.6379\n",
      "Time: 44.34076428413391 Epoch 122 Train Loss: 0.6589 Train Acc: 0.7583 Val Loss: 1.1153 Val Acc: 0.6346 Best Val Acc: 0.6379\n",
      "Time: 49.28666377067566 Epoch 123 Train Loss: 0.6554 Train Acc: 0.7583 Val Loss: 1.1322 Val Acc: 0.6404 Best Val Acc: 0.6404\n",
      "Time: 50.264312744140625 Epoch 124 Train Loss: 0.6461 Train Acc: 0.7652 Val Loss: 1.1387 Val Acc: 0.6339 Best Val Acc: 0.6404\n",
      "Time: 51.769041776657104 Epoch 125 Train Loss: 0.6513 Train Acc: 0.7631 Val Loss: 1.1713 Val Acc: 0.6265 Best Val Acc: 0.6404\n",
      "Time: 52.798011302948 Epoch 126 Train Loss: 0.6419 Train Acc: 0.7674 Val Loss: 1.1590 Val Acc: 0.6395 Best Val Acc: 0.6404\n",
      "Time: 50.946343183517456 Epoch 127 Train Loss: 0.6386 Train Acc: 0.7672 Val Loss: 1.1737 Val Acc: 0.6321 Best Val Acc: 0.6404\n",
      "Time: 52.1243577003479 Epoch 128 Train Loss: 0.6263 Train Acc: 0.7730 Val Loss: 1.1763 Val Acc: 0.6275 Best Val Acc: 0.6404\n",
      "Time: 52.51549768447876 Epoch 129 Train Loss: 0.6301 Train Acc: 0.7687 Val Loss: 1.2248 Val Acc: 0.6218 Best Val Acc: 0.6404\n",
      "Time: 51.1858184337616 Epoch 130 Train Loss: 0.6229 Train Acc: 0.7754 Val Loss: 1.1689 Val Acc: 0.6372 Best Val Acc: 0.6404\n",
      "Time: 50.60070061683655 Epoch 131 Train Loss: 0.6218 Train Acc: 0.7723 Val Loss: 1.1880 Val Acc: 0.6346 Best Val Acc: 0.6404\n",
      "Time: 54.69936561584473 Epoch 132 Train Loss: 0.6088 Train Acc: 0.7759 Val Loss: 1.1965 Val Acc: 0.6328 Best Val Acc: 0.6404\n"
     ]
    },
    {
     "name": "stdout",
     "output_type": "stream",
     "text": [
      "Time: 53.551310777664185 Epoch 133 Train Loss: 0.6149 Train Acc: 0.7757 Val Loss: 1.1584 Val Acc: 0.6392 Best Val Acc: 0.6404\n",
      "Time: 52.74505591392517 Epoch 134 Train Loss: 0.6131 Train Acc: 0.7773 Val Loss: 1.2006 Val Acc: 0.6195 Best Val Acc: 0.6404\n",
      "Time: 53.23426151275635 Epoch 135 Train Loss: 0.5949 Train Acc: 0.7851 Val Loss: 1.2029 Val Acc: 0.6379 Best Val Acc: 0.6404\n",
      "Time: 53.27601766586304 Epoch 136 Train Loss: 0.5982 Train Acc: 0.7832 Val Loss: 1.2286 Val Acc: 0.6375 Best Val Acc: 0.6404\n",
      "Time: 53.27270460128784 Epoch 137 Train Loss: 0.5889 Train Acc: 0.7856 Val Loss: 1.2300 Val Acc: 0.6390 Best Val Acc: 0.6404\n",
      "Time: 53.40174841880798 Epoch 138 Train Loss: 0.5875 Train Acc: 0.7857 Val Loss: 1.2199 Val Acc: 0.6332 Best Val Acc: 0.6404\n",
      "Time: 52.998213052749634 Epoch 139 Train Loss: 0.5792 Train Acc: 0.7890 Val Loss: 1.2224 Val Acc: 0.6332 Best Val Acc: 0.6404\n",
      "Time: 52.50036287307739 Epoch 140 Train Loss: 0.5834 Train Acc: 0.7877 Val Loss: 1.2627 Val Acc: 0.6308 Best Val Acc: 0.6404\n",
      "Time: 52.91543197631836 Epoch 141 Train Loss: 0.5753 Train Acc: 0.7900 Val Loss: 1.2288 Val Acc: 0.6333 Best Val Acc: 0.6404\n",
      "Time: 51.69527769088745 Epoch 142 Train Loss: 0.5720 Train Acc: 0.7917 Val Loss: 1.2472 Val Acc: 0.6358 Best Val Acc: 0.6404\n",
      "Time: 51.48409342765808 Epoch 143 Train Loss: 0.5660 Train Acc: 0.7947 Val Loss: 1.2891 Val Acc: 0.6305 Best Val Acc: 0.6404\n",
      "Time: 52.04896521568298 Epoch 144 Train Loss: 0.5663 Train Acc: 0.7949 Val Loss: 1.3026 Val Acc: 0.6241 Best Val Acc: 0.6404\n",
      "Time: 51.778003454208374 Epoch 145 Train Loss: 0.5557 Train Acc: 0.7977 Val Loss: 1.2513 Val Acc: 0.6379 Best Val Acc: 0.6404\n",
      "Time: 52.604392290115356 Epoch 146 Train Loss: 0.5566 Train Acc: 0.8008 Val Loss: 1.3204 Val Acc: 0.6339 Best Val Acc: 0.6404\n",
      "Time: 53.10796403884888 Epoch 147 Train Loss: 0.5448 Train Acc: 0.8030 Val Loss: 1.3045 Val Acc: 0.6307 Best Val Acc: 0.6404\n",
      "Time: 51.76730418205261 Epoch 148 Train Loss: 0.5470 Train Acc: 0.8035 Val Loss: 1.2514 Val Acc: 0.6382 Best Val Acc: 0.6404\n",
      "Time: 51.465726137161255 Epoch 149 Train Loss: 0.5459 Train Acc: 0.8033 Val Loss: 1.2871 Val Acc: 0.6336 Best Val Acc: 0.6404\n",
      "Time: 52.775296211242676 Epoch 150 Train Loss: 0.5439 Train Acc: 0.8045 Val Loss: 1.2603 Val Acc: 0.6395 Best Val Acc: 0.6404\n",
      "Time: 51.63404893875122 Epoch 151 Train Loss: 0.5366 Train Acc: 0.8040 Val Loss: 1.2661 Val Acc: 0.6360 Best Val Acc: 0.6404\n",
      "Time: 51.31132650375366 Epoch 152 Train Loss: 0.5271 Train Acc: 0.8080 Val Loss: 1.2868 Val Acc: 0.6404 Best Val Acc: 0.6404\n",
      "Time: 52.17732906341553 Epoch 153 Train Loss: 0.5328 Train Acc: 0.8056 Val Loss: 1.3304 Val Acc: 0.6315 Best Val Acc: 0.6404\n",
      "Time: 52.960063219070435 Epoch 154 Train Loss: 0.5279 Train Acc: 0.8096 Val Loss: 1.3187 Val Acc: 0.6308 Best Val Acc: 0.6404\n",
      "Time: 53.452664613723755 Epoch 155 Train Loss: 0.5183 Train Acc: 0.8118 Val Loss: 1.3587 Val Acc: 0.6258 Best Val Acc: 0.6404\n",
      "Time: 53.404627323150635 Epoch 156 Train Loss: 0.5158 Train Acc: 0.8118 Val Loss: 1.3525 Val Acc: 0.6325 Best Val Acc: 0.6404\n",
      "Time: 45.028719902038574 Epoch 157 Train Loss: 0.5101 Train Acc: 0.8151 Val Loss: 1.3481 Val Acc: 0.6296 Best Val Acc: 0.6404\n",
      "Time: 35.44091033935547 Epoch 158 Train Loss: 0.5097 Train Acc: 0.8158 Val Loss: 1.3597 Val Acc: 0.6318 Best Val Acc: 0.6404\n",
      "Time: 35.4639937877655 Epoch 159 Train Loss: 0.5067 Train Acc: 0.8169 Val Loss: 1.3748 Val Acc: 0.6374 Best Val Acc: 0.6404\n",
      "Time: 35.404996156692505 Epoch 160 Train Loss: 0.4995 Train Acc: 0.8188 Val Loss: 1.4339 Val Acc: 0.6353 Best Val Acc: 0.6404\n",
      "Time: 35.36070990562439 Epoch 161 Train Loss: 0.4990 Train Acc: 0.8197 Val Loss: 1.3794 Val Acc: 0.6333 Best Val Acc: 0.6404\n",
      "Time: 35.030019760131836 Epoch 162 Train Loss: 0.4987 Train Acc: 0.8190 Val Loss: 1.3544 Val Acc: 0.6395 Best Val Acc: 0.6404\n",
      "Time: 35.67739200592041 Epoch 163 Train Loss: 0.4927 Train Acc: 0.8228 Val Loss: 1.3280 Val Acc: 0.6335 Best Val Acc: 0.6404\n",
      "Time: 43.69368314743042 Epoch 164 Train Loss: 0.4893 Train Acc: 0.8243 Val Loss: 1.3351 Val Acc: 0.6300 Best Val Acc: 0.6404\n",
      "Time: 38.75900053977966 Epoch 165 Train Loss: 0.4827 Train Acc: 0.8277 Val Loss: 1.3326 Val Acc: 0.6428 Best Val Acc: 0.6428\n",
      "Time: 39.57499885559082 Epoch 166 Train Loss: 0.4801 Train Acc: 0.8254 Val Loss: 1.3972 Val Acc: 0.6250 Best Val Acc: 0.6428\n",
      "Time: 39.33300161361694 Epoch 167 Train Loss: 0.4766 Train Acc: 0.8258 Val Loss: 1.3668 Val Acc: 0.6340 Best Val Acc: 0.6428\n",
      "Time: 39.552998065948486 Epoch 168 Train Loss: 0.4763 Train Acc: 0.8287 Val Loss: 1.3441 Val Acc: 0.6463 Best Val Acc: 0.6463\n",
      "Time: 36.19799852371216 Epoch 169 Train Loss: 0.4794 Train Acc: 0.8272 Val Loss: 1.3292 Val Acc: 0.6407 Best Val Acc: 0.6463\n",
      "Time: 35.83103346824646 Epoch 170 Train Loss: 0.4705 Train Acc: 0.8312 Val Loss: 1.4407 Val Acc: 0.6330 Best Val Acc: 0.6463\n",
      "Time: 34.7904531955719 Epoch 171 Train Loss: 0.4683 Train Acc: 0.8308 Val Loss: 1.4765 Val Acc: 0.6269 Best Val Acc: 0.6463\n",
      "Time: 34.972917556762695 Epoch 172 Train Loss: 0.4577 Train Acc: 0.8351 Val Loss: 1.4432 Val Acc: 0.6326 Best Val Acc: 0.6463\n",
      "Time: 35.07300043106079 Epoch 173 Train Loss: 0.4524 Train Acc: 0.8342 Val Loss: 1.4468 Val Acc: 0.6304 Best Val Acc: 0.6463\n",
      "Time: 34.99266505241394 Epoch 174 Train Loss: 0.4525 Train Acc: 0.8357 Val Loss: 1.4929 Val Acc: 0.6248 Best Val Acc: 0.6463\n",
      "Time: 34.72927236557007 Epoch 175 Train Loss: 0.4534 Train Acc: 0.8370 Val Loss: 1.3771 Val Acc: 0.6361 Best Val Acc: 0.6463\n",
      "Time: 34.09741806983948 Epoch 176 Train Loss: 0.4531 Train Acc: 0.8357 Val Loss: 1.4759 Val Acc: 0.6378 Best Val Acc: 0.6463\n",
      "Time: 34.653942584991455 Epoch 177 Train Loss: 0.4423 Train Acc: 0.8395 Val Loss: 1.4428 Val Acc: 0.6342 Best Val Acc: 0.6463\n",
      "Time: 35.14699649810791 Epoch 178 Train Loss: 0.4421 Train Acc: 0.8403 Val Loss: 1.4483 Val Acc: 0.6383 Best Val Acc: 0.6463\n",
      "Time: 34.850313901901245 Epoch 179 Train Loss: 0.4377 Train Acc: 0.8406 Val Loss: 1.4546 Val Acc: 0.6340 Best Val Acc: 0.6463\n",
      "Time: 34.5774827003479 Epoch 180 Train Loss: 0.4375 Train Acc: 0.8429 Val Loss: 1.4503 Val Acc: 0.6351 Best Val Acc: 0.6463\n",
      "Time: 35.146000146865845 Epoch 181 Train Loss: 0.4376 Train Acc: 0.8396 Val Loss: 1.4404 Val Acc: 0.6254 Best Val Acc: 0.6463\n",
      "Time: 34.77501058578491 Epoch 182 Train Loss: 0.4310 Train Acc: 0.8463 Val Loss: 1.5550 Val Acc: 0.6371 Best Val Acc: 0.6463\n",
      "Time: 35.067994117736816 Epoch 183 Train Loss: 0.4213 Train Acc: 0.8492 Val Loss: 1.5314 Val Acc: 0.6310 Best Val Acc: 0.6463\n",
      "Time: 35.26701641082764 Epoch 184 Train Loss: 0.4251 Train Acc: 0.8480 Val Loss: 1.5216 Val Acc: 0.6312 Best Val Acc: 0.6463\n",
      "Time: 34.91497993469238 Epoch 185 Train Loss: 0.4275 Train Acc: 0.8472 Val Loss: 1.5371 Val Acc: 0.6351 Best Val Acc: 0.6463\n",
      "Time: 35.140528440475464 Epoch 186 Train Loss: 0.4233 Train Acc: 0.8491 Val Loss: 1.4885 Val Acc: 0.6307 Best Val Acc: 0.6463\n",
      "Time: 35.25447106361389 Epoch 187 Train Loss: 0.4077 Train Acc: 0.8525 Val Loss: 1.4870 Val Acc: 0.6349 Best Val Acc: 0.6463\n",
      "Time: 35.19800019264221 Epoch 188 Train Loss: 0.4129 Train Acc: 0.8514 Val Loss: 1.4591 Val Acc: 0.6248 Best Val Acc: 0.6463\n",
      "Time: 35.63577890396118 Epoch 189 Train Loss: 0.4076 Train Acc: 0.8539 Val Loss: 1.4625 Val Acc: 0.6376 Best Val Acc: 0.6463\n",
      "Time: 34.45681858062744 Epoch 190 Train Loss: 0.4079 Train Acc: 0.8527 Val Loss: 1.5751 Val Acc: 0.6276 Best Val Acc: 0.6463\n",
      "Time: 35.09700846672058 Epoch 191 Train Loss: 0.3992 Train Acc: 0.8594 Val Loss: 1.5443 Val Acc: 0.6339 Best Val Acc: 0.6463\n",
      "Time: 35.535988569259644 Epoch 192 Train Loss: 0.4017 Train Acc: 0.8544 Val Loss: 1.4899 Val Acc: 0.6375 Best Val Acc: 0.6463\n",
      "Time: 35.020403146743774 Epoch 193 Train Loss: 0.3990 Train Acc: 0.8556 Val Loss: 1.5015 Val Acc: 0.6392 Best Val Acc: 0.6463\n",
      "Time: 35.051002502441406 Epoch 194 Train Loss: 0.3952 Train Acc: 0.8579 Val Loss: 1.5092 Val Acc: 0.6386 Best Val Acc: 0.6463\n",
      "Time: 34.59400200843811 Epoch 195 Train Loss: 0.3926 Train Acc: 0.8587 Val Loss: 1.5175 Val Acc: 0.6342 Best Val Acc: 0.6463\n",
      "Time: 35.200045347213745 Epoch 196 Train Loss: 0.3902 Train Acc: 0.8595 Val Loss: 1.5314 Val Acc: 0.6358 Best Val Acc: 0.6463\n",
      "Time: 35.14225482940674 Epoch 197 Train Loss: 0.3942 Train Acc: 0.8592 Val Loss: 1.4864 Val Acc: 0.6347 Best Val Acc: 0.6463\n",
      "Time: 34.827611446380615 Epoch 198 Train Loss: 0.3835 Train Acc: 0.8627 Val Loss: 1.4854 Val Acc: 0.6441 Best Val Acc: 0.6463\n"
     ]
    },
    {
     "name": "stdout",
     "output_type": "stream",
     "text": [
      "Time: 35.17073917388916 Epoch 199 Train Loss: 0.3900 Train Acc: 0.8586 Val Loss: 1.5712 Val Acc: 0.6424 Best Val Acc: 0.6463\n",
      "Time: 35.10202217102051 Epoch 200 Train Loss: 0.3833 Train Acc: 0.8648 Val Loss: 1.6168 Val Acc: 0.6337 Best Val Acc: 0.6463\n",
      "Time: 35.320003032684326 Epoch 201 Train Loss: 0.3791 Train Acc: 0.8642 Val Loss: 1.5578 Val Acc: 0.6413 Best Val Acc: 0.6463\n",
      "Time: 35.07599687576294 Epoch 202 Train Loss: 0.3779 Train Acc: 0.8658 Val Loss: 1.5128 Val Acc: 0.6453 Best Val Acc: 0.6463\n",
      "Time: 35.12102746963501 Epoch 203 Train Loss: 0.3702 Train Acc: 0.8673 Val Loss: 1.5203 Val Acc: 0.6491 Best Val Acc: 0.6491\n",
      "Time: 35.10779881477356 Epoch 204 Train Loss: 0.3825 Train Acc: 0.8627 Val Loss: 1.5364 Val Acc: 0.6443 Best Val Acc: 0.6491\n",
      "Time: 34.8219473361969 Epoch 205 Train Loss: 0.3675 Train Acc: 0.8692 Val Loss: 1.5552 Val Acc: 0.6535 Best Val Acc: 0.6535\n",
      "Time: 35.374147176742554 Epoch 206 Train Loss: 0.3628 Train Acc: 0.8716 Val Loss: 1.5525 Val Acc: 0.6424 Best Val Acc: 0.6535\n",
      "Time: 34.59399771690369 Epoch 207 Train Loss: 0.3609 Train Acc: 0.8701 Val Loss: 1.5212 Val Acc: 0.6429 Best Val Acc: 0.6535\n",
      "Time: 34.721840381622314 Epoch 208 Train Loss: 0.3610 Train Acc: 0.8723 Val Loss: 1.5722 Val Acc: 0.6415 Best Val Acc: 0.6535\n",
      "Time: 35.40599966049194 Epoch 209 Train Loss: 0.3605 Train Acc: 0.8702 Val Loss: 1.5951 Val Acc: 0.6382 Best Val Acc: 0.6535\n",
      "Time: 35.02030658721924 Epoch 210 Train Loss: 0.3552 Train Acc: 0.8739 Val Loss: 1.5796 Val Acc: 0.6429 Best Val Acc: 0.6535\n",
      "Time: 35.11200141906738 Epoch 211 Train Loss: 0.3537 Train Acc: 0.8722 Val Loss: 1.5131 Val Acc: 0.6470 Best Val Acc: 0.6535\n",
      "Time: 34.78099822998047 Epoch 212 Train Loss: 0.3619 Train Acc: 0.8694 Val Loss: 1.5296 Val Acc: 0.6434 Best Val Acc: 0.6535\n",
      "Time: 34.72455906867981 Epoch 213 Train Loss: 0.3470 Train Acc: 0.8753 Val Loss: 1.6128 Val Acc: 0.6404 Best Val Acc: 0.6535\n",
      "Time: 35.2899956703186 Epoch 214 Train Loss: 0.3514 Train Acc: 0.8737 Val Loss: 1.5682 Val Acc: 0.6396 Best Val Acc: 0.6535\n",
      "Time: 35.1390061378479 Epoch 215 Train Loss: 0.3456 Train Acc: 0.8748 Val Loss: 1.6042 Val Acc: 0.6393 Best Val Acc: 0.6535\n",
      "Time: 35.68883562088013 Epoch 216 Train Loss: 0.3406 Train Acc: 0.8779 Val Loss: 1.6369 Val Acc: 0.6460 Best Val Acc: 0.6535\n",
      "Time: 34.50790357589722 Epoch 217 Train Loss: 0.3390 Train Acc: 0.8799 Val Loss: 1.6044 Val Acc: 0.6328 Best Val Acc: 0.6535\n",
      "Time: 35.54799461364746 Epoch 218 Train Loss: 0.3386 Train Acc: 0.8804 Val Loss: 1.6054 Val Acc: 0.6454 Best Val Acc: 0.6535\n",
      "Time: 34.57234573364258 Epoch 219 Train Loss: 0.3348 Train Acc: 0.8802 Val Loss: 1.6143 Val Acc: 0.6407 Best Val Acc: 0.6535\n",
      "Time: 35.22799730300903 Epoch 220 Train Loss: 0.3385 Train Acc: 0.8775 Val Loss: 1.6025 Val Acc: 0.6470 Best Val Acc: 0.6535\n",
      "Time: 34.88600134849548 Epoch 221 Train Loss: 0.3353 Train Acc: 0.8792 Val Loss: 1.6162 Val Acc: 0.6335 Best Val Acc: 0.6535\n",
      "Time: 35.26728892326355 Epoch 222 Train Loss: 0.3191 Train Acc: 0.8861 Val Loss: 1.6516 Val Acc: 0.6365 Best Val Acc: 0.6535\n",
      "Time: 35.19300127029419 Epoch 223 Train Loss: 0.3316 Train Acc: 0.8818 Val Loss: 1.6980 Val Acc: 0.6357 Best Val Acc: 0.6535\n",
      "Time: 34.768030643463135 Epoch 224 Train Loss: 0.3350 Train Acc: 0.8805 Val Loss: 1.6328 Val Acc: 0.6414 Best Val Acc: 0.6535\n",
      "Time: 35.36735916137695 Epoch 225 Train Loss: 0.3250 Train Acc: 0.8837 Val Loss: 1.5957 Val Acc: 0.6450 Best Val Acc: 0.6535\n",
      "Time: 34.74449324607849 Epoch 226 Train Loss: 0.3270 Train Acc: 0.8825 Val Loss: 1.6210 Val Acc: 0.6411 Best Val Acc: 0.6535\n",
      "Time: 35.06700038909912 Epoch 227 Train Loss: 0.3229 Train Acc: 0.8849 Val Loss: 1.6137 Val Acc: 0.6436 Best Val Acc: 0.6535\n",
      "Time: 35.290996074676514 Epoch 228 Train Loss: 0.3240 Train Acc: 0.8838 Val Loss: 1.6092 Val Acc: 0.6478 Best Val Acc: 0.6535\n",
      "Time: 35.18169856071472 Epoch 229 Train Loss: 0.3163 Train Acc: 0.8865 Val Loss: 1.7381 Val Acc: 0.6436 Best Val Acc: 0.6535\n",
      "Time: 34.74397540092468 Epoch 230 Train Loss: 0.3189 Train Acc: 0.8854 Val Loss: 1.6056 Val Acc: 0.6475 Best Val Acc: 0.6535\n",
      "Time: 34.805861473083496 Epoch 231 Train Loss: 0.3180 Train Acc: 0.8852 Val Loss: 1.6649 Val Acc: 0.6519 Best Val Acc: 0.6535\n",
      "Time: 35.65848445892334 Epoch 232 Train Loss: 0.3051 Train Acc: 0.8906 Val Loss: 1.6704 Val Acc: 0.6417 Best Val Acc: 0.6535\n",
      "Time: 35.696017265319824 Epoch 233 Train Loss: 0.3042 Train Acc: 0.8921 Val Loss: 1.7142 Val Acc: 0.6404 Best Val Acc: 0.6535\n",
      "Time: 35.65771698951721 Epoch 234 Train Loss: 0.3096 Train Acc: 0.8898 Val Loss: 1.7262 Val Acc: 0.6399 Best Val Acc: 0.6535\n",
      "Time: 35.245014905929565 Epoch 235 Train Loss: 0.3124 Train Acc: 0.8877 Val Loss: 1.6768 Val Acc: 0.6406 Best Val Acc: 0.6535\n",
      "Time: 36.15003514289856 Epoch 236 Train Loss: 0.3120 Train Acc: 0.8891 Val Loss: 1.6738 Val Acc: 0.6411 Best Val Acc: 0.6535\n",
      "Time: 34.76769280433655 Epoch 237 Train Loss: 0.2975 Train Acc: 0.8939 Val Loss: 1.7154 Val Acc: 0.6311 Best Val Acc: 0.6535\n",
      "Time: 35.26513719558716 Epoch 238 Train Loss: 0.3059 Train Acc: 0.8889 Val Loss: 1.6225 Val Acc: 0.6425 Best Val Acc: 0.6535\n",
      "Time: 34.69452500343323 Epoch 239 Train Loss: 0.2948 Train Acc: 0.8946 Val Loss: 1.7061 Val Acc: 0.6367 Best Val Acc: 0.6535\n",
      "Time: 35.40399980545044 Epoch 240 Train Loss: 0.2960 Train Acc: 0.8945 Val Loss: 1.7175 Val Acc: 0.6368 Best Val Acc: 0.6535\n",
      "Time: 35.183706521987915 Epoch 241 Train Loss: 0.2875 Train Acc: 0.8977 Val Loss: 1.7165 Val Acc: 0.6395 Best Val Acc: 0.6535\n",
      "Time: 35.1487181186676 Epoch 242 Train Loss: 0.2965 Train Acc: 0.8958 Val Loss: 1.7068 Val Acc: 0.6307 Best Val Acc: 0.6535\n",
      "Time: 35.069010496139526 Epoch 243 Train Loss: 0.2953 Train Acc: 0.8979 Val Loss: 1.6518 Val Acc: 0.6436 Best Val Acc: 0.6535\n",
      "Time: 35.02488327026367 Epoch 244 Train Loss: 0.2863 Train Acc: 0.9004 Val Loss: 1.8082 Val Acc: 0.6407 Best Val Acc: 0.6535\n",
      "Time: 35.05499982833862 Epoch 245 Train Loss: 0.3009 Train Acc: 0.8926 Val Loss: 1.7071 Val Acc: 0.6431 Best Val Acc: 0.6535\n",
      "Time: 35.10899996757507 Epoch 246 Train Loss: 0.2884 Train Acc: 0.8970 Val Loss: 1.6988 Val Acc: 0.6434 Best Val Acc: 0.6535\n",
      "Time: 35.078999757766724 Epoch 247 Train Loss: 0.2885 Train Acc: 0.8960 Val Loss: 1.6909 Val Acc: 0.6457 Best Val Acc: 0.6535\n",
      "Time: 35.067999839782715 Epoch 248 Train Loss: 0.2830 Train Acc: 0.8990 Val Loss: 1.7274 Val Acc: 0.6441 Best Val Acc: 0.6535\n",
      "Time: 35.07582068443298 Epoch 249 Train Loss: 0.2834 Train Acc: 0.8992 Val Loss: 1.7884 Val Acc: 0.6400 Best Val Acc: 0.6535\n",
      "Time: 35.234623670578 Epoch 250 Train Loss: 0.2776 Train Acc: 0.9006 Val Loss: 1.7479 Val Acc: 0.6386 Best Val Acc: 0.6535\n",
      "Time: 34.21653628349304 Epoch 251 Train Loss: 0.2805 Train Acc: 0.8989 Val Loss: 1.7478 Val Acc: 0.6452 Best Val Acc: 0.6535\n",
      "Time: 34.741943359375 Epoch 252 Train Loss: 0.2829 Train Acc: 0.8978 Val Loss: 1.8064 Val Acc: 0.6454 Best Val Acc: 0.6535\n",
      "Time: 34.911473989486694 Epoch 253 Train Loss: 0.2759 Train Acc: 0.9005 Val Loss: 1.7262 Val Acc: 0.6326 Best Val Acc: 0.6535\n",
      "Time: 34.72200012207031 Epoch 254 Train Loss: 0.2759 Train Acc: 0.9027 Val Loss: 1.7388 Val Acc: 0.6447 Best Val Acc: 0.6535\n",
      "Time: 34.71941375732422 Epoch 255 Train Loss: 0.2752 Train Acc: 0.9004 Val Loss: 1.8233 Val Acc: 0.6410 Best Val Acc: 0.6535\n",
      "Time: 35.33100914955139 Epoch 256 Train Loss: 0.2695 Train Acc: 0.9040 Val Loss: 1.7480 Val Acc: 0.6381 Best Val Acc: 0.6535\n",
      "Time: 35.22958207130432 Epoch 257 Train Loss: 0.2723 Train Acc: 0.9034 Val Loss: 1.7429 Val Acc: 0.6335 Best Val Acc: 0.6535\n",
      "Time: 35.195393323898315 Epoch 258 Train Loss: 0.2727 Train Acc: 0.9035 Val Loss: 1.7375 Val Acc: 0.6450 Best Val Acc: 0.6535\n",
      "Time: 36.42877507209778 Epoch 259 Train Loss: 0.2644 Train Acc: 0.9058 Val Loss: 1.7855 Val Acc: 0.6420 Best Val Acc: 0.6535\n",
      "Time: 42.011616230010986 Epoch 260 Train Loss: 0.2688 Train Acc: 0.9033 Val Loss: 1.8173 Val Acc: 0.6468 Best Val Acc: 0.6535\n",
      "Time: 41.93101739883423 Epoch 261 Train Loss: 0.2654 Train Acc: 0.9063 Val Loss: 1.7747 Val Acc: 0.6452 Best Val Acc: 0.6535\n",
      "Time: 42.811999559402466 Epoch 262 Train Loss: 0.2700 Train Acc: 0.9041 Val Loss: 1.8963 Val Acc: 0.6421 Best Val Acc: 0.6535\n",
      "Time: 41.40826153755188 Epoch 263 Train Loss: 0.2635 Train Acc: 0.9047 Val Loss: 1.7798 Val Acc: 0.6418 Best Val Acc: 0.6535\n",
      "Time: 42.32732129096985 Epoch 264 Train Loss: 0.2608 Train Acc: 0.9085 Val Loss: 1.7745 Val Acc: 0.6454 Best Val Acc: 0.6535\n"
     ]
    },
    {
     "name": "stdout",
     "output_type": "stream",
     "text": [
      "Time: 42.385011196136475 Epoch 265 Train Loss: 0.2608 Train Acc: 0.9089 Val Loss: 1.7779 Val Acc: 0.6365 Best Val Acc: 0.6535\n",
      "Time: 42.888988971710205 Epoch 266 Train Loss: 0.2570 Train Acc: 0.9101 Val Loss: 1.7569 Val Acc: 0.6454 Best Val Acc: 0.6535\n",
      "Time: 42.03699851036072 Epoch 267 Train Loss: 0.2620 Train Acc: 0.9091 Val Loss: 1.6686 Val Acc: 0.6553 Best Val Acc: 0.6553\n",
      "Time: 41.28775334358215 Epoch 268 Train Loss: 0.2573 Train Acc: 0.9094 Val Loss: 1.8102 Val Acc: 0.6431 Best Val Acc: 0.6553\n",
      "Time: 41.44817137718201 Epoch 269 Train Loss: 0.2595 Train Acc: 0.9073 Val Loss: 1.8585 Val Acc: 0.6378 Best Val Acc: 0.6553\n",
      "Time: 41.57503294944763 Epoch 270 Train Loss: 0.2570 Train Acc: 0.9087 Val Loss: 1.8342 Val Acc: 0.6395 Best Val Acc: 0.6553\n",
      "Time: 41.28700804710388 Epoch 271 Train Loss: 0.2624 Train Acc: 0.9079 Val Loss: 1.7748 Val Acc: 0.6429 Best Val Acc: 0.6553\n",
      "Time: 41.525882720947266 Epoch 272 Train Loss: 0.2587 Train Acc: 0.9087 Val Loss: 1.7600 Val Acc: 0.6456 Best Val Acc: 0.6553\n",
      "Time: 40.02391815185547 Epoch 273 Train Loss: 0.2499 Train Acc: 0.9120 Val Loss: 1.8510 Val Acc: 0.6488 Best Val Acc: 0.6553\n",
      "Time: 36.01708269119263 Epoch 274 Train Loss: 0.2519 Train Acc: 0.9102 Val Loss: 1.8539 Val Acc: 0.6514 Best Val Acc: 0.6553\n",
      "Time: 36.57445931434631 Epoch 275 Train Loss: 0.2501 Train Acc: 0.9108 Val Loss: 1.8355 Val Acc: 0.6454 Best Val Acc: 0.6553\n",
      "Time: 36.68090319633484 Epoch 276 Train Loss: 0.2514 Train Acc: 0.9087 Val Loss: 1.7351 Val Acc: 0.6474 Best Val Acc: 0.6553\n",
      "Time: 37.38408041000366 Epoch 277 Train Loss: 0.2425 Train Acc: 0.9143 Val Loss: 1.7886 Val Acc: 0.6513 Best Val Acc: 0.6553\n",
      "Time: 35.92306733131409 Epoch 278 Train Loss: 0.2427 Train Acc: 0.9139 Val Loss: 1.8128 Val Acc: 0.6468 Best Val Acc: 0.6553\n",
      "Time: 34.548014402389526 Epoch 279 Train Loss: 0.2407 Train Acc: 0.9142 Val Loss: 1.7794 Val Acc: 0.6482 Best Val Acc: 0.6553\n",
      "Time: 33.11110806465149 Epoch 280 Train Loss: 0.2452 Train Acc: 0.9117 Val Loss: 1.8965 Val Acc: 0.6480 Best Val Acc: 0.6553\n",
      "Time: 35.83159279823303 Epoch 281 Train Loss: 0.2387 Train Acc: 0.9150 Val Loss: 1.7897 Val Acc: 0.6434 Best Val Acc: 0.6553\n",
      "Time: 34.459105253219604 Epoch 282 Train Loss: 0.2464 Train Acc: 0.9127 Val Loss: 1.8750 Val Acc: 0.6356 Best Val Acc: 0.6553\n",
      "Time: 35.97054362297058 Epoch 283 Train Loss: 0.2405 Train Acc: 0.9147 Val Loss: 1.8605 Val Acc: 0.6488 Best Val Acc: 0.6553\n",
      "Time: 33.0992386341095 Epoch 284 Train Loss: 0.2335 Train Acc: 0.9155 Val Loss: 1.9577 Val Acc: 0.6418 Best Val Acc: 0.6553\n",
      "Time: 32.4269859790802 Epoch 285 Train Loss: 0.2424 Train Acc: 0.9131 Val Loss: 1.8931 Val Acc: 0.6415 Best Val Acc: 0.6553\n",
      "Time: 32.73987126350403 Epoch 286 Train Loss: 0.2346 Train Acc: 0.9163 Val Loss: 1.8644 Val Acc: 0.6502 Best Val Acc: 0.6553\n",
      "Time: 32.48189425468445 Epoch 287 Train Loss: 0.2339 Train Acc: 0.9144 Val Loss: 1.7877 Val Acc: 0.6438 Best Val Acc: 0.6553\n",
      "Time: 32.518298864364624 Epoch 288 Train Loss: 0.2315 Train Acc: 0.9166 Val Loss: 1.8138 Val Acc: 0.6485 Best Val Acc: 0.6553\n",
      "Time: 32.480891704559326 Epoch 289 Train Loss: 0.2317 Train Acc: 0.9186 Val Loss: 1.7924 Val Acc: 0.6441 Best Val Acc: 0.6553\n",
      "Time: 32.55154800415039 Epoch 290 Train Loss: 0.2291 Train Acc: 0.9192 Val Loss: 1.8309 Val Acc: 0.6452 Best Val Acc: 0.6553\n",
      "Time: 32.644728899002075 Epoch 291 Train Loss: 0.2338 Train Acc: 0.9177 Val Loss: 1.8288 Val Acc: 0.6460 Best Val Acc: 0.6553\n",
      "Time: 32.588603496551514 Epoch 292 Train Loss: 0.2299 Train Acc: 0.9182 Val Loss: 1.8613 Val Acc: 0.6468 Best Val Acc: 0.6553\n",
      "Time: 32.80225396156311 Epoch 293 Train Loss: 0.2304 Train Acc: 0.9190 Val Loss: 1.9053 Val Acc: 0.6481 Best Val Acc: 0.6553\n",
      "Time: 32.53092837333679 Epoch 294 Train Loss: 0.2337 Train Acc: 0.9181 Val Loss: 1.8382 Val Acc: 0.6429 Best Val Acc: 0.6553\n",
      "Time: 32.76893067359924 Epoch 295 Train Loss: 0.2270 Train Acc: 0.9188 Val Loss: 1.9146 Val Acc: 0.6382 Best Val Acc: 0.6553\n",
      "Time: 32.604331254959106 Epoch 296 Train Loss: 0.2306 Train Acc: 0.9176 Val Loss: 1.7662 Val Acc: 0.6517 Best Val Acc: 0.6553\n",
      "Time: 32.476654052734375 Epoch 297 Train Loss: 0.2261 Train Acc: 0.9203 Val Loss: 1.8847 Val Acc: 0.6474 Best Val Acc: 0.6553\n",
      "Time: 32.51122546195984 Epoch 298 Train Loss: 0.2270 Train Acc: 0.9195 Val Loss: 1.9393 Val Acc: 0.6436 Best Val Acc: 0.6553\n",
      "Time: 32.442745208740234 Epoch 299 Train Loss: 0.2268 Train Acc: 0.9200 Val Loss: 1.9618 Val Acc: 0.6450 Best Val Acc: 0.6553\n",
      "Time: 32.888831615448 Epoch 300 Train Loss: 0.2239 Train Acc: 0.9218 Val Loss: 1.8836 Val Acc: 0.6500 Best Val Acc: 0.6553\n",
      "Time: 32.69995093345642 Epoch 301 Train Loss: 0.2192 Train Acc: 0.9244 Val Loss: 1.8714 Val Acc: 0.6441 Best Val Acc: 0.6553\n",
      "Time: 32.66702342033386 Epoch 302 Train Loss: 0.2171 Train Acc: 0.9244 Val Loss: 1.9423 Val Acc: 0.6467 Best Val Acc: 0.6553\n",
      "Time: 32.96124982833862 Epoch 303 Train Loss: 0.2218 Train Acc: 0.9223 Val Loss: 1.9159 Val Acc: 0.6489 Best Val Acc: 0.6553\n",
      "Time: 38.142650842666626 Epoch 304 Train Loss: 0.2216 Train Acc: 0.9203 Val Loss: 1.9254 Val Acc: 0.6545 Best Val Acc: 0.6553\n",
      "Time: 34.11482572555542 Epoch 305 Train Loss: 0.2247 Train Acc: 0.9196 Val Loss: 1.8207 Val Acc: 0.6473 Best Val Acc: 0.6553\n",
      "Time: 32.99590826034546 Epoch 306 Train Loss: 0.2153 Train Acc: 0.9242 Val Loss: 1.9785 Val Acc: 0.6498 Best Val Acc: 0.6553\n",
      "Time: 32.756032943725586 Epoch 307 Train Loss: 0.2050 Train Acc: 0.9278 Val Loss: 2.0118 Val Acc: 0.6516 Best Val Acc: 0.6553\n",
      "Time: 32.70502305030823 Epoch 308 Train Loss: 0.2137 Train Acc: 0.9250 Val Loss: 1.8587 Val Acc: 0.6429 Best Val Acc: 0.6553\n",
      "Time: 33.105138301849365 Epoch 309 Train Loss: 0.2158 Train Acc: 0.9233 Val Loss: 1.9091 Val Acc: 0.6480 Best Val Acc: 0.6553\n",
      "Time: 32.66882920265198 Epoch 310 Train Loss: 0.2070 Train Acc: 0.9277 Val Loss: 1.8869 Val Acc: 0.6442 Best Val Acc: 0.6553\n",
      "Time: 34.62690806388855 Epoch 311 Train Loss: 0.2076 Train Acc: 0.9262 Val Loss: 1.9048 Val Acc: 0.6449 Best Val Acc: 0.6553\n",
      "Time: 32.97242307662964 Epoch 312 Train Loss: 0.2062 Train Acc: 0.9279 Val Loss: 1.9585 Val Acc: 0.6475 Best Val Acc: 0.6553\n",
      "Time: 32.67692565917969 Epoch 313 Train Loss: 0.2068 Train Acc: 0.9281 Val Loss: 1.8831 Val Acc: 0.6514 Best Val Acc: 0.6553\n",
      "Time: 32.91485238075256 Epoch 314 Train Loss: 0.2052 Train Acc: 0.9281 Val Loss: 1.9539 Val Acc: 0.6491 Best Val Acc: 0.6553\n",
      "Time: 33.76162767410278 Epoch 315 Train Loss: 0.2121 Train Acc: 0.9238 Val Loss: 1.9842 Val Acc: 0.6443 Best Val Acc: 0.6553\n",
      "Time: 33.094167947769165 Epoch 316 Train Loss: 0.2072 Train Acc: 0.9272 Val Loss: 1.8507 Val Acc: 0.6528 Best Val Acc: 0.6553\n",
      "Time: 32.81037402153015 Epoch 317 Train Loss: 0.2084 Train Acc: 0.9269 Val Loss: 1.9718 Val Acc: 0.6466 Best Val Acc: 0.6553\n",
      "Time: 33.060932874679565 Epoch 318 Train Loss: 0.1991 Train Acc: 0.9304 Val Loss: 1.8985 Val Acc: 0.6519 Best Val Acc: 0.6553\n",
      "Time: 32.70403718948364 Epoch 319 Train Loss: 0.2043 Train Acc: 0.9288 Val Loss: 1.9125 Val Acc: 0.6436 Best Val Acc: 0.6553\n",
      "Time: 32.99725031852722 Epoch 320 Train Loss: 0.2011 Train Acc: 0.9294 Val Loss: 1.9685 Val Acc: 0.6576 Best Val Acc: 0.6576\n",
      "Time: 33.658365964889526 Epoch 321 Train Loss: 0.2020 Train Acc: 0.9274 Val Loss: 1.9202 Val Acc: 0.6577 Best Val Acc: 0.6577\n",
      "Time: 33.188416719436646 Epoch 322 Train Loss: 0.2010 Train Acc: 0.9294 Val Loss: 1.9367 Val Acc: 0.6527 Best Val Acc: 0.6577\n",
      "Time: 38.31564140319824 Epoch 323 Train Loss: 0.2008 Train Acc: 0.9297 Val Loss: 1.9519 Val Acc: 0.6470 Best Val Acc: 0.6577\n",
      "Time: 37.02526021003723 Epoch 324 Train Loss: 0.2066 Train Acc: 0.9279 Val Loss: 1.9101 Val Acc: 0.6467 Best Val Acc: 0.6577\n",
      "Time: 35.50552582740784 Epoch 325 Train Loss: 0.2014 Train Acc: 0.9302 Val Loss: 1.9466 Val Acc: 0.6447 Best Val Acc: 0.6577\n",
      "Time: 37.00975060462952 Epoch 326 Train Loss: 0.1978 Train Acc: 0.9306 Val Loss: 1.9550 Val Acc: 0.6450 Best Val Acc: 0.6577\n",
      "Time: 36.43142652511597 Epoch 327 Train Loss: 0.1951 Train Acc: 0.9308 Val Loss: 1.9518 Val Acc: 0.6488 Best Val Acc: 0.6577\n",
      "Time: 36.8987021446228 Epoch 328 Train Loss: 0.2015 Train Acc: 0.9286 Val Loss: 1.9387 Val Acc: 0.6534 Best Val Acc: 0.6577\n",
      "Time: 37.5119354724884 Epoch 329 Train Loss: 0.1917 Train Acc: 0.9324 Val Loss: 1.9791 Val Acc: 0.6464 Best Val Acc: 0.6577\n",
      "Time: 36.278064250946045 Epoch 330 Train Loss: 0.2015 Train Acc: 0.9283 Val Loss: 1.9390 Val Acc: 0.6477 Best Val Acc: 0.6577\n"
     ]
    },
    {
     "name": "stdout",
     "output_type": "stream",
     "text": [
      "Time: 36.45367193222046 Epoch 331 Train Loss: 0.1958 Train Acc: 0.9321 Val Loss: 1.9211 Val Acc: 0.6524 Best Val Acc: 0.6577\n",
      "Time: 41.3013219833374 Epoch 332 Train Loss: 0.1916 Train Acc: 0.9310 Val Loss: 2.0038 Val Acc: 0.6470 Best Val Acc: 0.6577\n",
      "Time: 51.040428161621094 Epoch 333 Train Loss: 0.1877 Train Acc: 0.9328 Val Loss: 2.0672 Val Acc: 0.6446 Best Val Acc: 0.6577\n",
      "Time: 49.191078186035156 Epoch 334 Train Loss: 0.1986 Train Acc: 0.9308 Val Loss: 1.9440 Val Acc: 0.6512 Best Val Acc: 0.6577\n",
      "Time: 43.94518995285034 Epoch 335 Train Loss: 0.1937 Train Acc: 0.9330 Val Loss: 1.9995 Val Acc: 0.6450 Best Val Acc: 0.6577\n",
      "Time: 52.80821943283081 Epoch 336 Train Loss: 0.1861 Train Acc: 0.9343 Val Loss: 2.0701 Val Acc: 0.6523 Best Val Acc: 0.6577\n",
      "Time: 57.82306742668152 Epoch 337 Train Loss: 0.1874 Train Acc: 0.9337 Val Loss: 2.0275 Val Acc: 0.6486 Best Val Acc: 0.6577\n",
      "Time: 51.14099431037903 Epoch 338 Train Loss: 0.1900 Train Acc: 0.9327 Val Loss: 2.0110 Val Acc: 0.6449 Best Val Acc: 0.6577\n",
      "Time: 55.4295597076416 Epoch 339 Train Loss: 0.1912 Train Acc: 0.9322 Val Loss: 2.0058 Val Acc: 0.6484 Best Val Acc: 0.6577\n",
      "Time: 49.59751510620117 Epoch 340 Train Loss: 0.1907 Train Acc: 0.9318 Val Loss: 1.9208 Val Acc: 0.6499 Best Val Acc: 0.6577\n",
      "Time: 41.87124276161194 Epoch 341 Train Loss: 0.1840 Train Acc: 0.9351 Val Loss: 2.0146 Val Acc: 0.6576 Best Val Acc: 0.6577\n",
      "Time: 38.28783202171326 Epoch 342 Train Loss: 0.1833 Train Acc: 0.9356 Val Loss: 2.0269 Val Acc: 0.6499 Best Val Acc: 0.6577\n",
      "Time: 42.62652564048767 Epoch 343 Train Loss: 0.1939 Train Acc: 0.9309 Val Loss: 1.9358 Val Acc: 0.6498 Best Val Acc: 0.6577\n",
      "Time: 52.71856498718262 Epoch 344 Train Loss: 0.1896 Train Acc: 0.9350 Val Loss: 1.9333 Val Acc: 0.6488 Best Val Acc: 0.6577\n",
      "Time: 49.790993452072144 Epoch 345 Train Loss: 0.1824 Train Acc: 0.9363 Val Loss: 1.9767 Val Acc: 0.6491 Best Val Acc: 0.6577\n",
      "Time: 47.365001916885376 Epoch 346 Train Loss: 0.1825 Train Acc: 0.9353 Val Loss: 2.0086 Val Acc: 0.6485 Best Val Acc: 0.6577\n",
      "Time: 47.17199969291687 Epoch 347 Train Loss: 0.1882 Train Acc: 0.9331 Val Loss: 1.9679 Val Acc: 0.6480 Best Val Acc: 0.6577\n",
      "Time: 47.96024560928345 Epoch 348 Train Loss: 0.1846 Train Acc: 0.9341 Val Loss: 2.0509 Val Acc: 0.6471 Best Val Acc: 0.6577\n",
      "Time: 47.353604793548584 Epoch 349 Train Loss: 0.1727 Train Acc: 0.9399 Val Loss: 2.1032 Val Acc: 0.6468 Best Val Acc: 0.6577\n",
      "Time: 47.68507671356201 Epoch 350 Train Loss: 0.1791 Train Acc: 0.9361 Val Loss: 1.9710 Val Acc: 0.6524 Best Val Acc: 0.6577\n",
      "Time: 47.06697988510132 Epoch 351 Train Loss: 0.1866 Train Acc: 0.9348 Val Loss: 2.1141 Val Acc: 0.6488 Best Val Acc: 0.6577\n",
      "Time: 47.56125235557556 Epoch 352 Train Loss: 0.1840 Train Acc: 0.9354 Val Loss: 1.9986 Val Acc: 0.6484 Best Val Acc: 0.6577\n",
      "Time: 47.744680643081665 Epoch 353 Train Loss: 0.1781 Train Acc: 0.9373 Val Loss: 1.9247 Val Acc: 0.6551 Best Val Acc: 0.6577\n",
      "Time: 47.15900492668152 Epoch 354 Train Loss: 0.1779 Train Acc: 0.9373 Val Loss: 2.0234 Val Acc: 0.6491 Best Val Acc: 0.6577\n",
      "Time: 48.47699189186096 Epoch 355 Train Loss: 0.1792 Train Acc: 0.9365 Val Loss: 2.0457 Val Acc: 0.6481 Best Val Acc: 0.6577\n",
      "Time: 47.08601117134094 Epoch 356 Train Loss: 0.1800 Train Acc: 0.9379 Val Loss: 1.9917 Val Acc: 0.6498 Best Val Acc: 0.6577\n",
      "Time: 47.141366720199585 Epoch 357 Train Loss: 0.1764 Train Acc: 0.9371 Val Loss: 2.0830 Val Acc: 0.6551 Best Val Acc: 0.6577\n",
      "Time: 47.74686074256897 Epoch 358 Train Loss: 0.1756 Train Acc: 0.9373 Val Loss: 2.0817 Val Acc: 0.6521 Best Val Acc: 0.6577\n",
      "Time: 47.66599106788635 Epoch 359 Train Loss: 0.1778 Train Acc: 0.9383 Val Loss: 1.9640 Val Acc: 0.6485 Best Val Acc: 0.6577\n",
      "Time: 47.306989908218384 Epoch 360 Train Loss: 0.1732 Train Acc: 0.9382 Val Loss: 2.0355 Val Acc: 0.6442 Best Val Acc: 0.6577\n",
      "Time: 47.6490113735199 Epoch 361 Train Loss: 0.1779 Train Acc: 0.9371 Val Loss: 2.0505 Val Acc: 0.6523 Best Val Acc: 0.6577\n",
      "Time: 47.1190071105957 Epoch 362 Train Loss: 0.1789 Train Acc: 0.9348 Val Loss: 2.0819 Val Acc: 0.6471 Best Val Acc: 0.6577\n",
      "Time: 47.29203176498413 Epoch 363 Train Loss: 0.1723 Train Acc: 0.9390 Val Loss: 2.0605 Val Acc: 0.6532 Best Val Acc: 0.6577\n",
      "Time: 47.45092701911926 Epoch 364 Train Loss: 0.1747 Train Acc: 0.9395 Val Loss: 2.0746 Val Acc: 0.6439 Best Val Acc: 0.6577\n",
      "Time: 47.7850022315979 Epoch 365 Train Loss: 0.1719 Train Acc: 0.9386 Val Loss: 2.0480 Val Acc: 0.6505 Best Val Acc: 0.6577\n",
      "Time: 47.74418663978577 Epoch 366 Train Loss: 0.1693 Train Acc: 0.9401 Val Loss: 2.0804 Val Acc: 0.6489 Best Val Acc: 0.6577\n",
      "Time: 47.954994440078735 Epoch 367 Train Loss: 0.1640 Train Acc: 0.9426 Val Loss: 2.1687 Val Acc: 0.6590 Best Val Acc: 0.6590\n",
      "Time: 47.51798224449158 Epoch 368 Train Loss: 0.1706 Train Acc: 0.9386 Val Loss: 2.0587 Val Acc: 0.6527 Best Val Acc: 0.6590\n",
      "Time: 47.16283369064331 Epoch 369 Train Loss: 0.1722 Train Acc: 0.9406 Val Loss: 2.0914 Val Acc: 0.6525 Best Val Acc: 0.6590\n",
      "Time: 47.358988761901855 Epoch 370 Train Loss: 0.1700 Train Acc: 0.9410 Val Loss: 2.0884 Val Acc: 0.6474 Best Val Acc: 0.6590\n",
      "Time: 46.961017370224 Epoch 371 Train Loss: 0.1689 Train Acc: 0.9407 Val Loss: 2.1714 Val Acc: 0.6443 Best Val Acc: 0.6590\n",
      "Time: 47.86500263214111 Epoch 372 Train Loss: 0.1664 Train Acc: 0.9413 Val Loss: 2.1115 Val Acc: 0.6534 Best Val Acc: 0.6590\n",
      "Time: 47.24098587036133 Epoch 373 Train Loss: 0.1747 Train Acc: 0.9392 Val Loss: 2.0566 Val Acc: 0.6520 Best Val Acc: 0.6590\n",
      "Time: 47.137075424194336 Epoch 374 Train Loss: 0.1691 Train Acc: 0.9402 Val Loss: 2.0714 Val Acc: 0.6484 Best Val Acc: 0.6590\n",
      "Time: 48.01828384399414 Epoch 375 Train Loss: 0.1646 Train Acc: 0.9415 Val Loss: 2.1630 Val Acc: 0.6535 Best Val Acc: 0.6590\n",
      "Time: 47.46799826622009 Epoch 376 Train Loss: 0.1722 Train Acc: 0.9391 Val Loss: 2.0605 Val Acc: 0.6544 Best Val Acc: 0.6590\n",
      "Time: 47.84391951560974 Epoch 377 Train Loss: 0.1670 Train Acc: 0.9413 Val Loss: 2.1353 Val Acc: 0.6527 Best Val Acc: 0.6590\n",
      "Time: 47.595011949539185 Epoch 378 Train Loss: 0.1657 Train Acc: 0.9412 Val Loss: 2.0658 Val Acc: 0.6468 Best Val Acc: 0.6590\n",
      "Time: 47.265188217163086 Epoch 379 Train Loss: 0.1662 Train Acc: 0.9404 Val Loss: 2.0921 Val Acc: 0.6555 Best Val Acc: 0.6590\n",
      "Time: 48.08899164199829 Epoch 380 Train Loss: 0.1669 Train Acc: 0.9421 Val Loss: 2.0481 Val Acc: 0.6530 Best Val Acc: 0.6590\n",
      "Time: 48.7029983997345 Epoch 381 Train Loss: 0.1663 Train Acc: 0.9431 Val Loss: 2.0160 Val Acc: 0.6496 Best Val Acc: 0.6590\n",
      "Time: 47.65373611450195 Epoch 382 Train Loss: 0.1657 Train Acc: 0.9408 Val Loss: 2.1007 Val Acc: 0.6512 Best Val Acc: 0.6590\n",
      "Time: 47.912193775177 Epoch 383 Train Loss: 0.1663 Train Acc: 0.9425 Val Loss: 2.1096 Val Acc: 0.6456 Best Val Acc: 0.6590\n",
      "Time: 48.27201819419861 Epoch 384 Train Loss: 0.1700 Train Acc: 0.9416 Val Loss: 2.0283 Val Acc: 0.6534 Best Val Acc: 0.6590\n",
      "Time: 45.6068639755249 Epoch 385 Train Loss: 0.1644 Train Acc: 0.9420 Val Loss: 2.0577 Val Acc: 0.6544 Best Val Acc: 0.6590\n",
      "Time: 40.37112998962402 Epoch 386 Train Loss: 0.1646 Train Acc: 0.9424 Val Loss: 2.0276 Val Acc: 0.6493 Best Val Acc: 0.6590\n",
      "Time: 39.426494121551514 Epoch 387 Train Loss: 0.1619 Train Acc: 0.9433 Val Loss: 2.0860 Val Acc: 0.6534 Best Val Acc: 0.6590\n",
      "Time: 38.10541772842407 Epoch 388 Train Loss: 0.1575 Train Acc: 0.9445 Val Loss: 2.0338 Val Acc: 0.6523 Best Val Acc: 0.6590\n",
      "Time: 33.84617018699646 Epoch 389 Train Loss: 0.1594 Train Acc: 0.9429 Val Loss: 2.1563 Val Acc: 0.6461 Best Val Acc: 0.6590\n",
      "Time: 38.24919414520264 Epoch 390 Train Loss: 0.1561 Train Acc: 0.9458 Val Loss: 2.0191 Val Acc: 0.6521 Best Val Acc: 0.6590\n",
      "Time: 38.79892158508301 Epoch 391 Train Loss: 0.1628 Train Acc: 0.9423 Val Loss: 2.1545 Val Acc: 0.6538 Best Val Acc: 0.6590\n",
      "Time: 37.78516888618469 Epoch 392 Train Loss: 0.1507 Train Acc: 0.9473 Val Loss: 2.2080 Val Acc: 0.6532 Best Val Acc: 0.6590\n",
      "Time: 36.297394037246704 Epoch 393 Train Loss: 0.1608 Train Acc: 0.9430 Val Loss: 2.1167 Val Acc: 0.6471 Best Val Acc: 0.6590\n",
      "Time: 36.92683792114258 Epoch 394 Train Loss: 0.1573 Train Acc: 0.9449 Val Loss: 2.0228 Val Acc: 0.6535 Best Val Acc: 0.6590\n",
      "Time: 37.859456062316895 Epoch 395 Train Loss: 0.1577 Train Acc: 0.9461 Val Loss: 2.0835 Val Acc: 0.6560 Best Val Acc: 0.6590\n",
      "Time: 36.8708393573761 Epoch 396 Train Loss: 0.1551 Train Acc: 0.9456 Val Loss: 2.0643 Val Acc: 0.6559 Best Val Acc: 0.6590\n"
     ]
    },
    {
     "name": "stdout",
     "output_type": "stream",
     "text": [
      "Time: 38.7083694934845 Epoch 397 Train Loss: 0.1568 Train Acc: 0.9447 Val Loss: 2.2573 Val Acc: 0.6527 Best Val Acc: 0.6590\n",
      "Time: 37.06954574584961 Epoch 398 Train Loss: 0.1581 Train Acc: 0.9448 Val Loss: 2.1141 Val Acc: 0.6531 Best Val Acc: 0.6590\n",
      "Time: 38.48404097557068 Epoch 399 Train Loss: 0.1538 Train Acc: 0.9463 Val Loss: 2.1856 Val Acc: 0.6453 Best Val Acc: 0.6590\n",
      "Time: 40.208556175231934 Epoch 400 Train Loss: 0.1508 Train Acc: 0.9459 Val Loss: 2.2017 Val Acc: 0.6513 Best Val Acc: 0.6590\n",
      "Time: 39.20055818557739 Epoch 401 Train Loss: 0.1593 Train Acc: 0.9436 Val Loss: 2.1535 Val Acc: 0.6482 Best Val Acc: 0.6590\n",
      "Time: 39.54980158805847 Epoch 402 Train Loss: 0.1639 Train Acc: 0.9424 Val Loss: 2.1592 Val Acc: 0.6528 Best Val Acc: 0.6590\n",
      "Time: 38.43165397644043 Epoch 403 Train Loss: 0.1547 Train Acc: 0.9468 Val Loss: 2.2095 Val Acc: 0.6521 Best Val Acc: 0.6590\n",
      "Time: 39.17016386985779 Epoch 404 Train Loss: 0.1521 Train Acc: 0.9474 Val Loss: 2.2271 Val Acc: 0.6505 Best Val Acc: 0.6590\n",
      "Time: 38.791210651397705 Epoch 405 Train Loss: 0.1488 Train Acc: 0.9479 Val Loss: 2.1604 Val Acc: 0.6488 Best Val Acc: 0.6590\n",
      "Time: 39.0826473236084 Epoch 406 Train Loss: 0.1572 Train Acc: 0.9452 Val Loss: 2.0801 Val Acc: 0.6492 Best Val Acc: 0.6590\n",
      "Time: 38.05691909790039 Epoch 407 Train Loss: 0.1513 Train Acc: 0.9482 Val Loss: 2.1332 Val Acc: 0.6539 Best Val Acc: 0.6590\n",
      "Time: 34.406885862350464 Epoch 408 Train Loss: 0.1515 Train Acc: 0.9461 Val Loss: 2.1397 Val Acc: 0.6534 Best Val Acc: 0.6590\n",
      "Time: 34.40099549293518 Epoch 409 Train Loss: 0.1492 Train Acc: 0.9471 Val Loss: 2.1499 Val Acc: 0.6558 Best Val Acc: 0.6590\n",
      "Time: 34.620622396469116 Epoch 410 Train Loss: 0.1507 Train Acc: 0.9473 Val Loss: 2.1571 Val Acc: 0.6565 Best Val Acc: 0.6590\n",
      "Time: 34.713298082351685 Epoch 411 Train Loss: 0.1493 Train Acc: 0.9474 Val Loss: 2.1777 Val Acc: 0.6541 Best Val Acc: 0.6590\n",
      "Time: 34.09859037399292 Epoch 412 Train Loss: 0.1489 Train Acc: 0.9480 Val Loss: 2.0986 Val Acc: 0.6520 Best Val Acc: 0.6590\n",
      "Time: 34.66101145744324 Epoch 413 Train Loss: 0.1467 Train Acc: 0.9482 Val Loss: 2.1892 Val Acc: 0.6408 Best Val Acc: 0.6590\n",
      "Time: 34.84702014923096 Epoch 414 Train Loss: 0.1479 Train Acc: 0.9482 Val Loss: 2.1060 Val Acc: 0.6463 Best Val Acc: 0.6590\n",
      "Time: 34.94686722755432 Epoch 415 Train Loss: 0.1456 Train Acc: 0.9474 Val Loss: 2.1610 Val Acc: 0.6541 Best Val Acc: 0.6590\n",
      "Time: 34.75500154495239 Epoch 416 Train Loss: 0.1464 Train Acc: 0.9481 Val Loss: 2.1396 Val Acc: 0.6509 Best Val Acc: 0.6590\n",
      "Time: 35.227978229522705 Epoch 417 Train Loss: 0.1490 Train Acc: 0.9481 Val Loss: 2.2528 Val Acc: 0.6542 Best Val Acc: 0.6590\n",
      "Time: 35.242597818374634 Epoch 418 Train Loss: 0.1529 Train Acc: 0.9467 Val Loss: 2.2614 Val Acc: 0.6509 Best Val Acc: 0.6590\n",
      "Time: 35.45193290710449 Epoch 419 Train Loss: 0.1470 Train Acc: 0.9498 Val Loss: 2.2378 Val Acc: 0.6507 Best Val Acc: 0.6590\n",
      "Time: 34.961421966552734 Epoch 420 Train Loss: 0.1503 Train Acc: 0.9467 Val Loss: 2.2111 Val Acc: 0.6498 Best Val Acc: 0.6590\n",
      "Time: 34.72736716270447 Epoch 421 Train Loss: 0.1452 Train Acc: 0.9504 Val Loss: 2.1700 Val Acc: 0.6459 Best Val Acc: 0.6590\n",
      "Time: 35.076509952545166 Epoch 422 Train Loss: 0.1453 Train Acc: 0.9481 Val Loss: 2.2130 Val Acc: 0.6434 Best Val Acc: 0.6590\n",
      "Time: 34.2053906917572 Epoch 423 Train Loss: 0.1475 Train Acc: 0.9476 Val Loss: 2.0861 Val Acc: 0.6552 Best Val Acc: 0.6590\n",
      "Time: 34.635581254959106 Epoch 424 Train Loss: 0.1480 Train Acc: 0.9473 Val Loss: 2.2767 Val Acc: 0.6531 Best Val Acc: 0.6590\n",
      "Time: 34.35425639152527 Epoch 425 Train Loss: 0.1491 Train Acc: 0.9480 Val Loss: 2.2769 Val Acc: 0.6521 Best Val Acc: 0.6590\n",
      "Time: 33.652655839920044 Epoch 426 Train Loss: 0.1458 Train Acc: 0.9486 Val Loss: 2.1801 Val Acc: 0.6539 Best Val Acc: 0.6590\n",
      "Time: 34.32344889640808 Epoch 427 Train Loss: 0.1412 Train Acc: 0.9511 Val Loss: 2.1398 Val Acc: 0.6527 Best Val Acc: 0.6590\n",
      "Time: 35.240373373031616 Epoch 428 Train Loss: 0.1476 Train Acc: 0.9478 Val Loss: 2.0780 Val Acc: 0.6538 Best Val Acc: 0.6590\n",
      "Time: 34.22714042663574 Epoch 429 Train Loss: 0.1381 Train Acc: 0.9527 Val Loss: 2.1464 Val Acc: 0.6491 Best Val Acc: 0.6590\n",
      "Time: 34.54811501502991 Epoch 430 Train Loss: 0.1413 Train Acc: 0.9508 Val Loss: 2.1653 Val Acc: 0.6567 Best Val Acc: 0.6590\n",
      "Time: 34.548885345458984 Epoch 431 Train Loss: 0.1415 Train Acc: 0.9480 Val Loss: 2.1310 Val Acc: 0.6539 Best Val Acc: 0.6590\n",
      "Time: 34.49406695365906 Epoch 432 Train Loss: 0.1422 Train Acc: 0.9492 Val Loss: 2.1742 Val Acc: 0.6502 Best Val Acc: 0.6590\n",
      "Time: 34.93248748779297 Epoch 433 Train Loss: 0.1460 Train Acc: 0.9491 Val Loss: 2.1212 Val Acc: 0.6537 Best Val Acc: 0.6590\n",
      "Time: 34.742690324783325 Epoch 434 Train Loss: 0.1374 Train Acc: 0.9505 Val Loss: 2.2058 Val Acc: 0.6553 Best Val Acc: 0.6590\n",
      "Time: 34.74971890449524 Epoch 435 Train Loss: 0.1418 Train Acc: 0.9503 Val Loss: 2.1191 Val Acc: 0.6551 Best Val Acc: 0.6590\n",
      "Time: 33.73535227775574 Epoch 436 Train Loss: 0.1412 Train Acc: 0.9512 Val Loss: 2.1925 Val Acc: 0.6539 Best Val Acc: 0.6590\n",
      "Time: 34.09588146209717 Epoch 437 Train Loss: 0.1436 Train Acc: 0.9505 Val Loss: 2.1393 Val Acc: 0.6545 Best Val Acc: 0.6590\n",
      "Time: 34.45155930519104 Epoch 438 Train Loss: 0.1397 Train Acc: 0.9504 Val Loss: 2.1994 Val Acc: 0.6583 Best Val Acc: 0.6590\n",
      "Time: 35.09508967399597 Epoch 439 Train Loss: 0.1407 Train Acc: 0.9502 Val Loss: 2.2165 Val Acc: 0.6545 Best Val Acc: 0.6590\n",
      "Time: 34.53619694709778 Epoch 440 Train Loss: 0.1404 Train Acc: 0.9505 Val Loss: 2.2182 Val Acc: 0.6514 Best Val Acc: 0.6590\n",
      "Time: 34.90398025512695 Epoch 441 Train Loss: 0.1413 Train Acc: 0.9495 Val Loss: 2.2345 Val Acc: 0.6530 Best Val Acc: 0.6590\n",
      "Time: 34.66407251358032 Epoch 442 Train Loss: 0.1379 Train Acc: 0.9504 Val Loss: 2.2275 Val Acc: 0.6560 Best Val Acc: 0.6590\n",
      "Time: 34.50903129577637 Epoch 443 Train Loss: 0.1370 Train Acc: 0.9512 Val Loss: 2.2485 Val Acc: 0.6519 Best Val Acc: 0.6590\n",
      "Time: 34.22188067436218 Epoch 444 Train Loss: 0.1391 Train Acc: 0.9503 Val Loss: 2.2191 Val Acc: 0.6532 Best Val Acc: 0.6590\n",
      "Time: 34.34553527832031 Epoch 445 Train Loss: 0.1376 Train Acc: 0.9517 Val Loss: 2.1707 Val Acc: 0.6520 Best Val Acc: 0.6590\n",
      "Time: 34.88099718093872 Epoch 446 Train Loss: 0.1375 Train Acc: 0.9526 Val Loss: 2.1939 Val Acc: 0.6514 Best Val Acc: 0.6590\n",
      "Time: 34.36886763572693 Epoch 447 Train Loss: 0.1356 Train Acc: 0.9525 Val Loss: 2.2634 Val Acc: 0.6500 Best Val Acc: 0.6590\n",
      "Time: 34.057000398635864 Epoch 448 Train Loss: 0.1330 Train Acc: 0.9527 Val Loss: 2.1856 Val Acc: 0.6482 Best Val Acc: 0.6590\n",
      "Time: 34.460166454315186 Epoch 449 Train Loss: 0.1368 Train Acc: 0.9520 Val Loss: 2.1756 Val Acc: 0.6534 Best Val Acc: 0.6590\n",
      "Time: 34.781999826431274 Epoch 450 Train Loss: 0.1363 Train Acc: 0.9515 Val Loss: 2.2089 Val Acc: 0.6484 Best Val Acc: 0.6590\n",
      "Time: 34.700000286102295 Epoch 451 Train Loss: 0.1333 Train Acc: 0.9531 Val Loss: 2.1623 Val Acc: 0.6565 Best Val Acc: 0.6590\n",
      "Time: 34.32001566886902 Epoch 452 Train Loss: 0.1345 Train Acc: 0.9534 Val Loss: 2.1928 Val Acc: 0.6506 Best Val Acc: 0.6590\n",
      "Time: 34.24303674697876 Epoch 453 Train Loss: 0.1316 Train Acc: 0.9532 Val Loss: 2.2812 Val Acc: 0.6542 Best Val Acc: 0.6590\n",
      "Time: 33.895673751831055 Epoch 454 Train Loss: 0.1382 Train Acc: 0.9509 Val Loss: 2.2748 Val Acc: 0.6514 Best Val Acc: 0.6590\n",
      "Time: 35.15184569358826 Epoch 455 Train Loss: 0.1301 Train Acc: 0.9532 Val Loss: 2.2360 Val Acc: 0.6535 Best Val Acc: 0.6590\n",
      "Time: 35.084712266922 Epoch 456 Train Loss: 0.1342 Train Acc: 0.9543 Val Loss: 2.2313 Val Acc: 0.6597 Best Val Acc: 0.6597\n",
      "Time: 35.01721954345703 Epoch 457 Train Loss: 0.1366 Train Acc: 0.9528 Val Loss: 2.1475 Val Acc: 0.6574 Best Val Acc: 0.6597\n",
      "Time: 34.89330577850342 Epoch 458 Train Loss: 0.1322 Train Acc: 0.9545 Val Loss: 2.2507 Val Acc: 0.6521 Best Val Acc: 0.6597\n",
      "Time: 34.597426891326904 Epoch 459 Train Loss: 0.1365 Train Acc: 0.9517 Val Loss: 2.2504 Val Acc: 0.6517 Best Val Acc: 0.6597\n",
      "Time: 34.50201678276062 Epoch 460 Train Loss: 0.1319 Train Acc: 0.9518 Val Loss: 2.3254 Val Acc: 0.6581 Best Val Acc: 0.6597\n",
      "Time: 34.690001487731934 Epoch 461 Train Loss: 0.1341 Train Acc: 0.9527 Val Loss: 2.1485 Val Acc: 0.6581 Best Val Acc: 0.6597\n",
      "Time: 34.62598705291748 Epoch 462 Train Loss: 0.1318 Train Acc: 0.9542 Val Loss: 2.2115 Val Acc: 0.6604 Best Val Acc: 0.6604\n"
     ]
    },
    {
     "name": "stdout",
     "output_type": "stream",
     "text": [
      "Time: 34.52675533294678 Epoch 463 Train Loss: 0.1309 Train Acc: 0.9532 Val Loss: 2.3836 Val Acc: 0.6549 Best Val Acc: 0.6604\n",
      "Time: 34.818000078201294 Epoch 464 Train Loss: 0.1362 Train Acc: 0.9524 Val Loss: 2.1586 Val Acc: 0.6558 Best Val Acc: 0.6604\n",
      "Time: 34.53931450843811 Epoch 465 Train Loss: 0.1289 Train Acc: 0.9549 Val Loss: 2.2062 Val Acc: 0.6527 Best Val Acc: 0.6604\n",
      "Time: 34.10000228881836 Epoch 466 Train Loss: 0.1295 Train Acc: 0.9551 Val Loss: 2.3746 Val Acc: 0.6569 Best Val Acc: 0.6604\n",
      "Time: 33.92499566078186 Epoch 467 Train Loss: 0.1323 Train Acc: 0.9516 Val Loss: 2.2825 Val Acc: 0.6560 Best Val Acc: 0.6604\n",
      "Time: 33.900002241134644 Epoch 468 Train Loss: 0.1268 Train Acc: 0.9574 Val Loss: 2.2534 Val Acc: 0.6560 Best Val Acc: 0.6604\n",
      "Time: 34.31057167053223 Epoch 469 Train Loss: 0.1298 Train Acc: 0.9551 Val Loss: 2.2144 Val Acc: 0.6597 Best Val Acc: 0.6604\n",
      "Time: 34.48099994659424 Epoch 470 Train Loss: 0.1296 Train Acc: 0.9544 Val Loss: 2.2730 Val Acc: 0.6513 Best Val Acc: 0.6604\n",
      "Time: 34.68021488189697 Epoch 471 Train Loss: 0.1276 Train Acc: 0.9553 Val Loss: 2.2823 Val Acc: 0.6499 Best Val Acc: 0.6604\n",
      "Time: 34.483722448349 Epoch 472 Train Loss: 0.1250 Train Acc: 0.9563 Val Loss: 2.2461 Val Acc: 0.6503 Best Val Acc: 0.6604\n",
      "Time: 35.087339878082275 Epoch 473 Train Loss: 0.1273 Train Acc: 0.9544 Val Loss: 2.2977 Val Acc: 0.6545 Best Val Acc: 0.6604\n",
      "Time: 35.05802392959595 Epoch 474 Train Loss: 0.1337 Train Acc: 0.9525 Val Loss: 2.2719 Val Acc: 0.6597 Best Val Acc: 0.6604\n",
      "Time: 34.43113374710083 Epoch 475 Train Loss: 0.1261 Train Acc: 0.9556 Val Loss: 2.2793 Val Acc: 0.6580 Best Val Acc: 0.6604\n",
      "Time: 34.7755491733551 Epoch 476 Train Loss: 0.1275 Train Acc: 0.9558 Val Loss: 2.3734 Val Acc: 0.6527 Best Val Acc: 0.6604\n",
      "Time: 34.03347873687744 Epoch 477 Train Loss: 0.1292 Train Acc: 0.9530 Val Loss: 2.2655 Val Acc: 0.6588 Best Val Acc: 0.6604\n",
      "Time: 34.491089820861816 Epoch 478 Train Loss: 0.1275 Train Acc: 0.9557 Val Loss: 2.2314 Val Acc: 0.6562 Best Val Acc: 0.6604\n",
      "Time: 35.09700274467468 Epoch 479 Train Loss: 0.1267 Train Acc: 0.9552 Val Loss: 2.3101 Val Acc: 0.6512 Best Val Acc: 0.6604\n",
      "Time: 35.062992334365845 Epoch 480 Train Loss: 0.1278 Train Acc: 0.9535 Val Loss: 2.2480 Val Acc: 0.6534 Best Val Acc: 0.6604\n",
      "Time: 35.17801332473755 Epoch 481 Train Loss: 0.1255 Train Acc: 0.9558 Val Loss: 2.3163 Val Acc: 0.6637 Best Val Acc: 0.6637\n",
      "Time: 35.19270420074463 Epoch 482 Train Loss: 0.1270 Train Acc: 0.9554 Val Loss: 2.2335 Val Acc: 0.6496 Best Val Acc: 0.6637\n",
      "Time: 34.50348949432373 Epoch 483 Train Loss: 0.1222 Train Acc: 0.9568 Val Loss: 2.2905 Val Acc: 0.6482 Best Val Acc: 0.6637\n",
      "Time: 34.486971855163574 Epoch 484 Train Loss: 0.1257 Train Acc: 0.9556 Val Loss: 2.2861 Val Acc: 0.6505 Best Val Acc: 0.6637\n",
      "Time: 34.91776156425476 Epoch 485 Train Loss: 0.1230 Train Acc: 0.9565 Val Loss: 2.3126 Val Acc: 0.6539 Best Val Acc: 0.6637\n",
      "Time: 34.458996057510376 Epoch 486 Train Loss: 0.1235 Train Acc: 0.9572 Val Loss: 2.2916 Val Acc: 0.6498 Best Val Acc: 0.6637\n",
      "Time: 34.62288975715637 Epoch 487 Train Loss: 0.1254 Train Acc: 0.9551 Val Loss: 2.2983 Val Acc: 0.6535 Best Val Acc: 0.6637\n",
      "Time: 34.13094449043274 Epoch 488 Train Loss: 0.1237 Train Acc: 0.9575 Val Loss: 2.3716 Val Acc: 0.6574 Best Val Acc: 0.6637\n",
      "Time: 34.42499899864197 Epoch 489 Train Loss: 0.1204 Train Acc: 0.9575 Val Loss: 2.2969 Val Acc: 0.6542 Best Val Acc: 0.6637\n",
      "Time: 34.82799506187439 Epoch 490 Train Loss: 0.1264 Train Acc: 0.9563 Val Loss: 2.2427 Val Acc: 0.6517 Best Val Acc: 0.6637\n",
      "Time: 34.682044506073 Epoch 491 Train Loss: 0.1204 Train Acc: 0.9566 Val Loss: 2.3103 Val Acc: 0.6548 Best Val Acc: 0.6637\n",
      "Time: 34.70600366592407 Epoch 492 Train Loss: 0.1252 Train Acc: 0.9554 Val Loss: 2.2072 Val Acc: 0.6590 Best Val Acc: 0.6637\n",
      "Time: 34.866828203201294 Epoch 493 Train Loss: 0.1228 Train Acc: 0.9556 Val Loss: 2.2966 Val Acc: 0.6565 Best Val Acc: 0.6637\n",
      "Time: 34.417232513427734 Epoch 494 Train Loss: 0.1278 Train Acc: 0.9555 Val Loss: 2.3485 Val Acc: 0.6486 Best Val Acc: 0.6637\n",
      "Time: 34.32570552825928 Epoch 495 Train Loss: 0.1235 Train Acc: 0.9574 Val Loss: 2.3672 Val Acc: 0.6558 Best Val Acc: 0.6637\n",
      "Time: 33.78999662399292 Epoch 496 Train Loss: 0.1236 Train Acc: 0.9557 Val Loss: 2.2253 Val Acc: 0.6583 Best Val Acc: 0.6637\n",
      "Time: 34.675371170043945 Epoch 497 Train Loss: 0.1167 Train Acc: 0.9588 Val Loss: 2.3867 Val Acc: 0.6595 Best Val Acc: 0.6637\n",
      "Time: 34.757986545562744 Epoch 498 Train Loss: 0.1218 Train Acc: 0.9570 Val Loss: 2.1881 Val Acc: 0.6509 Best Val Acc: 0.6637\n",
      "Time: 35.04399847984314 Epoch 499 Train Loss: 0.1253 Train Acc: 0.9565 Val Loss: 2.3152 Val Acc: 0.6538 Best Val Acc: 0.6637\n",
      "Time: 35.38303017616272 Epoch 500 Train Loss: 0.1185 Train Acc: 0.9567 Val Loss: 2.2433 Val Acc: 0.6549 Best Val Acc: 0.6637\n",
      "Time: 34.83000373840332 Epoch 501 Train Loss: 0.1224 Train Acc: 0.9571 Val Loss: 2.1769 Val Acc: 0.6541 Best Val Acc: 0.6637\n",
      "Time: 35.343998193740845 Epoch 502 Train Loss: 0.1180 Train Acc: 0.9582 Val Loss: 2.3514 Val Acc: 0.6532 Best Val Acc: 0.6637\n",
      "Time: 35.09798741340637 Epoch 503 Train Loss: 0.1200 Train Acc: 0.9581 Val Loss: 2.3029 Val Acc: 0.6531 Best Val Acc: 0.6637\n",
      "Time: 34.53769636154175 Epoch 504 Train Loss: 0.1217 Train Acc: 0.9566 Val Loss: 2.3522 Val Acc: 0.6506 Best Val Acc: 0.6637\n",
      "Time: 35.49600791931152 Epoch 505 Train Loss: 0.1211 Train Acc: 0.9580 Val Loss: 2.2215 Val Acc: 0.6545 Best Val Acc: 0.6637\n",
      "Time: 34.899555683135986 Epoch 506 Train Loss: 0.1223 Train Acc: 0.9571 Val Loss: 2.2609 Val Acc: 0.6484 Best Val Acc: 0.6637\n",
      "Time: 34.66029191017151 Epoch 507 Train Loss: 0.1178 Train Acc: 0.9580 Val Loss: 2.3043 Val Acc: 0.6552 Best Val Acc: 0.6637\n",
      "Time: 34.692387342453 Epoch 508 Train Loss: 0.1197 Train Acc: 0.9574 Val Loss: 2.2779 Val Acc: 0.6524 Best Val Acc: 0.6637\n",
      "Time: 35.04772591590881 Epoch 509 Train Loss: 0.1200 Train Acc: 0.9585 Val Loss: 2.3796 Val Acc: 0.6560 Best Val Acc: 0.6637\n",
      "Time: 34.606987714767456 Epoch 510 Train Loss: 0.1186 Train Acc: 0.9585 Val Loss: 2.2684 Val Acc: 0.6527 Best Val Acc: 0.6637\n",
      "Time: 34.97706580162048 Epoch 511 Train Loss: 0.1165 Train Acc: 0.9579 Val Loss: 2.3156 Val Acc: 0.6535 Best Val Acc: 0.6637\n",
      "Time: 35.04558181762695 Epoch 512 Train Loss: 0.1163 Train Acc: 0.9583 Val Loss: 2.3480 Val Acc: 0.6539 Best Val Acc: 0.6637\n",
      "Time: 34.63277983665466 Epoch 513 Train Loss: 0.1157 Train Acc: 0.9598 Val Loss: 2.4607 Val Acc: 0.6482 Best Val Acc: 0.6637\n",
      "Time: 34.641090869903564 Epoch 514 Train Loss: 0.1177 Train Acc: 0.9584 Val Loss: 2.3802 Val Acc: 0.6498 Best Val Acc: 0.6637\n",
      "Time: 34.902843952178955 Epoch 515 Train Loss: 0.1189 Train Acc: 0.9569 Val Loss: 2.2928 Val Acc: 0.6544 Best Val Acc: 0.6637\n",
      "Time: 34.37431216239929 Epoch 516 Train Loss: 0.1181 Train Acc: 0.9581 Val Loss: 2.2480 Val Acc: 0.6539 Best Val Acc: 0.6637\n",
      "Time: 34.757009744644165 Epoch 517 Train Loss: 0.1182 Train Acc: 0.9581 Val Loss: 2.1514 Val Acc: 0.6562 Best Val Acc: 0.6637\n",
      "Time: 34.39727258682251 Epoch 518 Train Loss: 0.1125 Train Acc: 0.9599 Val Loss: 2.3179 Val Acc: 0.6583 Best Val Acc: 0.6637\n",
      "Time: 34.87598967552185 Epoch 519 Train Loss: 0.1167 Train Acc: 0.9583 Val Loss: 2.4507 Val Acc: 0.6584 Best Val Acc: 0.6637\n",
      "Time: 35.335599184036255 Epoch 520 Train Loss: 0.1202 Train Acc: 0.9575 Val Loss: 2.3519 Val Acc: 0.6534 Best Val Acc: 0.6637\n",
      "Time: 35.07099938392639 Epoch 521 Train Loss: 0.1128 Train Acc: 0.9606 Val Loss: 2.3390 Val Acc: 0.6573 Best Val Acc: 0.6637\n",
      "Time: 35.92793297767639 Epoch 522 Train Loss: 0.1135 Train Acc: 0.9604 Val Loss: 2.3847 Val Acc: 0.6574 Best Val Acc: 0.6637\n",
      "Time: 38.78901648521423 Epoch 523 Train Loss: 0.1166 Train Acc: 0.9581 Val Loss: 2.3899 Val Acc: 0.6525 Best Val Acc: 0.6637\n",
      "Time: 37.20551323890686 Epoch 524 Train Loss: 0.1215 Train Acc: 0.9570 Val Loss: 2.2529 Val Acc: 0.6525 Best Val Acc: 0.6637\n",
      "Time: 37.62196636199951 Epoch 525 Train Loss: 0.1177 Train Acc: 0.9589 Val Loss: 2.2854 Val Acc: 0.6457 Best Val Acc: 0.6637\n",
      "Time: 38.26421141624451 Epoch 526 Train Loss: 0.1152 Train Acc: 0.9592 Val Loss: 2.4742 Val Acc: 0.6531 Best Val Acc: 0.6637\n",
      "Time: 38.208558559417725 Epoch 527 Train Loss: 0.1168 Train Acc: 0.9590 Val Loss: 2.3812 Val Acc: 0.6461 Best Val Acc: 0.6637\n",
      "Time: 35.46656274795532 Epoch 528 Train Loss: 0.1136 Train Acc: 0.9602 Val Loss: 2.3904 Val Acc: 0.6521 Best Val Acc: 0.6637\n"
     ]
    },
    {
     "ename": "KeyboardInterrupt",
     "evalue": "",
     "output_type": "error",
     "traceback": [
      "\u001b[1;31m---------------------------------------------------------------------------\u001b[0m",
      "\u001b[1;31mKeyboardInterrupt\u001b[0m                         Traceback (most recent call last)",
      "Cell \u001b[1;32mIn[19], line 48\u001b[0m\n\u001b[0;32m     45\u001b[0m optimizer\u001b[38;5;241m.\u001b[39mstep()\n\u001b[0;32m     47\u001b[0m \u001b[38;5;66;03m# update training loss and accuracy\u001b[39;00m\n\u001b[1;32m---> 48\u001b[0m train_loss \u001b[38;5;241m+\u001b[39m\u001b[38;5;241m=\u001b[39m \u001b[43mloss\u001b[49m\u001b[38;5;241;43m.\u001b[39;49m\u001b[43mitem\u001b[49m\u001b[43m(\u001b[49m\u001b[43m)\u001b[49m \u001b[38;5;241m*\u001b[39m inputs\u001b[38;5;241m.\u001b[39msize(\u001b[38;5;241m0\u001b[39m)\n\u001b[0;32m     49\u001b[0m _, predicted \u001b[38;5;241m=\u001b[39m torch\u001b[38;5;241m.\u001b[39mmax(outputs\u001b[38;5;241m.\u001b[39mdata, \u001b[38;5;241m1\u001b[39m)\n\u001b[0;32m     50\u001b[0m train_acc \u001b[38;5;241m+\u001b[39m\u001b[38;5;241m=\u001b[39m (predicted \u001b[38;5;241m==\u001b[39m labels)\u001b[38;5;241m.\u001b[39msum()\u001b[38;5;241m.\u001b[39mitem()\n",
      "\u001b[1;31mKeyboardInterrupt\u001b[0m: "
     ]
    }
   ],
   "source": [
    "epochs = 2000\n",
    "optimizer = optim.SGD(model.parameters(), lr=0.01, momentum=0.9)\n",
    "save_every = 50\n",
    "# define your loss function\n",
    "criterion = nn.CrossEntropyLoss()\n",
    "\n",
    "scheduler = optim.lr_scheduler.ReduceLROnPlateau(optimizer, mode='min', factor=0.1, patience=10, verbose=True, cooldown=0, min_lr=0.001, eps=1e-08)\n",
    "# define your checkpoint callback function\n",
    "def save_checkpoint(state, is_best, filename='checkpoint.pth.tar', save_every=save_every):\n",
    "    torch.save(state, filename)\n",
    "    if is_best:\n",
    "        shutil.copyfile(filename, 'best_model.pth.tar')\n",
    "    if state['epoch'] % save_every == 0:\n",
    "        torch.save(state, f'checkpoint_epoch{state[\"epoch\"]}.pth.tar')\n",
    "\n",
    "# initialize variables for tracking training progress and best validation accuracy\n",
    "train_losses = []\n",
    "train_accs = []\n",
    "val_losses = []\n",
    "val_accs = []\n",
    "best_val_acc = 0.0\n",
    "\n",
    "device = torch.device('cuda' if torch.cuda.is_available() else 'cpu')\n",
    "print(device)\n",
    "# train the model\n",
    "for epoch in range(epochs):\n",
    "    start=time.time()\n",
    "    # train for one epoch\n",
    "    model.to(device)\n",
    "    model.train()\n",
    "    train_loss = 0.0\n",
    "    train_acc = 0.0\n",
    "    for i, (inputs, labels) in enumerate(train_loader):\n",
    "        # zero the parameter gradients\n",
    "        optimizer.zero_grad()\n",
    "\n",
    "        # move inputs and labels to the same device as the model\n",
    "        inputs = inputs.to(device)\n",
    "        labels = labels.to(device)\n",
    "\n",
    "        # forward + backward + optimize\n",
    "        outputs = model(inputs)\n",
    "        loss = criterion(outputs, labels)\n",
    "        loss.backward()\n",
    "        optimizer.step()\n",
    "\n",
    "        # update training loss and accuracy\n",
    "        train_loss += loss.item() * inputs.size(0)\n",
    "        _, predicted = torch.max(outputs.data, 1)\n",
    "        train_acc += (predicted == labels).sum().item()\n",
    "\n",
    "    # calculate average training loss and accuracy for the epoch\n",
    "    train_loss = train_loss / len(train_loader.dataset)\n",
    "    train_acc = train_acc / len(train_loader.dataset)\n",
    "    train_losses.append(train_loss)\n",
    "    train_accs.append(train_acc)\n",
    "\n",
    "    # evaluate the model on the validation set\n",
    "    model.eval()\n",
    "    val_loss = 0.0\n",
    "    val_acc = 0.0\n",
    "    with torch.no_grad():\n",
    "        for inputs, labels in val_loader:\n",
    "            # move inputs and labels to the same device as the model\n",
    "            inputs = inputs.to(device)\n",
    "            labels = labels.to(device)\n",
    "\n",
    "            outputs = model(inputs)\n",
    "            loss = criterion(outputs, labels)\n",
    "            val_loss += loss.item() * inputs.size(0)\n",
    "            _, predicted = torch.max(outputs.data, 1)\n",
    "            val_acc += (predicted == labels).sum().item()\n",
    "\n",
    "    # calculate average validation loss and accuracy for the epoch\n",
    "    val_loss = val_loss / len(val_loader.dataset)\n",
    "    val_acc = val_acc / len(val_loader.dataset)\n",
    "    val_losses.append(val_loss)\n",
    "    val_accs.append(val_acc)\n",
    "\n",
    "    # update the learning rate scheduler based on validation loss\n",
    "    scheduler.step(-val_loss)\n",
    "\n",
    "    # save checkpoint and best model\n",
    "    is_best = val_acc > best_val_acc\n",
    "    best_val_acc = max(val_acc, best_val_acc)\n",
    "    save_checkpoint({\n",
    "        'epoch': epoch + 1,\n",
    "        'model_state_dict': model.state_dict(),\n",
    "        'optimizer_state_dict': optimizer.state_dict(),\n",
    "        'train_loss': train_loss,\n",
    "        'train_acc': train_acc,\n",
    "        'val_loss': val_loss,\n",
    "        'val_acc': val_acc\n",
    "    }, is_best)\n",
    "\n",
    "    # print training progress for the epoch\n",
    "    stop=time.time()\n",
    "    print(f'Time: {stop-start} Epoch {epoch+1} Train Loss: {train_loss:.4f} Train Acc: {train_acc:.4f} Val Loss: {val_loss:.4f} Val Acc: {val_acc:.4f} Best Val Acc: {best_val_acc:.4f}')\n",
    "\n",
    "print('Finished Training')"
   ]
  },
  {
   "cell_type": "markdown",
   "metadata": {
    "id": "vnmN7X0Lt88s"
   },
   "source": [
    "#Save model"
   ]
  },
  {
   "cell_type": "markdown",
   "metadata": {
    "id": "HRQ3-GAkutyh"
   },
   "source": [
    "# **Model evaluation:**"
   ]
  },
  {
   "cell_type": "code",
   "execution_count": 20,
   "metadata": {
    "id": "OirCn85XRRjJ"
   },
   "outputs": [
    {
     "data": {
      "image/png": "[encoded data removed]",
      "text/plain": [
       "<Figure size 1200x400 with 2 Axes>"
      ]
     },
     "metadata": {},
     "output_type": "display_data"
    }
   ],
   "source": [
    "# Create plots for accuracy and loss.\n",
    "fig, ax = plt.subplots(1, 2)\n",
    "fig.set_size_inches(12, 4)\n",
    "\n",
    "ax[0].plot(train_accs)\n",
    "ax[0].plot(val_accs)\n",
    "ax[0].set_title('Training Accuracy vs Validation Accuracy')\n",
    "ax[0].set_ylabel('Accuracy')\n",
    "ax[0].set_xlabel('Epoch')\n",
    "ax[0].legend(['Train', 'Validation'], loc='upper left')\n",
    "\n",
    "ax[1].plot(train_losses)\n",
    "ax[1].plot(val_losses)\n",
    "ax[1].set_title('Training Loss vs Validation Loss')\n",
    "ax[1].set_ylabel('Loss')\n",
    "ax[1].set_xlabel('Epoch')\n",
    "ax[1].legend(['Train', 'Validation'], loc='upper left')\n",
    "\n",
    "plt.show()"
   ]
  },
  {
   "cell_type": "markdown",
   "metadata": {
    "id": "YpwLo3MOVlo_"
   },
   "source": [
    "## Pretrain Model\n"
   ]
  },
  {
   "cell_type": "code",
   "execution_count": 23,
   "metadata": {
    "id": "M_4f0pr_MvTf"
   },
   "outputs": [
    {
     "name": "stdout",
     "output_type": "stream",
     "text": [
      "epoch\n",
      "model_state_dict\n",
      "optimizer_state_dict\n",
      "train_loss\n",
      "train_acc\n",
      "val_loss\n",
      "val_acc\n"
     ]
    },
    {
     "data": {
      "text/plain": [
       "<Figure size 640x480 with 0 Axes>"
      ]
     },
     "metadata": {},
     "output_type": "display_data"
    },
    {
     "data": {
      "image/png": "[encoded data removed]",
      "text/plain": [
       "<Figure size 1440x720 with 2 Axes>"
      ]
     },
     "metadata": {},
     "output_type": "display_data"
    }
   ],
   "source": [
    "import numpy as np\n",
    "import torch\n",
    "import itertools\n",
    "import matplotlib.pyplot as plt\n",
    "from sklearn.metrics import confusion_matrix\n",
    "\n",
    "# load the checkpoint file\n",
    "checkpoint = torch.load('best_model.pth.tar')\n",
    "for key in checkpoint:\n",
    "    print(key)\n",
    "        \n",
    "\n",
    "# retrieve the model state dictionary from the checkpoint\n",
    "model.load_state_dict(checkpoint['model_state_dict'])\n",
    "\n",
    "# compute predictions\n",
    "model.eval()\n",
    "y_pred = []\n",
    "y_true = []\n",
    "with torch.no_grad():\n",
    "    for inputs, labels in val_set:\n",
    "        inputs = inputs.to(device)\n",
    "        inputs = inputs.unsqueeze(0)\n",
    "        outputs = model(inputs)\n",
    "        _, preds = torch.max(outputs, 1)\n",
    "        y_pred += preds.tolist()\n",
    "        y_true.append(labels)  # remove .tolist()\n",
    "\n",
    "class_names = ['angry', 'disgust', 'fear', 'happy', 'neutral', 'sad', 'surprise']\n",
    "\n",
    "# Create function to plot confusion matrix.\n",
    "def plot_confusion_matrix(cm, classes, title='Confusion matrix', cmap=plt.cm.Blues):\n",
    "    cm = cm.astype('float') / cm.sum(axis=1)[:, np.newaxis]\n",
    "    plt.figure(figsize=(12,6), dpi=120)\n",
    "    plt.imshow(cm, interpolation='nearest', cmap=cmap)\n",
    "    plt.title(title)\n",
    "    plt.colorbar()\n",
    "    tick_marks = np.arange(len(classes))\n",
    "    plt.xticks(tick_marks, classes, rotation=45)\n",
    "    plt.yticks(tick_marks, classes)\n",
    "\n",
    "    fmt = '.2f'\n",
    "    thresh = cm.max() / 2.\n",
    "    for i, j in itertools.product(range(cm.shape[0]), range(cm.shape[1])):\n",
    "        plt.text(j, i, format(cm[i, j], fmt),\n",
    "                 horizontalalignment=\"center\",\n",
    "                 color=\"white\" if cm[i, j] > thresh else \"black\")\n",
    "\n",
    "    plt.ylabel('True label')\n",
    "    plt.xlabel('Predicted label')\n",
    "    plt.tight_layout()\n",
    "    plt.show()\n",
    "\n",
    "# Compute confusion matrix\n",
    "cnf_matrix = confusion_matrix(y_true, y_pred)\n",
    "np.set_printoptions(precision=2)\n",
    "\n",
    "# Plot normalized confusion matrix\n",
    "plt.figure()\n",
    "plot_confusion_matrix(cnf_matrix, classes=class_names, title='Normalized confusion matrix')\n",
    "plt.show()"
   ]
  },
  {
   "cell_type": "markdown",
   "metadata": {
    "id": "V69pX_lbVp0U"
   },
   "source": [
    "Load model:"
   ]
  },
  {
   "cell_type": "markdown",
   "metadata": {
    "id": "tgloycjsVovY"
   },
   "source": [
    "loaded_model = load_model(\"AlexNet_model-100iters.h5\")\n",
    "loaded_model.load_weights(\"AlexNet_model_weights-100iters.h5\")"
   ]
  }
 ],
 "metadata": {
  "accelerator": "GPU",
  "colab": {
   "collapsed_sections": [
    "URwdYfsiMltF",
    "g5RpZlMkPGG2"
   ],
   "provenance": []
  },
  "gpuClass": "standard",
  "kernelspec": {
   "display_name": "Python 3 (ipykernel)",
   "language": "python",
   "name": "python3"
  },
  "language_info": {
   "codemirror_mode": {
    "name": "ipython",
    "version": 3
   },
   "file_extension": ".py",
   "mimetype": "text/x-python",
   "name": "python",
   "nbconvert_exporter": "python",
   "pygments_lexer": "ipython3",
   "version": "3.8.16"
  }
 },
 "nbformat": 4,
 "nbformat_minor": 1
}
