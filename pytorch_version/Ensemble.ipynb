{
 "cells": [
  {
   "cell_type": "markdown",
   "metadata": {
    "id": "view-in-github"
   },
   "source": [
    "<a href=\"https://colab.research.google.com/github/anishjohnson/Face-Emotion-Recognition/blob/main/FER/Colab%20Notebook/Face_Emotion_Recognition_Anish_Johnson.ipynb\" target=\"_parent\"><img src=\"https://colab.research.google.com/assets/colab-badge.svg\" alt=\"Open In Colab\"/></a>"
   ]
  },
  {
   "cell_type": "markdown",
   "metadata": {
    "id": "URwdYfsiMltF"
   },
   "source": [
    "# **Face Emotion Recognition**\n",
    "\n",
    "\n",
    "\n",
    "\n",
    "\n",
    "\n",
    "\n",
    "\n"
   ]
  },
  {
   "cell_type": "markdown",
   "metadata": {
    "id": "g5RpZlMkPGG2"
   },
   "source": [
    "# **Objective**\n",
    "Our objective is to solve the above mentioned challenge by applying deep learning algorithms to live video data inorder to recognize the facial emotions and categorize them accordingly."
   ]
  },
  {
   "cell_type": "markdown",
   "metadata": {
    "id": "9AGaR26YPV--"
   },
   "source": [
    "# **Dataset used**\n",
    "We have utilized the [FER 2013](https://www.kaggle.com/datasets/msambare/fer2013) dataset provided on Kaggle.<br>\n",
    "The data consists of 48x48 pixel grayscale images of faces. The faces have been automatically registered so that the face is more or less centred and occupies about the same amount of space in each image.<br>\n",
    "\n",
    "The task is to categorize each face based on the emotion shown in the facial expression into one of seven categories (0=Angry, 1=Disgust, 2=Fear, 3=Happy, 4=Sad, 5=Surprise, 6=Neutral). The training set consists of 28,709 examples and the public test set consists of 3,589 examples."
   ]
  },
  {
   "cell_type": "code",
   "execution_count": 3,
   "metadata": {
    "colab": {
     "base_uri": "https://localhost:8080/"
    },
    "executionInfo": {
     "elapsed": 917,
     "status": "ok",
     "timestamp": 1678939579815,
     "user": {
      "displayName": "DAT TRAN TUAN",
      "userId": "05852791585342980378"
     },
     "user_tz": -420
    },
    "id": "gVjAMoriVm5s",
    "outputId": "d1a5e2db-f96e-4245-ac39-3c50cd38e638"
   },
   "outputs": [
    {
     "name": "stdout",
     "output_type": "stream",
     "text": [
      "Thu Mar 16 13:48:34 2023       \n",
      "+-----------------------------------------------------------------------------+\n",
      "| NVIDIA-SMI 528.33       Driver Version: 528.33       CUDA Version: 12.0     |\n",
      "|-------------------------------+----------------------+----------------------+\n",
      "| GPU  Name            TCC/WDDM | Bus-Id        Disp.A | Volatile Uncorr. ECC |\n",
      "| Fan  Temp  Perf  Pwr:Usage/Cap|         Memory-Usage | GPU-Util  Compute M. |\n",
      "|                               |                      |               MIG M. |\n",
      "|===============================+======================+======================|\n",
      "|   0  NVIDIA GeForce ... WDDM  | 00000000:01:00.0 Off |                  N/A |\n",
      "| N/A   54C    P8     5W /  80W |   1273MiB /  6144MiB |      0%      Default |\n",
      "|                               |                      |                  N/A |\n",
      "+-------------------------------+----------------------+----------------------+\n",
      "                                                                               \n",
      "+-----------------------------------------------------------------------------+\n",
      "| Processes:                                                                  |\n",
      "|  GPU   GI   CI        PID   Type   Process name                  GPU Memory |\n",
      "|        ID   ID                                                   Usage      |\n",
      "|=============================================================================|\n",
      "|    0   N/A  N/A      9860      C   ...nda3\\envs\\py38\\python.exe    N/A      |\n",
      "+-----------------------------------------------------------------------------+\n",
      "nvcc: NVIDIA (R) Cuda compiler driver\n",
      "Copyright (c) 2005-2022 NVIDIA Corporation\n",
      "Built on Tue_Mar__8_18:36:24_Pacific_Standard_Time_2022\n",
      "Cuda compilation tools, release 11.6, V11.6.124\n",
      "Build cuda_11.6.r11.6/compiler.31057947_0\n"
     ]
    }
   ],
   "source": [
    "!nvidia-smi\n",
    "!nvcc -V"
   ]
  },
  {
   "cell_type": "markdown",
   "metadata": {
    "id": "mKaCCukeQGGv"
   },
   "source": [
    "### **Let's Begin:**"
   ]
  },
  {
   "cell_type": "markdown",
   "metadata": {
    "id": "n2QTffm_tEDK"
   },
   "source": [
    "# **Data Exploration:**"
   ]
  },
  {
   "cell_type": "markdown",
   "metadata": {
    "id": "5py4G2_K3R3Y"
   },
   "source": [
    "**Lets start by importing the required libraries.**"
   ]
  },
  {
   "cell_type": "code",
   "execution_count": 1,
   "metadata": {
    "colab": {
     "base_uri": "https://localhost:8080/"
    },
    "executionInfo": {
     "elapsed": 822,
     "status": "ok",
     "timestamp": 1678939607880,
     "user": {
      "displayName": "DAT TRAN TUAN",
      "userId": "05852791585342980378"
     },
     "user_tz": -420
    },
    "id": "OheLkRm1DJ3a",
    "outputId": "5002b744-dd47-44f9-a8ae-f7754f34fd6b"
   },
   "outputs": [
    {
     "name": "stdout",
     "output_type": "stream",
     "text": [
      "Above libraries have been imported.\n"
     ]
    }
   ],
   "source": [
    "# Basic python libraries.\n",
    "import glob\n",
    "import os.path as osp\n",
    "import datetime\n",
    "import numpy as np\n",
    "import pandas as pd\n",
    "import os\n",
    "import matplotlib.pyplot as plt\n",
    "from tqdm import tqdm\n",
    "from PIL import Image\n",
    "import itertools\n",
    "# Get rid of warnings!\n",
    "import torchvision\n",
    "from torchvision import models\n",
    "import warnings\n",
    "warnings.filterwarnings('ignore')\n",
    "import torch\n",
    "import torchvision.transforms as transforms\n",
    "from torch.utils.data import DataLoader, Dataset\n",
    "import torch.nn as nn\n",
    "import torch.nn.functional as F\n",
    "from torchvision.datasets import ImageFolder\n",
    "import torch.optim as optim\n",
    "import torch.utils.data as data\n",
    "import shutil\n",
    "import time\n",
    "from tqdm import tqdm\n",
    "print('Above libraries have been imported.')"
   ]
  },
  {
   "cell_type": "markdown",
   "metadata": {
    "id": "UNCuMOZrGkcx"
   },
   "source": [
    "**Perform some Data Augmentation on train and validations sets.**"
   ]
  },
  {
   "cell_type": "markdown",
   "metadata": {
    "id": "vvy5uusVtMAh"
   },
   "source": [
    "# **Data Preprocessing:**"
   ]
  },
  {
   "cell_type": "code",
   "execution_count": 2,
   "metadata": {
    "executionInfo": {
     "elapsed": 21,
     "status": "ok",
     "timestamp": 1678939618040,
     "user": {
      "displayName": "DAT TRAN TUAN",
      "userId": "05852791585342980378"
     },
     "user_tz": -420
    },
    "id": "NnZfATJ1GW5T"
   },
   "outputs": [],
   "source": [
    "class ImageTransform():\n",
    "    def __init__(self, resize, mean, std):\n",
    "        self.data_transform = {\n",
    "            'train': transforms.Compose([\n",
    "                transforms.RandomResizedCrop(resize, scale = (0.5, 1.0)),\n",
    "                transforms.RandomHorizontalFlip(),\n",
    "                transforms.ToTensor(),\n",
    "                transforms.Normalize((0.5), (0.5))\n",
    "            ]),\n",
    "            \n",
    "            'val': transforms.Compose([\n",
    "                transforms.Resize(resize),\n",
    "                transforms.CenterCrop(resize),\n",
    "                transforms.ToTensor(),\n",
    "                transforms.Normalize((0.5), (0.5))\n",
    "            ])\n",
    "        }\n",
    "        \n",
    "    def __call__(self, img, phase='train'):\n",
    "        return self.data_transform[phase](img)"
   ]
  },
  {
   "cell_type": "code",
   "execution_count": 3,
   "metadata": {
    "executionInfo": {
     "elapsed": 20,
     "status": "ok",
     "timestamp": 1678939618040,
     "user": {
      "displayName": "DAT TRAN TUAN",
      "userId": "05852791585342980378"
     },
     "user_tz": -420
    },
    "id": "pfQSzCIDGWvq"
   },
   "outputs": [],
   "source": [
    "resize = 48\n",
    "mean = (0.485, 0.456, 0.406)\n",
    "std = (0.229, 0.224, 0.225)\n",
    "\n",
    "transform = ImageTransform(resize, mean, std)"
   ]
  },
  {
   "cell_type": "code",
   "execution_count": 4,
   "metadata": {
    "executionInfo": {
     "elapsed": 10,
     "status": "ok",
     "timestamp": 1678939618040,
     "user": {
      "displayName": "DAT TRAN TUAN",
      "userId": "05852791585342980378"
     },
     "user_tz": -420
    },
    "id": "sMRFirGZ9eYb"
   },
   "outputs": [],
   "source": [
    "def make_datapath_list(phase='train'):\n",
    "    rootpath = './dataset/'\n",
    "    target_path = osp.join(rootpath + phase + '/**/*.jpg')\n",
    "    print(target_path)\n",
    "    \n",
    "    path_list = []\n",
    "    \n",
    "    for path in glob.glob(target_path):\n",
    "        path_list.append(path)\n",
    "        \n",
    "    return path_list"
   ]
  },
  {
   "cell_type": "code",
   "execution_count": 5,
   "metadata": {
    "colab": {
     "base_uri": "https://localhost:8080/"
    },
    "executionInfo": {
     "elapsed": 10,
     "status": "ok",
     "timestamp": 1678939618040,
     "user": {
      "displayName": "DAT TRAN TUAN",
      "userId": "05852791585342980378"
     },
     "user_tz": -420
    },
    "id": "wA0NrJma9h1D",
    "outputId": "40ed3fd9-2b7e-4c4b-8c56-43d32021eee4"
   },
   "outputs": [
    {
     "name": "stdout",
     "output_type": "stream",
     "text": [
      "./dataset/train/**/*.jpg\n",
      "./dataset/val/**/*.jpg\n",
      "28709\n",
      "(tensor([[[-0.6314, -0.6392, -0.6706,  ...,  0.1686,  0.1137, -0.2157],\n",
      "         [-0.6471, -0.6392, -0.6863,  ...,  0.1451,  0.1137, -0.2157],\n",
      "         [-0.6157, -0.6549, -0.6941,  ...,  0.1294,  0.1216, -0.2157],\n",
      "         ...,\n",
      "         [-0.0039,  0.0824,  0.1216,  ..., -0.0510, -0.2863, -0.2627],\n",
      "         [-0.0118,  0.0667,  0.1137,  ...,  0.0039, -0.2706, -0.2941],\n",
      "         [-0.0353,  0.0039,  0.0824,  ...,  0.0431, -0.2235, -0.2941]]]), 0)\n",
      "7178\n",
      "(tensor([[[-0.6392, -0.7333, -0.7961,  ..., -0.9216, -0.8980, -0.8275],\n",
      "         [-0.6078, -0.7804, -0.8353,  ..., -0.9137, -0.9216, -0.8353],\n",
      "         [-0.6078, -0.7882, -0.8824,  ..., -0.8275, -0.8118, -0.8275],\n",
      "         ...,\n",
      "         [ 0.6314,  0.4039, -0.1529,  ...,  0.4980,  0.6078,  0.6000],\n",
      "         [ 0.6627,  0.5529,  0.1686,  ...,  0.4196,  0.5686,  0.6000],\n",
      "         [ 0.6314,  0.5765,  0.3412,  ...,  0.2941,  0.4118,  0.4824]]]), 0)\n",
      "All data have been loaded!!\n"
     ]
    }
   ],
   "source": [
    "train_list = make_datapath_list('train')\n",
    "val_list = make_datapath_list('val')\n",
    "\n",
    "class MyDataset(data.Dataset):\n",
    "    def __init__(self, file_list, transform=None, phase=\"train\"):\n",
    "        self.file_list = file_list\n",
    "        self.transform = transform\n",
    "        self.phase = phase\n",
    "        \n",
    "    def __len__(self):\n",
    "        return len(self.file_list)\n",
    "\n",
    "    def __getitem__(self, idx):\n",
    "        img_path = self.file_list[idx]\n",
    "        img = Image.open(img_path)\n",
    "        \n",
    "        img_transformed = self.transform(img, self.phase)\n",
    "        \n",
    "        label = img_path.split('\\\\')[1]\n",
    "        \n",
    "        if label == \"angry\":\n",
    "            label = 0\n",
    "        elif label == \"disgust\":\n",
    "            label = 1\n",
    "        elif label == \"fear\":\n",
    "            label = 2\n",
    "        elif label == \"happy\":\n",
    "            label = 3\n",
    "        elif label == \"neutral\":\n",
    "            label = 4\n",
    "        elif label == \"sad\":\n",
    "            label = 5\n",
    "        elif label == \"surprise\":\n",
    "            label = 6\n",
    "        return img_transformed, label\n",
    "\n",
    "\n",
    "train_set = MyDataset(train_list, transform = ImageTransform(resize, mean, std), phase = 'train')\n",
    "val_set = MyDataset(val_list, transform = ImageTransform(resize, mean, std), phase = 'val')\n",
    "\n",
    "index = 0\n",
    "print(train_set.__len__())\n",
    "print(train_set.__getitem__(index))\n",
    "\n",
    "print(val_set.__len__())\n",
    "print(val_set.__getitem__(index))\n",
    "\n",
    "batch_size = 64\n",
    "\n",
    "train_loader = torch.utils.data.DataLoader(train_set, batch_size, shuffle = True)\n",
    "val_loader = torch.utils.data.DataLoader(val_set, batch_size, shuffle = False)\n",
    "\n",
    "dataloader_dict = {\"train\": train_loader, \"val\": val_loader}\n",
    "\n",
    "\n",
    "batch_iterator = iter(dataloader_dict[\"train\"])\n",
    "\n",
    "batch = next(batch_iterator)\n",
    "\n",
    "\n",
    "inputs, labels = batch\n",
    "\n",
    "print(\"All data have been loaded!!\")"
   ]
  },
  {
   "cell_type": "markdown",
   "metadata": {
    "id": "YNBzIZBDQbAm"
   },
   "source": [
    "**Now lets create our custom CNN model.**"
   ]
  },
  {
   "cell_type": "markdown",
   "metadata": {
    "id": "yOwMRBUFuHnp"
   },
   "source": [
    "# **Build CNN Model:**"
   ]
  },
  {
   "cell_type": "markdown",
   "metadata": {
    "id": "YK5yRfKO2r53"
   },
   "source": [
    "**Before we start building the neural network lets understand some of the terms that we will be using.**\n",
    "\n",
    "* **Model = sequential** : A Sequential model is appropriate for a plain stack of layers where each layer has exactly one input tensor and one output tensor.\n",
    "\n",
    "* **Padding** = The padding parameter of the Keras Conv2D class can take one of two values: 'valid' or 'same'. Setting the value to “valid” parameter means that the input volume is not zero-padded and the spatial dimensions are allowed to reduce via the natural application of convolution.\n",
    "\n",
    "* **Activation** = relu :The rectified linear activation function or ReLU for short is a piecewise linear function that will output the input directly if it is positive, otherwise, it will output zero. It has become the default activation function for many types of neural networks because a model that uses it is easier to train and often achieves better performance.\n",
    "\n",
    "* **Maxpooling** = Maximum pooling, or max pooling, is a pooling operation that calculates the maximum, or largest, value in each patch of each feature map. The results are down sampled or pooled feature maps that highlight the most present feature in the patch, not the average presence of the feature in the case of average pooling.\n",
    "\n",
    "* **Batch normalization** = Batch normalization is a technique for training very deep neural networks that standardizes the inputs to a layer for each mini-batch. This has the effect of stabilizing the learning process and dramatically reducing the number of training epochs required to train deep networks.\n",
    "\n",
    "* **Dropout** = Dropout is a technique used to prevent a model from overfitting. Dropout works by randomly setting the outgoing edges of hidden units (neurons that make up hidden layers) to 0 at each update of the training phase.\n",
    "\n",
    "* **Adam** = Adaptive Moment Estimation is an algorithm for optimization technique for gradient descent. The method is really efficient when working with large problem involving a lot of data or parameters. It requires less memory and is efficient. Intuitively, it is a combination of the ‘gradient descent with momentum’ algorithm and the ‘RMSP’ algorithm. It uses the squared gradients to scale the learning rate like RMSprop and it takes advantage of momentum by using moving average of the gradient instead of gradient itself like SGD with momentum."
   ]
  },
  {
   "cell_type": "code",
   "execution_count": 6,
   "metadata": {
    "executionInfo": {
     "elapsed": 2,
     "status": "ok",
     "timestamp": 1678939628825,
     "user": {
      "displayName": "DAT TRAN TUAN",
      "userId": "05852791585342980378"
     },
     "user_tz": -420
    },
    "id": "3rC4qfWffxRX"
   },
   "outputs": [],
   "source": [
    "import torch.nn as nn\n",
    "import torch.nn.functional as F\n",
    "\n",
    "class AlexNet(nn.Module):\n",
    "    def __init__(self, num_classes=7):\n",
    "        super(AlexNet, self).__init__()\n",
    "        self.features = nn.Sequential(\n",
    "            nn.Conv2d(1, 64, kernel_size=7, stride=2, padding=2),\n",
    "            nn.ReLU(inplace=True),\n",
    "            nn.MaxPool2d(kernel_size=3, stride=2),\n",
    "            nn.Conv2d(64, 128, kernel_size=5, padding=2),\n",
    "            nn.ReLU(inplace=True),\n",
    "            nn.MaxPool2d(kernel_size=3, stride=2),\n",
    "            nn.Conv2d(128, 256, kernel_size=3, padding=1),\n",
    "            nn.ReLU(inplace=True),\n",
    "            nn.Conv2d(256, 512, kernel_size=3, padding=1),\n",
    "            nn.ReLU(inplace=True),\n",
    "            nn.Conv2d(512, 512, kernel_size=3, padding=1),\n",
    "            nn.ReLU(inplace=True),\n",
    "            nn.MaxPool2d(kernel_size=3, stride=2),\n",
    "        )\n",
    "        self.maxpool = nn.AdaptiveMaxPool2d((6, 6))\n",
    "        self.classifier = nn.Sequential(\n",
    "            nn.Dropout(),\n",
    "            nn.Linear(512 * 6 * 6, 4096),\n",
    "            nn.ReLU(inplace=True),\n",
    "            nn.Dropout(),\n",
    "            nn.Linear(4096, 4096),\n",
    "            nn.ReLU(inplace=True),\n",
    "            nn.Linear(4096, num_classes),\n",
    "        )\n",
    "\n",
    "    def forward(self, x):\n",
    "        x = self.features(x)\n",
    "        x = self.maxpool(x)\n",
    "        x = x.view(x.size(0), -1)\n",
    "        x = self.classifier(x)\n",
    "        return F.log_softmax(x, dim=1)\n"
   ]
  },
  {
   "cell_type": "code",
   "execution_count": 7,
   "metadata": {
    "executionInfo": {
     "elapsed": 2,
     "status": "ok",
     "timestamp": 1678939629666,
     "user": {
      "displayName": "DAT TRAN TUAN",
      "userId": "05852791585342980378"
     },
     "user_tz": -420
    },
    "id": "DkUwk3w2fxRX"
   },
   "outputs": [],
   "source": [
    "class VGGNet(nn.Module):\n",
    "    def __init__(self, num_classes=7, drop_rate=0.5):\n",
    "        super(VGGNet, self).__init__()\n",
    "\n",
    "        self.conv_layers = nn.Sequential(\n",
    "            nn.Conv2d(1, 64, kernel_size=3, padding=1),\n",
    "            nn.ReLU(inplace=True),          \n",
    "            nn.MaxPool2d(kernel_size=2, stride=2),\n",
    "\n",
    "            nn.Conv2d(64, 128, kernel_size=3, padding=1),\n",
    "            nn.ReLU(inplace=True),\n",
    "            nn.MaxPool2d(kernel_size=2, stride=2),\n",
    "\n",
    "            nn.Conv2d(128, 256, kernel_size=3, padding=1),\n",
    "            nn.ReLU(inplace=True),\n",
    "            nn.Conv2d(256, 256, kernel_size=3, padding=1),\n",
    "            nn.ReLU(inplace=True),             \n",
    "            nn.MaxPool2d(kernel_size=2, stride=2),\n",
    "            \n",
    "            nn.Conv2d(256, 256, kernel_size=3, padding=1),\n",
    "            nn.ReLU(inplace=True),\n",
    "            nn.Conv2d(256, 256, kernel_size=3, padding=1),\n",
    "            nn.ReLU(inplace=True),\n",
    "            nn.MaxPool2d(kernel_size=2, stride=2),\n",
    "           \n",
    "        )\n",
    "        # self.flattened_tensor = nn.Flatten()\n",
    "        self.avgpool = nn.AvgPool2d(7, stride=1)\n",
    "\n",
    "        self.fc_layers = nn.Sequential(\n",
    "            nn.Linear(2304, 4096),\n",
    "            nn.ReLU(inplace=True),\n",
    "            nn.Dropout(drop_rate),\n",
    "            nn.Linear(4096, 4096),\n",
    "            nn.ReLU(inplace=True),\n",
    "            nn.Dropout(drop_rate),\n",
    "            nn.Linear(4096, num_classes),\n",
    "        )\n",
    "\n",
    "    def forward(self, x):\n",
    "        x = self.conv_layers(x)\n",
    "        x = x.view(x.size(0), -1)\n",
    "        x = self.fc_layers(x)\n",
    "        return x"
   ]
  },
  {
   "cell_type": "code",
   "execution_count": 8,
   "metadata": {
    "executionInfo": {
     "elapsed": 2,
     "status": "ok",
     "timestamp": 1678939629666,
     "user": {
      "displayName": "DAT TRAN TUAN",
      "userId": "05852791585342980378"
     },
     "user_tz": -420
    },
    "id": "wnoaKI2e-Di6"
   },
   "outputs": [],
   "source": [
    "class ResidualBlock(nn.Module):\n",
    "    def __init__(self, in_channels, out_channels, stride = 1, downsample = None):\n",
    "        super(ResidualBlock, self).__init__()\n",
    "        self.conv1 = nn.Sequential(\n",
    "                        nn.Conv2d(in_channels, out_channels, kernel_size = 3, stride = stride, padding = 1),\n",
    "                        nn.BatchNorm2d(out_channels),\n",
    "                        nn.ReLU())\n",
    "        self.conv2 = nn.Sequential(\n",
    "                        nn.Conv2d(out_channels, out_channels, kernel_size = 3, stride = 1, padding = 1),\n",
    "                        nn.BatchNorm2d(out_channels))\n",
    "        self.downsample = downsample\n",
    "        self.relu = nn.ReLU()\n",
    "        self.out_channels = out_channels\n",
    "        \n",
    "    def forward(self, x):\n",
    "        residual = x\n",
    "        out = self.conv1(x)\n",
    "        out = self.conv2(out)\n",
    "        if self.downsample:\n",
    "            residual = self.downsample(x)\n",
    "        out += residual\n",
    "        out = self.relu(out)\n",
    "        return out\n",
    "\n",
    "class ResNet(nn.Module):\n",
    "    def __init__(self, block, layers, num_classes = 7):\n",
    "        super(ResNet, self).__init__()\n",
    "        self.inplanes = 64\n",
    "        self.conv1 = nn.Sequential(\n",
    "                        nn.Conv2d(1, 64, kernel_size = 7, stride = 2, padding = 3),\n",
    "                        nn.BatchNorm2d(64),\n",
    "                        nn.ReLU())\n",
    "        self.maxpool = nn.MaxPool2d(kernel_size = 3, stride = 2, padding = 1)\n",
    "        self.layer0 = self._make_layer(block, 64, layers[0], stride = 1)\n",
    "        self.layer1 = self._make_layer(block, 128, layers[1], stride = 2)\n",
    "        self.layer2 = self._make_layer(block, 256, layers[2], stride = 2)\n",
    "        self.layer3 = self._make_layer(block, 256, layers[3], stride = 2)\n",
    "        self.avgpool = nn.AvgPool2d(7, stride=1)\n",
    "        self.fc = nn.Linear(256, num_classes)\n",
    "        \n",
    "    def _make_layer(self, block, planes, blocks, stride=1):\n",
    "        downsample = None\n",
    "        if stride != 1 or self.inplanes != planes:\n",
    "            \n",
    "            downsample = nn.Sequential(\n",
    "                nn.Conv2d(self.inplanes, planes, kernel_size=1, stride=stride),\n",
    "                nn.BatchNorm2d(planes),\n",
    "            )\n",
    "        layers = []\n",
    "        layers.append(block(self.inplanes, planes, stride, downsample))\n",
    "        self.inplanes = planes\n",
    "        for i in range(1, blocks):\n",
    "            layers.append(block(self.inplanes, planes))\n",
    "\n",
    "        return nn.Sequential(*layers)\n",
    "    \n",
    "    \n",
    "    def forward(self, x):\n",
    "        x = self.conv1(x)\n",
    "        x = self.maxpool(x)\n",
    "        x = self.layer0(x)\n",
    "        x = self.layer1(x)\n",
    "        x = self.layer2(x)\n",
    "        x = self.layer3(x)\n",
    "\n",
    "        x = self.maxpool(x)\n",
    "        x = x.view(x.size(0), -1)\n",
    "        x = self.fc(x)\n",
    "\n",
    "        return x"
   ]
  },
  {
   "cell_type": "code",
   "execution_count": 14,
   "metadata": {
    "executionInfo": {
     "elapsed": 78197,
     "status": "ok",
     "timestamp": 1678939710203,
     "user": {
      "displayName": "DAT TRAN TUAN",
      "userId": "05852791585342980378"
     },
     "user_tz": -420
    },
    "id": "dnxVTMKcGWjd",
    "scrolled": true
   },
   "outputs": [],
   "source": [
    "from sklearn.svm import SVC\n",
    "import numpy as np\n",
    "\n",
    "label_dict = {0:'Angry',1:'Disgust',2:'Fear',3:'Happy',4:'Neutral',5:'Sad',6:'Surprise'}\n",
    "\n",
    "device = torch.device('cuda' if torch.cuda.is_available() else 'cpu')\n",
    "\n",
    "# Define model architecture\n",
    "model_AlexNet = AlexNet(7).to(device)\n",
    "model_VGGNet = VGGNet(7).to(device)\n",
    "model_ResNet = ResNet(ResidualBlock, [2, 2, 2, 2]).to(device)\n",
    "    \n",
    "# Load weights model\n",
    "alex_checkpoint = torch.load('/dataset/best_model_alexnet.pth.tar')\n",
    "vgg_checkpoint = torch.load('/content/drive/MyDrive/Colab Notebooks/Project-AI/model_saved/pytorch_weights/best_model_vgg.pth.tar')\n",
    "resnet_checkpoint = torch.load('/content/drive/MyDrive/Colab Notebooks/Project-AI/model_saved/pytorch_weights/best_model_resnet.pth.tar')\n",
    "\n",
    "model_AlexNet.load_state_dict(alex_checkpoint['model_state_dict'])\n",
    "model_VGGNet.load_state_dict(vgg_checkpoint['model_state_dict'])\n",
    "model_ResNet.load_state_dict(resnet_checkpoint['model_state_dict'])\n",
    "\n",
    "y_pred_alex = []\n",
    "y_pred_vgg = []\n",
    "y_pred_resnet = []\n",
    "y_true = []\n",
    "\n",
    "\n",
    "with torch.no_grad():\n",
    "    for inputs, labels in val_set:\n",
    "        inputs = inputs.to(device)\n",
    "        inputs = inputs.unsqueeze(0)\n",
    "\n",
    "        outputs_alex = model_AlexNet(inputs)\n",
    "        outputs_vgg = model_VGGNet(inputs)\n",
    "        outputs_resnet =  model_ResNet(inputs)\n",
    "\n",
    "        _, preds_alex = torch.max(outputs_alex, 1)\n",
    "        _, preds_vgg = torch.max(outputs_vgg, 1)\n",
    "        _, preds_resnet = torch.max(outputs_resnet, 1)\n",
    "\n",
    "        y_pred_alex += preds_alex.tolist()\n",
    "        y_pred_vgg += preds_vgg.tolist()\n",
    "        y_pred_resnet += preds_resnet.tolist()\n",
    "        y_true.append(labels)\n",
    "\n",
    "y_pred_alex = np.array(y_pred_alex)\n",
    "y_pred_vgg = np.array(y_pred_vgg)\n",
    "y_pred_resnet = np.array(y_pred_resnet)"
   ]
  },
  {
   "cell_type": "code",
   "execution_count": 15,
   "metadata": {
    "executionInfo": {
     "elapsed": 12,
     "status": "ok",
     "timestamp": 1678939710203,
     "user": {
      "displayName": "DAT TRAN TUAN",
      "userId": "05852791585342980378"
     },
     "user_tz": -420
    },
    "id": "q9Vp9dn1c8WU"
   },
   "outputs": [],
   "source": [
    "y_pred_alex_2d = y_pred_alex.reshape(-1,1)\n",
    "y_pred_vgg_2d = y_pred_vgg.reshape(-1,1)\n",
    "y_pred_resnet_2d = y_pred_resnet.reshape(-1,1)"
   ]
  },
  {
   "cell_type": "code",
   "execution_count": 16,
   "metadata": {
    "colab": {
     "base_uri": "https://localhost:8080/"
    },
    "executionInfo": {
     "elapsed": 11,
     "status": "ok",
     "timestamp": 1678939710203,
     "user": {
      "displayName": "DAT TRAN TUAN",
      "userId": "05852791585342980378"
     },
     "user_tz": -420
    },
    "id": "RBJu7Kt3Hbyx",
    "outputId": "5f2bf1a7-2f2a-4367-b4e0-3b836245ea7e"
   },
   "outputs": [
    {
     "name": "stdout",
     "output_type": "stream",
     "text": [
      "[0 1 1 ... 5 3 3]\n"
     ]
    }
   ],
   "source": [
    "print( y_pred_alex)"
   ]
  },
  {
   "cell_type": "code",
   "execution_count": 19,
   "metadata": {
    "colab": {
     "base_uri": "https://localhost:8080/",
     "height": 74
    },
    "executionInfo": {
     "elapsed": 19,
     "status": "ok",
     "timestamp": 1678939714388,
     "user": {
      "displayName": "DAT TRAN TUAN",
      "userId": "05852791585342980378"
     },
     "user_tz": -420
    },
    "id": "2LnNInRAGmTM",
    "outputId": "22b24862-2262-4b67-8f18-1e029a6e1697"
   },
   "outputs": [
    {
     "data": {
      "text/html": [
       "<style>#sk-container-id-1 {color: black;background-color: white;}#sk-container-id-1 pre{padding: 0;}#sk-container-id-1 div.sk-toggleable {background-color: white;}#sk-container-id-1 label.sk-toggleable__label {cursor: pointer;display: block;width: 100%;margin-bottom: 0;padding: 0.3em;box-sizing: border-box;text-align: center;}#sk-container-id-1 label.sk-toggleable__label-arrow:before {content: \"▸\";float: left;margin-right: 0.25em;color: #696969;}#sk-container-id-1 label.sk-toggleable__label-arrow:hover:before {color: black;}#sk-container-id-1 div.sk-estimator:hover label.sk-toggleable__label-arrow:before {color: black;}#sk-container-id-1 div.sk-toggleable__content {max-height: 0;max-width: 0;overflow: hidden;text-align: left;background-color: #f0f8ff;}#sk-container-id-1 div.sk-toggleable__content pre {margin: 0.2em;color: black;border-radius: 0.25em;background-color: #f0f8ff;}#sk-container-id-1 input.sk-toggleable__control:checked~div.sk-toggleable__content {max-height: 200px;max-width: 100%;overflow: auto;}#sk-container-id-1 input.sk-toggleable__control:checked~label.sk-toggleable__label-arrow:before {content: \"▾\";}#sk-container-id-1 div.sk-estimator input.sk-toggleable__control:checked~label.sk-toggleable__label {background-color: #d4ebff;}#sk-container-id-1 div.sk-label input.sk-toggleable__control:checked~label.sk-toggleable__label {background-color: #d4ebff;}#sk-container-id-1 input.sk-hidden--visually {border: 0;clip: rect(1px 1px 1px 1px);clip: rect(1px, 1px, 1px, 1px);height: 1px;margin: -1px;overflow: hidden;padding: 0;position: absolute;width: 1px;}#sk-container-id-1 div.sk-estimator {font-family: monospace;background-color: #f0f8ff;border: 1px dotted black;border-radius: 0.25em;box-sizing: border-box;margin-bottom: 0.5em;}#sk-container-id-1 div.sk-estimator:hover {background-color: #d4ebff;}#sk-container-id-1 div.sk-parallel-item::after {content: \"\";width: 100%;border-bottom: 1px solid gray;flex-grow: 1;}#sk-container-id-1 div.sk-label:hover label.sk-toggleable__label {background-color: #d4ebff;}#sk-container-id-1 div.sk-serial::before {content: \"\";position: absolute;border-left: 1px solid gray;box-sizing: border-box;top: 0;bottom: 0;left: 50%;z-index: 0;}#sk-container-id-1 div.sk-serial {display: flex;flex-direction: column;align-items: center;background-color: white;padding-right: 0.2em;padding-left: 0.2em;position: relative;}#sk-container-id-1 div.sk-item {position: relative;z-index: 1;}#sk-container-id-1 div.sk-parallel {display: flex;align-items: stretch;justify-content: center;background-color: white;position: relative;}#sk-container-id-1 div.sk-item::before, #sk-container-id-1 div.sk-parallel-item::before {content: \"\";position: absolute;border-left: 1px solid gray;box-sizing: border-box;top: 0;bottom: 0;left: 50%;z-index: -1;}#sk-container-id-1 div.sk-parallel-item {display: flex;flex-direction: column;z-index: 1;position: relative;background-color: white;}#sk-container-id-1 div.sk-parallel-item:first-child::after {align-self: flex-end;width: 50%;}#sk-container-id-1 div.sk-parallel-item:last-child::after {align-self: flex-start;width: 50%;}#sk-container-id-1 div.sk-parallel-item:only-child::after {width: 0;}#sk-container-id-1 div.sk-dashed-wrapped {border: 1px dashed gray;margin: 0 0.4em 0.5em 0.4em;box-sizing: border-box;padding-bottom: 0.4em;background-color: white;}#sk-container-id-1 div.sk-label label {font-family: monospace;font-weight: bold;display: inline-block;line-height: 1.2em;}#sk-container-id-1 div.sk-label-container {text-align: center;}#sk-container-id-1 div.sk-container {/* jupyter's `normalize.less` sets `[hidden] { display: none; }` but bootstrap.min.css set `[hidden] { display: none !important; }` so we also need the `!important` here to be able to override the default hidden behavior on the sphinx rendered scikit-learn.org. See: https://github.com/scikit-learn/scikit-learn/issues/21755 */display: inline-block !important;position: relative;}#sk-container-id-1 div.sk-text-repr-fallback {display: none;}</style><div id=\"sk-container-id-1\" class=\"sk-top-container\"><div class=\"sk-text-repr-fallback\"><pre>SVC(kernel=&#x27;linear&#x27;)</pre><b>In a Jupyter environment, please rerun this cell to show the HTML representation or trust the notebook. <br />On GitHub, the HTML representation is unable to render, please try loading this page with nbviewer.org.</b></div><div class=\"sk-container\" hidden><div class=\"sk-item\"><div class=\"sk-estimator sk-toggleable\"><input class=\"sk-toggleable__control sk-hidden--visually\" id=\"sk-estimator-id-1\" type=\"checkbox\" checked><label for=\"sk-estimator-id-1\" class=\"sk-toggleable__label sk-toggleable__label-arrow\">SVC</label><div class=\"sk-toggleable__content\"><pre>SVC(kernel=&#x27;linear&#x27;)</pre></div></div></div></div></div>"
      ],
      "text/plain": [
       "SVC(kernel='linear')"
      ]
     },
     "execution_count": 19,
     "metadata": {},
     "output_type": "execute_result"
    }
   ],
   "source": [
    "# Concatenate the predictions along the first axis\n",
    "combined_pred = np.concatenate((y_pred_alex_2d, y_pred_vgg_2d, y_pred_resnet_2d), axis=1)\n",
    "\n",
    "# Flatten the labels array\n",
    "labels = y_pred_alex  # Use the predictions from AlexNet as labels\n",
    "# Fit the SVM model\n",
    "svm_model = SVC(kernel='linear')\n",
    "svm_model.fit(combined_pred, labels)"
   ]
  },
  {
   "cell_type": "markdown",
   "metadata": {
    "id": "W9N88Si8rKjq"
   },
   "source": [
    "#Save model"
   ]
  },
  {
   "cell_type": "code",
   "execution_count": 20,
   "metadata": {
    "executionInfo": {
     "elapsed": 2,
     "status": "ok",
     "timestamp": 1678939743769,
     "user": {
      "displayName": "DAT TRAN TUAN",
      "userId": "05852791585342980378"
     },
     "user_tz": -420
    },
    "id": "B_v8qDv-Jtrc"
   },
   "outputs": [],
   "source": [
    "import pickle\n",
    "with open('model.pkl','wb') as f:\n",
    "    pickle.dump(svm_model,f)\n"
   ]
  },
  {
   "cell_type": "markdown",
   "metadata": {
    "id": "HRQ3-GAkutyh"
   },
   "source": [
    "# **Model evaluation:**"
   ]
  },
  {
   "cell_type": "code",
   "execution_count": 21,
   "metadata": {
    "executionInfo": {
     "elapsed": 2,
     "status": "ok",
     "timestamp": 1678939768237,
     "user": {
      "displayName": "DAT TRAN TUAN",
      "userId": "05852791585342980378"
     },
     "user_tz": -420
    },
    "id": "9sg0IdcCZZm5"
   },
   "outputs": [],
   "source": [
    "# Load the SVM model\n",
    "with open('/content/model.pkl', 'rb') as f:\n",
    "    svm_loaded = pickle.load(f)\n"
   ]
  },
  {
   "cell_type": "code",
   "execution_count": 25,
   "metadata": {
    "executionInfo": {
     "elapsed": 3,
     "status": "ok",
     "timestamp": 1678939944162,
     "user": {
      "displayName": "DAT TRAN TUAN",
      "userId": "05852791585342980378"
     },
     "user_tz": -420
    },
    "id": "9Uzjp0ZFqR2m"
   },
   "outputs": [],
   "source": [
    "svm_pred = svm_loaded.predict(combined_pred)\n",
    "\n",
    "# Convert the SVM predictions to numeric labels\n",
    "y_pred = svm_pred"
   ]
  },
  {
   "cell_type": "code",
   "execution_count": 26,
   "metadata": {
    "colab": {
     "base_uri": "https://localhost:8080/",
     "height": 741
    },
    "executionInfo": {
     "elapsed": 1138,
     "status": "ok",
     "timestamp": 1678939948727,
     "user": {
      "displayName": "DAT TRAN TUAN",
      "userId": "05852791585342980378"
     },
     "user_tz": -420
    },
    "id": "M_4f0pr_MvTf",
    "outputId": "999ef923-b65a-42b3-e1d7-4b2fcf60837d"
   },
   "outputs": [
    {
     "data": {
      "text/plain": [
       "<Figure size 432x288 with 0 Axes>"
      ]
     },
     "metadata": {},
     "output_type": "display_data"
    },
    {
     "data": {
      "image/png": "[encoded data removed]",
      "text/plain": [
       "<Figure size 1440x720 with 2 Axes>"
      ]
     },
     "metadata": {
      "needs_background": "light"
     },
     "output_type": "display_data"
    }
   ],
   "source": [
    "import numpy as np\n",
    "import torch\n",
    "import itertools\n",
    "import matplotlib.pyplot as plt\n",
    "from sklearn.metrics import confusion_matrix\n",
    "\n",
    "class_names = ['angry', 'disgust', 'fear', 'happy', 'neutral', 'sad', 'surprise']\n",
    "\n",
    "# Create function to plot confusion matrix.\n",
    "def plot_confusion_matrix(cm, classes, title='Confusion matrix', cmap=plt.cm.Blues):\n",
    "    cm = cm.astype('float') / cm.sum(axis=1)[:, np.newaxis]\n",
    "    plt.figure(figsize=(12,6), dpi=120)\n",
    "    plt.imshow(cm, interpolation='nearest', cmap=cmap)\n",
    "    plt.title(title)\n",
    "    plt.colorbar()\n",
    "    tick_marks = np.arange(len(classes))\n",
    "    plt.xticks(tick_marks, classes, rotation=45)\n",
    "    plt.yticks(tick_marks, classes)\n",
    "\n",
    "    fmt = '.2f'\n",
    "    thresh = cm.max() / 2.\n",
    "    for i, j in itertools.product(range(cm.shape[0]), range(cm.shape[1])):\n",
    "        plt.text(j, i, format(cm[i, j], fmt),\n",
    "                 horizontalalignment=\"center\",\n",
    "                 color=\"white\" if cm[i, j] > thresh else \"black\")\n",
    "\n",
    "    plt.ylabel('True label')\n",
    "    plt.xlabel('Predicted label')\n",
    "    plt.tight_layout()\n",
    "    plt.show()\n",
    "\n",
    "# Compute confusion matrix\n",
    "cnf_matrix = confusion_matrix(y_true, y_pred)\n",
    "np.set_printoptions(precision=2)\n",
    "\n",
    "# Plot normalized confusion matrix\n",
    "plt.figure()\n",
    "plot_confusion_matrix(cnf_matrix, classes=class_names, title='Normalized confusion matrix')\n",
    "plt.show()"
   ]
  },
  {
   "cell_type": "markdown",
   "metadata": {
    "id": "kY3YQl8xrNw3"
   },
   "source": [
    "#Load model and predict"
   ]
  }
 ],
 "metadata": {
  "accelerator": "GPU",
  "colab": {
   "collapsed_sections": [
    "URwdYfsiMltF",
    "g5RpZlMkPGG2"
   ],
   "provenance": [
    {
     "file_id": "1FoptFWyIqp53HXsot65kNsndN85uJLce",
     "timestamp": 1675585468393
    },
    {
     "file_id": "1vaz1tUJkzsBwROz1_ZNEe8G6KbWWX-3X",
     "timestamp": 1675563684398
    }
   ]
  },
  "gpuClass": "standard",
  "kernelspec": {
   "display_name": "Python 3 (ipykernel)",
   "language": "python",
   "name": "python3"
  },
  "language_info": {
   "codemirror_mode": {
    "name": "ipython",
    "version": 3
   },
   "file_extension": ".py",
   "mimetype": "text/x-python",
   "name": "python",
   "nbconvert_exporter": "python",
   "pygments_lexer": "ipython3",
   "version": "3.8.16"
  }
 },
 "nbformat": 4,
 "nbformat_minor": 1
}
