{
 "cells": [
  {
   "cell_type": "markdown",
   "metadata": {
    "id": "view-in-github"
   },
   "source": [
    "<a href=\"https://colab.research.google.com/github/anishjohnson/Face-Emotion-Recognition/blob/main/FER/Colab%20Notebook/Face_Emotion_Recognition_Anish_Johnson.ipynb\" target=\"_parent\"><img src=\"https://colab.research.google.com/assets/colab-badge.svg\" alt=\"Open In Colab\"/></a>"
   ]
  },
  {
   "cell_type": "markdown",
   "metadata": {
    "id": "URwdYfsiMltF"
   },
   "source": [
    "# **Face Emotion Recognition**\n",
    "\n",
    "\n",
    "\n",
    "\n",
    "\n",
    "\n",
    "\n",
    "\n"
   ]
  },
  {
   "cell_type": "markdown",
   "metadata": {
    "id": "g5RpZlMkPGG2"
   },
   "source": [
    "# **Objective**\n",
    "Our objective is to solve the above mentioned challenge by applying deep learning algorithms to live video data inorder to recognize the facial emotions and categorize them accordingly."
   ]
  },
  {
   "cell_type": "markdown",
   "metadata": {
    "id": "9AGaR26YPV--"
   },
   "source": [
    "# **Dataset used**\n",
    "We have utilized the [FER 2013](https://www.kaggle.com/datasets/msambare/fer2013) dataset provided on Kaggle.<br>\n",
    "The data consists of 48x48 pixel grayscale images of faces. The faces have been automatically registered so that the face is more or less centred and occupies about the same amount of space in each image.<br>\n",
    "\n",
    "The task is to categorize each face based on the emotion shown in the facial expression into one of seven categories (0=Angry, 1=Disgust, 2=Fear, 3=Happy, 4=Sad, 5=Surprise, 6=Neutral). The training set consists of 28,709 examples and the public test set consists of 3,589 examples."
   ]
  },
  {
   "cell_type": "code",
   "execution_count": 1,
   "metadata": {
    "colab": {
     "base_uri": "https://localhost:8080/"
    },
    "id": "gVjAMoriVm5s",
    "outputId": "53db6bd7-3da8-4d2d-a4cb-17eafada8de4"
   },
   "outputs": [
    {
     "name": "stdout",
     "output_type": "stream",
     "text": [
      "Sat Mar 18 11:44:46 2023       \n",
      "+-----------------------------------------------------------------------------+\n",
      "| NVIDIA-SMI 528.33       Driver Version: 528.33       CUDA Version: 12.0     |\n",
      "|-------------------------------+----------------------+----------------------+\n",
      "| GPU  Name            TCC/WDDM | Bus-Id        Disp.A | Volatile Uncorr. ECC |\n",
      "| Fan  Temp  Perf  Pwr:Usage/Cap|         Memory-Usage | GPU-Util  Compute M. |\n",
      "|                               |                      |               MIG M. |\n",
      "|===============================+======================+======================|\n",
      "|   0  NVIDIA GeForce ... WDDM  | 00000000:01:00.0 Off |                  N/A |\n",
      "| N/A   45C    P8     9W /  80W |      0MiB /  6144MiB |      0%      Default |\n",
      "|                               |                      |                  N/A |\n",
      "+-------------------------------+----------------------+----------------------+\n",
      "                                                                               \n",
      "+-----------------------------------------------------------------------------+\n",
      "| Processes:                                                                  |\n",
      "|  GPU   GI   CI        PID   Type   Process name                  GPU Memory |\n",
      "|        ID   ID                                                   Usage      |\n",
      "|=============================================================================|\n",
      "|  No running processes found                                                 |\n",
      "+-----------------------------------------------------------------------------+\n",
      "nvcc: NVIDIA (R) Cuda compiler driver\n",
      "Copyright (c) 2005-2022 NVIDIA Corporation\n",
      "Built on Tue_Mar__8_18:36:24_Pacific_Standard_Time_2022\n",
      "Cuda compilation tools, release 11.6, V11.6.124\n",
      "Build cuda_11.6.r11.6/compiler.31057947_0\n"
     ]
    }
   ],
   "source": [
    "!nvidia-smi\n",
    "!nvcc -V"
   ]
  },
  {
   "cell_type": "markdown",
   "metadata": {
    "id": "mKaCCukeQGGv"
   },
   "source": [
    "### **Let's Begin:**"
   ]
  },
  {
   "cell_type": "markdown",
   "metadata": {
    "id": "n2QTffm_tEDK"
   },
   "source": [
    "# **Data Exploration:**"
   ]
  },
  {
   "cell_type": "markdown",
   "metadata": {
    "id": "5py4G2_K3R3Y"
   },
   "source": [
    "**Lets start by importing the required libraries.**"
   ]
  },
  {
   "cell_type": "code",
   "execution_count": 2,
   "metadata": {
    "colab": {
     "base_uri": "https://localhost:8080/"
    },
    "id": "OheLkRm1DJ3a",
    "outputId": "1ec1fb46-e6e1-4140-c0cf-2fa22af39cea"
   },
   "outputs": [
    {
     "name": "stdout",
     "output_type": "stream",
     "text": [
      "Above libraries have been imported.\n"
     ]
    }
   ],
   "source": [
    "# Basic python libraries.\n",
    "import glob\n",
    "import os.path as osp\n",
    "import datetime\n",
    "import numpy as np\n",
    "import pandas as pd\n",
    "import os\n",
    "import matplotlib.pyplot as plt\n",
    "from tqdm import tqdm\n",
    "from PIL import Image\n",
    "import itertools\n",
    "# Get rid of warnings!\n",
    "import warnings\n",
    "warnings.filterwarnings('ignore')\n",
    "import torch\n",
    "import torchvision.transforms as transforms\n",
    "from torch.utils.data import DataLoader, Dataset\n",
    "import torch.nn as nn\n",
    "import torch.nn.functional as F\n",
    "from torchvision.datasets import ImageFolder\n",
    "import torch.optim as optim\n",
    "import torch.utils.data as data\n",
    "import shutil\n",
    "import time\n",
    "from tqdm import tqdm\n",
    "print('Above libraries have been imported.')"
   ]
  },
  {
   "cell_type": "markdown",
   "metadata": {
    "id": "vvy5uusVtMAh"
   },
   "source": [
    "# **Data Preprocessing:**"
   ]
  },
  {
   "cell_type": "code",
   "execution_count": 3,
   "metadata": {
    "id": "IwCiBlsKgL2Q"
   },
   "outputs": [],
   "source": [
    "def model_configuration():\n",
    "  # Generic config\n",
    "    width, height, channels = 48, 48, 3\n",
    "    batch_size = 128\n",
    "    num_classes = 7\n",
    "  # validation_split = 0.1 # 45/5 per the He et al. paper\n",
    "    verbose = 1\n",
    "    n = 3\n",
    "    init_fm_dim = 64\n",
    "    shortcut_type = \"identity\" # or: projection\n",
    "\n",
    "    # Create config dictionary\n",
    "    config = {\n",
    "        \"width\": width,\n",
    "        \"height\": height,\n",
    "        \"dim\": channels,\n",
    "        \"batch_size\": batch_size,\n",
    "        \"num_classes\": num_classes,\n",
    "        \"verbose\": verbose,\n",
    "        \"stack_n\": n,\n",
    "        \"initial_num_feature_maps\": init_fm_dim,\n",
    "        # \"training_ds_size\": train_size,\n",
    "        # \"steps_per_epoch\": steps_per_epoch,\n",
    "        # \"val_steps_per_epoch\": val_steps_per_epoch,\n",
    "        \"shortcut_type\": shortcut_type\n",
    "    }\n",
    "    return config"
   ]
  },
  {
   "cell_type": "markdown",
   "metadata": {
    "id": "yOwMRBUFuHnp"
   },
   "source": [
    "# **Build Dataset:**"
   ]
  },
  {
   "cell_type": "code",
   "execution_count": 4,
   "metadata": {
    "id": "KYEDziQoOyqW"
   },
   "outputs": [],
   "source": [
    "class ImageTransform():\n",
    "    def __init__(self, resize, mean, std):\n",
    "        self.data_transform = {\n",
    "            'train': transforms.Compose([\n",
    "                transforms.RandomResizedCrop(resize, scale = (0.5, 1.0)),\n",
    "                transforms.RandomHorizontalFlip(),\n",
    "                transforms.ToTensor(),\n",
    "                transforms.Normalize((0.5), (0.5))\n",
    "            ]),\n",
    "            \n",
    "            'val': transforms.Compose([\n",
    "                transforms.Resize(resize),\n",
    "                transforms.CenterCrop(resize),\n",
    "                transforms.ToTensor(),\n",
    "                transforms.Normalize((0.5), (0.5))\n",
    "            ])\n",
    "        }\n",
    "        \n",
    "    def __call__(self, img, phase='train'):\n",
    "        return self.data_transform[phase](img)"
   ]
  },
  {
   "cell_type": "code",
   "execution_count": 5,
   "metadata": {
    "id": "IRAbUP_oNjbK"
   },
   "outputs": [],
   "source": [
    "resize = 48\n",
    "mean = (0.485, 0.456, 0.406)\n",
    "std = (0.229, 0.224, 0.225)\n",
    "\n",
    "transform = ImageTransform(resize, mean, std)"
   ]
  },
  {
   "cell_type": "code",
   "execution_count": 6,
   "metadata": {
    "id": "I1F6LqmTMoxJ"
   },
   "outputs": [],
   "source": [
    "def make_datapath_list(phase='train'):\n",
    "    rootpath = './dataset/'\n",
    "    target_path = osp.join(rootpath + phase + '/**/*.jpg')\n",
    "    print(target_path)\n",
    "    \n",
    "    path_list = []\n",
    "    \n",
    "    for path in glob.glob(target_path):\n",
    "        path_list.append(path)\n",
    "        \n",
    "    return path_list"
   ]
  },
  {
   "cell_type": "code",
   "execution_count": 7,
   "metadata": {
    "colab": {
     "base_uri": "https://localhost:8080/"
    },
    "id": "TqQ0wuylMyDj",
    "outputId": "86291338-2814-4456-ab68-a553849c53bf"
   },
   "outputs": [
    {
     "name": "stdout",
     "output_type": "stream",
     "text": [
      "./dataset/train/**/*.jpg\n"
     ]
    }
   ],
   "source": [
    "path_list = make_datapath_list('train')"
   ]
  },
  {
   "cell_type": "code",
   "execution_count": 8,
   "metadata": {
    "colab": {
     "base_uri": "https://localhost:8080/"
    },
    "id": "2bwAn_mSMzSE",
    "outputId": "fc7a175e-7bb8-40a1-cdf2-06cebe45a649"
   },
   "outputs": [
    {
     "data": {
      "text/plain": [
       "['./dataset/train\\\\angry\\\\Training_10118481.jpg',\n",
       " './dataset/train\\\\angry\\\\Training_10120469.jpg',\n",
       " './dataset/train\\\\angry\\\\Training_10131352.jpg',\n",
       " './dataset/train\\\\angry\\\\Training_10161559.jpg',\n",
       " './dataset/train\\\\angry\\\\Training_1021836.jpg',\n",
       " './dataset/train\\\\angry\\\\Training_10269675.jpg',\n",
       " './dataset/train\\\\angry\\\\Training_10278738.jpg',\n",
       " './dataset/train\\\\angry\\\\Training_10290703.jpg',\n",
       " './dataset/train\\\\angry\\\\Training_10295477.jpg',\n",
       " './dataset/train\\\\angry\\\\Training_10315441.jpg']"
      ]
     },
     "execution_count": 8,
     "metadata": {},
     "output_type": "execute_result"
    }
   ],
   "source": [
    "path_list[:10]"
   ]
  },
  {
   "cell_type": "code",
   "execution_count": 9,
   "metadata": {
    "id": "yNgoxOaUM0qG"
   },
   "outputs": [
    {
     "name": "stdout",
     "output_type": "stream",
     "text": [
      "./dataset/train/**/*.jpg\n",
      "./dataset/val/**/*.jpg\n"
     ]
    }
   ],
   "source": [
    "train_list = make_datapath_list('train')\n",
    "val_list = make_datapath_list('val')"
   ]
  },
  {
   "cell_type": "code",
   "execution_count": 10,
   "metadata": {
    "id": "TZ-u4sz7M2U_"
   },
   "outputs": [],
   "source": [
    "class MyDataset(data.Dataset):\n",
    "    def __init__(self, file_list, transform=None, phase=\"train\"):\n",
    "        self.file_list = file_list\n",
    "        self.transform = transform\n",
    "        self.phase = phase\n",
    "        \n",
    "    def __len__(self):\n",
    "        return len(self.file_list)\n",
    "\n",
    "    def __getitem__(self, idx):\n",
    "        img_path = self.file_list[idx]\n",
    "        img = Image.open(img_path)\n",
    "        \n",
    "        img_transformed = self.transform(img, self.phase)\n",
    "        \n",
    "        label = img_path.split('\\\\')[1]\n",
    "        \n",
    "        if label == \"angry\":\n",
    "            label = 0\n",
    "        elif label == \"disgust\":\n",
    "            label = 1\n",
    "        elif label == \"fear\":\n",
    "            label = 2\n",
    "        elif label == \"happy\":\n",
    "            label = 3\n",
    "        elif label == \"neutral\":\n",
    "            label = 4\n",
    "        elif label == \"sad\":\n",
    "            label = 5\n",
    "        elif label == \"surprise\":\n",
    "            label = 6\n",
    "        return img_transformed, label"
   ]
  },
  {
   "cell_type": "code",
   "execution_count": 11,
   "metadata": {
    "colab": {
     "base_uri": "https://localhost:8080/",
     "height": 183
    },
    "id": "vUoSwPMMM4zO",
    "outputId": "45e42156-b394-4b60-fd1b-c3bb04746f05"
   },
   "outputs": [],
   "source": [
    "train_set = MyDataset(train_list, transform = ImageTransform(resize, mean, std), phase = 'train')\n",
    "val_set = MyDataset(val_list, transform = ImageTransform(resize, mean, std), phase = 'val')"
   ]
  },
  {
   "cell_type": "code",
   "execution_count": 12,
   "metadata": {
    "id": "bNe1p5coNAOY"
   },
   "outputs": [
    {
     "name": "stdout",
     "output_type": "stream",
     "text": [
      "28709\n",
      "(tensor([[[-0.8588, -0.8510, -0.8118,  ..., -0.5059, -0.4039, -0.2706],\n",
      "         [-0.8431, -0.8039, -0.7333,  ..., -0.4824, -0.3804, -0.2706],\n",
      "         [-0.7647, -0.7176, -0.6627,  ..., -0.4588, -0.3647, -0.2549],\n",
      "         ...,\n",
      "         [ 0.1529,  0.1373,  0.1294,  ...,  0.1686,  0.1451,  0.1373],\n",
      "         [ 0.3020,  0.3020,  0.3020,  ...,  0.1686,  0.1529,  0.1373],\n",
      "         [ 0.3098,  0.3255,  0.3333,  ...,  0.1765,  0.1529,  0.1059]]]), 0)\n"
     ]
    }
   ],
   "source": [
    "index = 0\n",
    "print(train_set.__len__())\n",
    "print(train_set.__getitem__(index))"
   ]
  },
  {
   "cell_type": "code",
   "execution_count": 13,
   "metadata": {
    "id": "LOSto-yXNIFK"
   },
   "outputs": [],
   "source": [
    "batch_size = 64\n",
    "\n",
    "train_loader = torch.utils.data.DataLoader(train_set, batch_size, shuffle = True)\n",
    "val_loader = torch.utils.data.DataLoader(val_set, batch_size, shuffle = False)\n",
    "\n",
    "dataloader_dict = {\"train\": train_loader, \"val\": val_loader}"
   ]
  },
  {
   "cell_type": "code",
   "execution_count": 14,
   "metadata": {
    "id": "CWYpTBLiNKc2"
   },
   "outputs": [],
   "source": [
    "batch_iterator = iter(dataloader_dict[\"train\"])\n",
    "inputs, labels =  next(batch_iterator)"
   ]
  },
  {
   "cell_type": "code",
   "execution_count": 15,
   "metadata": {
    "id": "Sp63ILFYNL0w"
   },
   "outputs": [
    {
     "name": "stdout",
     "output_type": "stream",
     "text": [
      "torch.Size([64, 1, 48, 48])\n"
     ]
    }
   ],
   "source": [
    "print(inputs.size())"
   ]
  },
  {
   "cell_type": "code",
   "execution_count": 16,
   "metadata": {
    "id": "62jexAaJNMkD"
   },
   "outputs": [
    {
     "name": "stdout",
     "output_type": "stream",
     "text": [
      "tensor([4, 5, 6, 4, 0, 3, 2, 0, 5, 0, 3, 0, 4, 3, 2, 4, 6, 4, 4, 0, 4, 3, 5, 3,\n",
      "        2, 3, 3, 5, 4, 4, 4, 3, 5, 2, 4, 0, 4, 6, 2, 2, 3, 6, 5, 2, 2, 4, 4, 5,\n",
      "        4, 4, 0, 0, 2, 4, 2, 6, 0, 5, 0, 2, 2, 4, 4, 3])\n"
     ]
    }
   ],
   "source": [
    "print(labels)"
   ]
  },
  {
   "cell_type": "markdown",
   "metadata": {
    "id": "oS1YY0m6MhRo"
   },
   "source": [
    "# **Build Model:**"
   ]
  },
  {
   "cell_type": "code",
   "execution_count": 17,
   "metadata": {
    "id": "lvOahH28ODJr"
   },
   "outputs": [],
   "source": [
    "class ResidualBlock(nn.Module):\n",
    "    def __init__(self, in_channels, out_channels, stride = 1, downsample = None):\n",
    "        super(ResidualBlock, self).__init__()\n",
    "        self.conv1 = nn.Sequential(\n",
    "                        nn.Conv2d(in_channels, out_channels, kernel_size = 3, stride = stride, padding = 1),\n",
    "                        nn.BatchNorm2d(out_channels),\n",
    "                        nn.ReLU())\n",
    "        self.conv2 = nn.Sequential(\n",
    "                        nn.Conv2d(out_channels, out_channels, kernel_size = 3, stride = 1, padding = 1),\n",
    "                        nn.BatchNorm2d(out_channels))\n",
    "        self.downsample = downsample\n",
    "        self.relu = nn.ReLU()\n",
    "        self.out_channels = out_channels\n",
    "        \n",
    "    def forward(self, x):\n",
    "        residual = x\n",
    "        out = self.conv1(x)\n",
    "        out = self.conv2(out)\n",
    "        if self.downsample:\n",
    "            residual = self.downsample(x)\n",
    "        out += residual\n",
    "        out = self.relu(out)\n",
    "        return out\n",
    "\n",
    "class ResNet(nn.Module):\n",
    "    def __init__(self, block, layers, num_classes = 7):\n",
    "        super(ResNet, self).__init__()\n",
    "        self.inplanes = 64\n",
    "        self.conv1 = nn.Sequential(\n",
    "                        nn.Conv2d(1, 64, kernel_size = 7, stride = 2, padding = 3),\n",
    "                        nn.BatchNorm2d(64),\n",
    "                        nn.ReLU())      \n",
    "        self.layer0 = self._make_layer(block, 64, layers[0], stride = 1)\n",
    "        self.layer1 = self._make_layer(block, 128, layers[1], stride = 2)\n",
    "        self.layer2 = self._make_layer(block, 256, layers[2], stride = 2)     \n",
    "#         self.layer3 = self._make_layer(block, 256, layers[3], stride = 2)\n",
    "#         self.maxpool = nn.MaxPool2d(kernel_size = 3, stride = 2, padding = 1)\n",
    "        self.avgpool = nn.AvgPool2d(3, stride=1)\n",
    "        self.flatten = nn.Flatten()\n",
    "        self.fc = nn.Linear(4096, num_classes)\n",
    "        \n",
    "    def _make_layer(self, block, planes, blocks, stride=1):\n",
    "        downsample = None\n",
    "        if stride != 1 or self.inplanes != planes:\n",
    "            \n",
    "            downsample = nn.Sequential(\n",
    "                nn.Conv2d(self.inplanes, planes, kernel_size=1, stride=stride),\n",
    "                nn.BatchNorm2d(planes),\n",
    "            )\n",
    "        layers = []\n",
    "        layers.append(block(self.inplanes, planes, stride, downsample))\n",
    "        self.inplanes = planes\n",
    "        for i in range(1, blocks):\n",
    "            layers.append(block(self.inplanes, planes))\n",
    "\n",
    "        return nn.Sequential(*layers)\n",
    "    \n",
    "    \n",
    "    def forward(self, x):\n",
    "        x = self.conv1(x)      \n",
    "        x = self.layer0(x)\n",
    "        x = self.layer1(x)\n",
    "        x = self.layer2(x)\n",
    "#         x = self.layer3(x)\n",
    "#         x = self.maxpool(x)\n",
    "        x = self.avgpool(x)\n",
    "        x = x.view(x.size(0), -1)\n",
    "        x = self.flatten(x)\n",
    "        x = self.fc(x)\n",
    "\n",
    "\n",
    "\n",
    "        return x"
   ]
  },
  {
   "cell_type": "code",
   "execution_count": 18,
   "metadata": {
    "colab": {
     "base_uri": "https://localhost:8080/"
    },
    "id": "Fvdv3kTa4RHn",
    "outputId": "eaec73f3-6fd7-4675-f5b6-8fe85b4a6773"
   },
   "outputs": [
    {
     "name": "stdout",
     "output_type": "stream",
     "text": [
      "ResNet(\n",
      "  (conv1): Sequential(\n",
      "    (0): Conv2d(1, 64, kernel_size=(7, 7), stride=(2, 2), padding=(3, 3))\n",
      "    (1): BatchNorm2d(64, eps=1e-05, momentum=0.1, affine=True, track_running_stats=True)\n",
      "    (2): ReLU()\n",
      "  )\n",
      "  (layer0): Sequential(\n",
      "    (0): ResidualBlock(\n",
      "      (conv1): Sequential(\n",
      "        (0): Conv2d(64, 64, kernel_size=(3, 3), stride=(1, 1), padding=(1, 1))\n",
      "        (1): BatchNorm2d(64, eps=1e-05, momentum=0.1, affine=True, track_running_stats=True)\n",
      "        (2): ReLU()\n",
      "      )\n",
      "      (conv2): Sequential(\n",
      "        (0): Conv2d(64, 64, kernel_size=(3, 3), stride=(1, 1), padding=(1, 1))\n",
      "        (1): BatchNorm2d(64, eps=1e-05, momentum=0.1, affine=True, track_running_stats=True)\n",
      "      )\n",
      "      (relu): ReLU()\n",
      "    )\n",
      "    (1): ResidualBlock(\n",
      "      (conv1): Sequential(\n",
      "        (0): Conv2d(64, 64, kernel_size=(3, 3), stride=(1, 1), padding=(1, 1))\n",
      "        (1): BatchNorm2d(64, eps=1e-05, momentum=0.1, affine=True, track_running_stats=True)\n",
      "        (2): ReLU()\n",
      "      )\n",
      "      (conv2): Sequential(\n",
      "        (0): Conv2d(64, 64, kernel_size=(3, 3), stride=(1, 1), padding=(1, 1))\n",
      "        (1): BatchNorm2d(64, eps=1e-05, momentum=0.1, affine=True, track_running_stats=True)\n",
      "      )\n",
      "      (relu): ReLU()\n",
      "    )\n",
      "  )\n",
      "  (layer1): Sequential(\n",
      "    (0): ResidualBlock(\n",
      "      (conv1): Sequential(\n",
      "        (0): Conv2d(64, 128, kernel_size=(3, 3), stride=(2, 2), padding=(1, 1))\n",
      "        (1): BatchNorm2d(128, eps=1e-05, momentum=0.1, affine=True, track_running_stats=True)\n",
      "        (2): ReLU()\n",
      "      )\n",
      "      (conv2): Sequential(\n",
      "        (0): Conv2d(128, 128, kernel_size=(3, 3), stride=(1, 1), padding=(1, 1))\n",
      "        (1): BatchNorm2d(128, eps=1e-05, momentum=0.1, affine=True, track_running_stats=True)\n",
      "      )\n",
      "      (downsample): Sequential(\n",
      "        (0): Conv2d(64, 128, kernel_size=(1, 1), stride=(2, 2))\n",
      "        (1): BatchNorm2d(128, eps=1e-05, momentum=0.1, affine=True, track_running_stats=True)\n",
      "      )\n",
      "      (relu): ReLU()\n",
      "    )\n",
      "    (1): ResidualBlock(\n",
      "      (conv1): Sequential(\n",
      "        (0): Conv2d(128, 128, kernel_size=(3, 3), stride=(1, 1), padding=(1, 1))\n",
      "        (1): BatchNorm2d(128, eps=1e-05, momentum=0.1, affine=True, track_running_stats=True)\n",
      "        (2): ReLU()\n",
      "      )\n",
      "      (conv2): Sequential(\n",
      "        (0): Conv2d(128, 128, kernel_size=(3, 3), stride=(1, 1), padding=(1, 1))\n",
      "        (1): BatchNorm2d(128, eps=1e-05, momentum=0.1, affine=True, track_running_stats=True)\n",
      "      )\n",
      "      (relu): ReLU()\n",
      "    )\n",
      "  )\n",
      "  (layer2): Sequential(\n",
      "    (0): ResidualBlock(\n",
      "      (conv1): Sequential(\n",
      "        (0): Conv2d(128, 256, kernel_size=(3, 3), stride=(2, 2), padding=(1, 1))\n",
      "        (1): BatchNorm2d(256, eps=1e-05, momentum=0.1, affine=True, track_running_stats=True)\n",
      "        (2): ReLU()\n",
      "      )\n",
      "      (conv2): Sequential(\n",
      "        (0): Conv2d(256, 256, kernel_size=(3, 3), stride=(1, 1), padding=(1, 1))\n",
      "        (1): BatchNorm2d(256, eps=1e-05, momentum=0.1, affine=True, track_running_stats=True)\n",
      "      )\n",
      "      (downsample): Sequential(\n",
      "        (0): Conv2d(128, 256, kernel_size=(1, 1), stride=(2, 2))\n",
      "        (1): BatchNorm2d(256, eps=1e-05, momentum=0.1, affine=True, track_running_stats=True)\n",
      "      )\n",
      "      (relu): ReLU()\n",
      "    )\n",
      "    (1): ResidualBlock(\n",
      "      (conv1): Sequential(\n",
      "        (0): Conv2d(256, 256, kernel_size=(3, 3), stride=(1, 1), padding=(1, 1))\n",
      "        (1): BatchNorm2d(256, eps=1e-05, momentum=0.1, affine=True, track_running_stats=True)\n",
      "        (2): ReLU()\n",
      "      )\n",
      "      (conv2): Sequential(\n",
      "        (0): Conv2d(256, 256, kernel_size=(3, 3), stride=(1, 1), padding=(1, 1))\n",
      "        (1): BatchNorm2d(256, eps=1e-05, momentum=0.1, affine=True, track_running_stats=True)\n",
      "      )\n",
      "      (relu): ReLU()\n",
      "    )\n",
      "  )\n",
      "  (avgpool): AvgPool2d(kernel_size=3, stride=1, padding=0)\n",
      "  (flatten): Flatten(start_dim=1, end_dim=-1)\n",
      "  (fc): Linear(in_features=4096, out_features=7, bias=True)\n",
      ")\n"
     ]
    }
   ],
   "source": [
    "import torchvision\n",
    "from torchvision import models\n",
    "device = torch.device('cuda' if torch.cuda.is_available() else 'cpu')\n",
    "model = ResNet(ResidualBlock, [2, 2, 2, 2]).to(device)\n",
    "print(model)"
   ]
  },
  {
   "cell_type": "code",
   "execution_count": 19,
   "metadata": {
    "colab": {
     "base_uri": "https://localhost:8080/"
    },
    "id": "uYbsNz_Oekhw",
    "outputId": "496a9dbb-6128-449d-826b-f39756d37d23",
    "scrolled": true
   },
   "outputs": [
    {
     "name": "stdout",
     "output_type": "stream",
     "text": [
      "cuda\n",
      "Time: 193.0905876159668 Epoch 1 Train Loss: 2.0029 Train Acc: 0.2571 Val Loss: 1.7531 Val Acc: 0.2859 Best Val Acc: 0.2859\n",
      "Time: 37.37061929702759 Epoch 2 Train Loss: 1.7154 Train Acc: 0.3056 Val Loss: 1.6745 Val Acc: 0.3270 Best Val Acc: 0.3270\n",
      "Time: 37.87206411361694 Epoch 3 Train Loss: 1.6023 Train Acc: 0.3676 Val Loss: 1.5055 Val Acc: 0.4074 Best Val Acc: 0.4074\n",
      "Time: 37.55468773841858 Epoch 4 Train Loss: 1.4968 Train Acc: 0.4155 Val Loss: 1.4915 Val Acc: 0.4096 Best Val Acc: 0.4096\n",
      "Time: 37.1574182510376 Epoch 5 Train Loss: 1.4113 Train Acc: 0.4531 Val Loss: 1.3706 Val Acc: 0.4668 Best Val Acc: 0.4668\n",
      "Time: 39.05787444114685 Epoch 6 Train Loss: 1.3413 Train Acc: 0.4821 Val Loss: 1.2969 Val Acc: 0.5004 Best Val Acc: 0.5004\n",
      "Time: 39.23429012298584 Epoch 7 Train Loss: 1.2944 Train Acc: 0.5021 Val Loss: 1.3058 Val Acc: 0.4955 Best Val Acc: 0.5004\n",
      "Time: 39.017133474349976 Epoch 8 Train Loss: 1.2508 Train Acc: 0.5277 Val Loss: 1.2580 Val Acc: 0.5148 Best Val Acc: 0.5148\n",
      "Time: 37.92856240272522 Epoch 9 Train Loss: 1.2120 Train Acc: 0.5395 Val Loss: 1.1880 Val Acc: 0.5410 Best Val Acc: 0.5410\n",
      "Time: 39.599894762039185 Epoch 10 Train Loss: 1.1770 Train Acc: 0.5524 Val Loss: 1.1964 Val Acc: 0.5447 Best Val Acc: 0.5447\n",
      "Time: 38.56350779533386 Epoch 11 Train Loss: 1.1555 Train Acc: 0.5607 Val Loss: 1.1797 Val Acc: 0.5436 Best Val Acc: 0.5447\n",
      "Time: 37.54913926124573 Epoch 12 Train Loss: 1.1242 Train Acc: 0.5760 Val Loss: 1.1280 Val Acc: 0.5731 Best Val Acc: 0.5731\n",
      "Time: 36.991599321365356 Epoch 13 Train Loss: 1.1052 Train Acc: 0.5825 Val Loss: 1.1173 Val Acc: 0.5694 Best Val Acc: 0.5731\n",
      "Time: 39.83458924293518 Epoch 14 Train Loss: 1.0821 Train Acc: 0.5893 Val Loss: 1.1265 Val Acc: 0.5722 Best Val Acc: 0.5731\n",
      "Time: 38.55999517440796 Epoch 15 Train Loss: 1.0641 Train Acc: 0.5985 Val Loss: 1.0820 Val Acc: 0.5915 Best Val Acc: 0.5915\n",
      "Time: 38.71251034736633 Epoch 16 Train Loss: 1.0460 Train Acc: 0.6061 Val Loss: 1.1033 Val Acc: 0.5797 Best Val Acc: 0.5915\n",
      "Time: 38.95386815071106 Epoch 17 Train Loss: 1.0319 Train Acc: 0.6090 Val Loss: 1.0712 Val Acc: 0.5964 Best Val Acc: 0.5964\n",
      "Time: 38.98588991165161 Epoch 18 Train Loss: 1.0143 Train Acc: 0.6181 Val Loss: 1.0735 Val Acc: 0.6013 Best Val Acc: 0.6013\n",
      "Time: 38.360992431640625 Epoch 19 Train Loss: 0.9932 Train Acc: 0.6257 Val Loss: 1.0413 Val Acc: 0.6070 Best Val Acc: 0.6070\n",
      "Time: 37.91197872161865 Epoch 20 Train Loss: 0.9881 Train Acc: 0.6293 Val Loss: 1.0605 Val Acc: 0.5957 Best Val Acc: 0.6070\n",
      "Time: 39.11244297027588 Epoch 21 Train Loss: 0.9686 Train Acc: 0.6364 Val Loss: 1.0475 Val Acc: 0.6032 Best Val Acc: 0.6070\n",
      "Time: 38.28000855445862 Epoch 22 Train Loss: 0.9521 Train Acc: 0.6420 Val Loss: 1.0868 Val Acc: 0.5970 Best Val Acc: 0.6070\n",
      "Time: 37.585973262786865 Epoch 23 Train Loss: 0.9419 Train Acc: 0.6463 Val Loss: 1.0340 Val Acc: 0.6117 Best Val Acc: 0.6117\n",
      "Time: 38.47098231315613 Epoch 24 Train Loss: 0.9336 Train Acc: 0.6494 Val Loss: 1.0287 Val Acc: 0.6170 Best Val Acc: 0.6170\n",
      "Time: 38.728904485702515 Epoch 25 Train Loss: 0.9155 Train Acc: 0.6537 Val Loss: 1.0549 Val Acc: 0.6030 Best Val Acc: 0.6170\n",
      "Time: 38.814162731170654 Epoch 26 Train Loss: 0.9066 Train Acc: 0.6589 Val Loss: 1.0101 Val Acc: 0.6233 Best Val Acc: 0.6233\n",
      "Time: 38.700846672058105 Epoch 27 Train Loss: 0.8952 Train Acc: 0.6625 Val Loss: 1.0299 Val Acc: 0.6237 Best Val Acc: 0.6237\n",
      "Time: 38.60299038887024 Epoch 28 Train Loss: 0.8858 Train Acc: 0.6639 Val Loss: 1.0326 Val Acc: 0.6215 Best Val Acc: 0.6237\n",
      "Time: 39.561984062194824 Epoch 29 Train Loss: 0.8734 Train Acc: 0.6728 Val Loss: 1.0694 Val Acc: 0.6081 Best Val Acc: 0.6237\n",
      "Time: 39.47099471092224 Epoch 30 Train Loss: 0.8666 Train Acc: 0.6741 Val Loss: 1.0186 Val Acc: 0.6308 Best Val Acc: 0.6308\n",
      "Time: 39.051021575927734 Epoch 31 Train Loss: 0.8485 Train Acc: 0.6826 Val Loss: 1.0231 Val Acc: 0.6236 Best Val Acc: 0.6308\n",
      "Time: 38.54019093513489 Epoch 32 Train Loss: 0.8393 Train Acc: 0.6834 Val Loss: 1.0125 Val Acc: 0.6358 Best Val Acc: 0.6358\n",
      "Time: 39.09481692314148 Epoch 33 Train Loss: 0.8284 Train Acc: 0.6902 Val Loss: 1.0010 Val Acc: 0.6317 Best Val Acc: 0.6358\n",
      "Time: 38.77599787712097 Epoch 34 Train Loss: 0.8186 Train Acc: 0.6942 Val Loss: 1.0555 Val Acc: 0.6282 Best Val Acc: 0.6358\n",
      "Time: 38.534003496170044 Epoch 35 Train Loss: 0.8104 Train Acc: 0.6947 Val Loss: 1.0385 Val Acc: 0.6318 Best Val Acc: 0.6358\n",
      "Time: 38.70699739456177 Epoch 36 Train Loss: 0.7963 Train Acc: 0.7008 Val Loss: 1.0342 Val Acc: 0.6356 Best Val Acc: 0.6358\n",
      "Time: 38.447248697280884 Epoch 37 Train Loss: 0.7897 Train Acc: 0.7043 Val Loss: 0.9840 Val Acc: 0.6371 Best Val Acc: 0.6371\n",
      "Time: 38.4009907245636 Epoch 38 Train Loss: 0.7733 Train Acc: 0.7136 Val Loss: 0.9804 Val Acc: 0.6350 Best Val Acc: 0.6371\n",
      "Time: 38.792157888412476 Epoch 39 Train Loss: 0.7677 Train Acc: 0.7129 Val Loss: 1.0076 Val Acc: 0.6383 Best Val Acc: 0.6383\n",
      "Time: 38.443191051483154 Epoch 40 Train Loss: 0.7582 Train Acc: 0.7188 Val Loss: 1.0333 Val Acc: 0.6358 Best Val Acc: 0.6383\n",
      "Time: 37.364421367645264 Epoch 41 Train Loss: 0.7492 Train Acc: 0.7210 Val Loss: 1.0147 Val Acc: 0.6349 Best Val Acc: 0.6383\n",
      "Time: 37.633941650390625 Epoch 42 Train Loss: 0.7353 Train Acc: 0.7249 Val Loss: 0.9881 Val Acc: 0.6505 Best Val Acc: 0.6505\n",
      "Time: 37.68498873710632 Epoch 43 Train Loss: 0.7260 Train Acc: 0.7288 Val Loss: 1.0277 Val Acc: 0.6393 Best Val Acc: 0.6505\n",
      "Time: 37.972736120224 Epoch 44 Train Loss: 0.7177 Train Acc: 0.7297 Val Loss: 1.0659 Val Acc: 0.6397 Best Val Acc: 0.6505\n",
      "Time: 37.12654662132263 Epoch 45 Train Loss: 0.7093 Train Acc: 0.7346 Val Loss: 1.0570 Val Acc: 0.6386 Best Val Acc: 0.6505\n",
      "Time: 38.17505097389221 Epoch 46 Train Loss: 0.7014 Train Acc: 0.7390 Val Loss: 1.0921 Val Acc: 0.6413 Best Val Acc: 0.6505\n",
      "Time: 38.09906816482544 Epoch 47 Train Loss: 0.6870 Train Acc: 0.7458 Val Loss: 1.0629 Val Acc: 0.6350 Best Val Acc: 0.6505\n",
      "Time: 38.44295525550842 Epoch 48 Train Loss: 0.6802 Train Acc: 0.7459 Val Loss: 1.0457 Val Acc: 0.6282 Best Val Acc: 0.6505\n",
      "Time: 38.23579502105713 Epoch 49 Train Loss: 0.6746 Train Acc: 0.7497 Val Loss: 1.0536 Val Acc: 0.6326 Best Val Acc: 0.6505\n",
      "Time: 39.010632038116455 Epoch 50 Train Loss: 0.6568 Train Acc: 0.7548 Val Loss: 1.0809 Val Acc: 0.6442 Best Val Acc: 0.6505\n",
      "Time: 38.68040442466736 Epoch 51 Train Loss: 0.6534 Train Acc: 0.7563 Val Loss: 1.0858 Val Acc: 0.6445 Best Val Acc: 0.6505\n",
      "Time: 38.67054867744446 Epoch 52 Train Loss: 0.6444 Train Acc: 0.7601 Val Loss: 1.0638 Val Acc: 0.6507 Best Val Acc: 0.6507\n",
      "Time: 38.597047090530396 Epoch 53 Train Loss: 0.6359 Train Acc: 0.7620 Val Loss: 1.0608 Val Acc: 0.6525 Best Val Acc: 0.6525\n",
      "Time: 38.94231033325195 Epoch 54 Train Loss: 0.6254 Train Acc: 0.7688 Val Loss: 1.0806 Val Acc: 0.6531 Best Val Acc: 0.6531\n",
      "Time: 47.15236186981201 Epoch 55 Train Loss: 0.6170 Train Acc: 0.7722 Val Loss: 1.0621 Val Acc: 0.6450 Best Val Acc: 0.6531\n",
      "Time: 38.46062612533569 Epoch 56 Train Loss: 0.6011 Train Acc: 0.7789 Val Loss: 1.1251 Val Acc: 0.6427 Best Val Acc: 0.6531\n",
      "Time: 39.081138134002686 Epoch 57 Train Loss: 0.6039 Train Acc: 0.7803 Val Loss: 1.1023 Val Acc: 0.6513 Best Val Acc: 0.6531\n",
      "Time: 39.04931330680847 Epoch 58 Train Loss: 0.5959 Train Acc: 0.7780 Val Loss: 1.1362 Val Acc: 0.6528 Best Val Acc: 0.6531\n",
      "Time: 38.142122745513916 Epoch 59 Train Loss: 0.5718 Train Acc: 0.7856 Val Loss: 1.1246 Val Acc: 0.6475 Best Val Acc: 0.6531\n",
      "Time: 39.496076345443726 Epoch 60 Train Loss: 0.5705 Train Acc: 0.7907 Val Loss: 1.1017 Val Acc: 0.6571 Best Val Acc: 0.6571\n",
      "Time: 39.2362425327301 Epoch 61 Train Loss: 0.5660 Train Acc: 0.7891 Val Loss: 1.1659 Val Acc: 0.6453 Best Val Acc: 0.6571\n",
      "Time: 38.58700442314148 Epoch 62 Train Loss: 0.5522 Train Acc: 0.7929 Val Loss: 1.1608 Val Acc: 0.6439 Best Val Acc: 0.6571\n",
      "Time: 39.4099338054657 Epoch 63 Train Loss: 0.5421 Train Acc: 0.7973 Val Loss: 1.1673 Val Acc: 0.6464 Best Val Acc: 0.6571\n",
      "Time: 38.87884187698364 Epoch 64 Train Loss: 0.5442 Train Acc: 0.8022 Val Loss: 1.1737 Val Acc: 0.6551 Best Val Acc: 0.6571\n",
      "Time: 38.698554039001465 Epoch 65 Train Loss: 0.5270 Train Acc: 0.8058 Val Loss: 1.1566 Val Acc: 0.6591 Best Val Acc: 0.6591\n",
      "Time: 38.84813928604126 Epoch 66 Train Loss: 0.5239 Train Acc: 0.8063 Val Loss: 1.1503 Val Acc: 0.6525 Best Val Acc: 0.6591\n"
     ]
    },
    {
     "name": "stdout",
     "output_type": "stream",
     "text": [
      "Time: 39.15869140625 Epoch 67 Train Loss: 0.5160 Train Acc: 0.8080 Val Loss: 1.1571 Val Acc: 0.6580 Best Val Acc: 0.6591\n",
      "Time: 39.06578493118286 Epoch 68 Train Loss: 0.5113 Train Acc: 0.8092 Val Loss: 1.1773 Val Acc: 0.6477 Best Val Acc: 0.6591\n",
      "Time: 39.317559003829956 Epoch 69 Train Loss: 0.4966 Train Acc: 0.8173 Val Loss: 1.1911 Val Acc: 0.6449 Best Val Acc: 0.6591\n",
      "Time: 38.977436542510986 Epoch 70 Train Loss: 0.4919 Train Acc: 0.8158 Val Loss: 1.1738 Val Acc: 0.6599 Best Val Acc: 0.6599\n",
      "Time: 38.58367395401001 Epoch 71 Train Loss: 0.4882 Train Acc: 0.8183 Val Loss: 1.1794 Val Acc: 0.6590 Best Val Acc: 0.6599\n",
      "Time: 38.60479378700256 Epoch 72 Train Loss: 0.4700 Train Acc: 0.8252 Val Loss: 1.2044 Val Acc: 0.6524 Best Val Acc: 0.6599\n",
      "Time: 39.16717982292175 Epoch 73 Train Loss: 0.4677 Train Acc: 0.8291 Val Loss: 1.2676 Val Acc: 0.6326 Best Val Acc: 0.6599\n",
      "Time: 39.014885902404785 Epoch 74 Train Loss: 0.4572 Train Acc: 0.8342 Val Loss: 1.3135 Val Acc: 0.6520 Best Val Acc: 0.6599\n",
      "Time: 39.88183116912842 Epoch 75 Train Loss: 0.4510 Train Acc: 0.8344 Val Loss: 1.2348 Val Acc: 0.6652 Best Val Acc: 0.6652\n",
      "Time: 40.04080319404602 Epoch 76 Train Loss: 0.4459 Train Acc: 0.8367 Val Loss: 1.2182 Val Acc: 0.6498 Best Val Acc: 0.6652\n",
      "Time: 40.92717409133911 Epoch 77 Train Loss: 0.4402 Train Acc: 0.8389 Val Loss: 1.3088 Val Acc: 0.6569 Best Val Acc: 0.6652\n",
      "Time: 39.105857133865356 Epoch 78 Train Loss: 0.4231 Train Acc: 0.8445 Val Loss: 1.2735 Val Acc: 0.6595 Best Val Acc: 0.6652\n",
      "Time: 39.616599559783936 Epoch 79 Train Loss: 0.4245 Train Acc: 0.8435 Val Loss: 1.2562 Val Acc: 0.6507 Best Val Acc: 0.6652\n",
      "Time: 40.55487632751465 Epoch 80 Train Loss: 0.4193 Train Acc: 0.8476 Val Loss: 1.2228 Val Acc: 0.6637 Best Val Acc: 0.6652\n",
      "Time: 39.17359209060669 Epoch 81 Train Loss: 0.4143 Train Acc: 0.8467 Val Loss: 1.2478 Val Acc: 0.6573 Best Val Acc: 0.6652\n",
      "Time: 38.45317625999451 Epoch 82 Train Loss: 0.4089 Train Acc: 0.8485 Val Loss: 1.2752 Val Acc: 0.6565 Best Val Acc: 0.6652\n",
      "Time: 38.04662609100342 Epoch 83 Train Loss: 0.3934 Train Acc: 0.8546 Val Loss: 1.3200 Val Acc: 0.6665 Best Val Acc: 0.6665\n",
      "Time: 40.10415554046631 Epoch 84 Train Loss: 0.3891 Train Acc: 0.8575 Val Loss: 1.3393 Val Acc: 0.6560 Best Val Acc: 0.6665\n",
      "Time: 39.9518141746521 Epoch 85 Train Loss: 0.3924 Train Acc: 0.8577 Val Loss: 1.3939 Val Acc: 0.6619 Best Val Acc: 0.6665\n",
      "Time: 37.9585816860199 Epoch 86 Train Loss: 0.3758 Train Acc: 0.8635 Val Loss: 1.3329 Val Acc: 0.6619 Best Val Acc: 0.6665\n",
      "Time: 38.07167863845825 Epoch 87 Train Loss: 0.3721 Train Acc: 0.8649 Val Loss: 1.3628 Val Acc: 0.6474 Best Val Acc: 0.6665\n",
      "Time: 40.420828104019165 Epoch 88 Train Loss: 0.3696 Train Acc: 0.8640 Val Loss: 1.3441 Val Acc: 0.6573 Best Val Acc: 0.6665\n",
      "Time: 40.65126848220825 Epoch 89 Train Loss: 0.3624 Train Acc: 0.8667 Val Loss: 1.4070 Val Acc: 0.6513 Best Val Acc: 0.6665\n",
      "Time: 40.597697496414185 Epoch 90 Train Loss: 0.3622 Train Acc: 0.8700 Val Loss: 1.3483 Val Acc: 0.6530 Best Val Acc: 0.6665\n",
      "Time: 41.12482738494873 Epoch 91 Train Loss: 0.3561 Train Acc: 0.8699 Val Loss: 1.4092 Val Acc: 0.6574 Best Val Acc: 0.6665\n",
      "Time: 40.70926856994629 Epoch 92 Train Loss: 0.3461 Train Acc: 0.8735 Val Loss: 1.4747 Val Acc: 0.6463 Best Val Acc: 0.6665\n",
      "Time: 41.12429904937744 Epoch 93 Train Loss: 0.3401 Train Acc: 0.8759 Val Loss: 1.4105 Val Acc: 0.6584 Best Val Acc: 0.6665\n",
      "Time: 39.971484899520874 Epoch 94 Train Loss: 0.3324 Train Acc: 0.8806 Val Loss: 1.3743 Val Acc: 0.6652 Best Val Acc: 0.6665\n",
      "Time: 38.81902456283569 Epoch 95 Train Loss: 0.3281 Train Acc: 0.8825 Val Loss: 1.5214 Val Acc: 0.6514 Best Val Acc: 0.6665\n",
      "Time: 39.4820671081543 Epoch 96 Train Loss: 0.3298 Train Acc: 0.8809 Val Loss: 1.4148 Val Acc: 0.6570 Best Val Acc: 0.6665\n",
      "Time: 39.563435554504395 Epoch 97 Train Loss: 0.3212 Train Acc: 0.8826 Val Loss: 1.4312 Val Acc: 0.6687 Best Val Acc: 0.6687\n",
      "Time: 39.276281118392944 Epoch 98 Train Loss: 0.3089 Train Acc: 0.8875 Val Loss: 1.4111 Val Acc: 0.6619 Best Val Acc: 0.6687\n",
      "Time: 39.933961629867554 Epoch 99 Train Loss: 0.3050 Train Acc: 0.8919 Val Loss: 1.4832 Val Acc: 0.6524 Best Val Acc: 0.6687\n",
      "Time: 39.6135995388031 Epoch 100 Train Loss: 0.3072 Train Acc: 0.8891 Val Loss: 1.4486 Val Acc: 0.6612 Best Val Acc: 0.6687\n",
      "Time: 39.2987425327301 Epoch 101 Train Loss: 0.3019 Train Acc: 0.8913 Val Loss: 1.5089 Val Acc: 0.6482 Best Val Acc: 0.6687\n",
      "Epoch 00102: reducing learning rate of group 0 to 1.0000e-03.\n",
      "Time: 39.50757551193237 Epoch 102 Train Loss: 0.2972 Train Acc: 0.8926 Val Loss: 1.5547 Val Acc: 0.6659 Best Val Acc: 0.6687\n",
      "Time: 39.302244901657104 Epoch 103 Train Loss: 0.2253 Train Acc: 0.9209 Val Loss: 1.4760 Val Acc: 0.6762 Best Val Acc: 0.6762\n",
      "Time: 38.36997079849243 Epoch 104 Train Loss: 0.2030 Train Acc: 0.9284 Val Loss: 1.4904 Val Acc: 0.6786 Best Val Acc: 0.6786\n",
      "Time: 38.92803740501404 Epoch 105 Train Loss: 0.1883 Train Acc: 0.9349 Val Loss: 1.5217 Val Acc: 0.6792 Best Val Acc: 0.6792\n",
      "Time: 38.435383319854736 Epoch 106 Train Loss: 0.1797 Train Acc: 0.9379 Val Loss: 1.5143 Val Acc: 0.6783 Best Val Acc: 0.6792\n",
      "Time: 38.38796257972717 Epoch 107 Train Loss: 0.1734 Train Acc: 0.9395 Val Loss: 1.5231 Val Acc: 0.6812 Best Val Acc: 0.6812\n",
      "Time: 39.02551031112671 Epoch 108 Train Loss: 0.1776 Train Acc: 0.9378 Val Loss: 1.5427 Val Acc: 0.6801 Best Val Acc: 0.6812\n",
      "Time: 39.33738327026367 Epoch 109 Train Loss: 0.1731 Train Acc: 0.9383 Val Loss: 1.5317 Val Acc: 0.6810 Best Val Acc: 0.6812\n",
      "Time: 204.3609426021576 Epoch 110 Train Loss: 0.1637 Train Acc: 0.9417 Val Loss: 1.5459 Val Acc: 0.6801 Best Val Acc: 0.6812\n",
      "Time: 43.011401891708374 Epoch 111 Train Loss: 0.1619 Train Acc: 0.9438 Val Loss: 1.5688 Val Acc: 0.6815 Best Val Acc: 0.6815\n",
      "Time: 39.057729721069336 Epoch 112 Train Loss: 0.1583 Train Acc: 0.9444 Val Loss: 1.5737 Val Acc: 0.6822 Best Val Acc: 0.6822\n",
      "Time: 40.91973042488098 Epoch 113 Train Loss: 0.1575 Train Acc: 0.9451 Val Loss: 1.5899 Val Acc: 0.6790 Best Val Acc: 0.6822\n",
      "Time: 39.627031326293945 Epoch 114 Train Loss: 0.1575 Train Acc: 0.9443 Val Loss: 1.5765 Val Acc: 0.6810 Best Val Acc: 0.6822\n",
      "Time: 38.75221824645996 Epoch 115 Train Loss: 0.1489 Train Acc: 0.9474 Val Loss: 1.6204 Val Acc: 0.6826 Best Val Acc: 0.6826\n",
      "Time: 38.22141647338867 Epoch 116 Train Loss: 0.1527 Train Acc: 0.9453 Val Loss: 1.6147 Val Acc: 0.6824 Best Val Acc: 0.6826\n",
      "Time: 38.45311164855957 Epoch 117 Train Loss: 0.1495 Train Acc: 0.9483 Val Loss: 1.6127 Val Acc: 0.6833 Best Val Acc: 0.6833\n",
      "Time: 39.00267577171326 Epoch 118 Train Loss: 0.1510 Train Acc: 0.9464 Val Loss: 1.6220 Val Acc: 0.6822 Best Val Acc: 0.6833\n",
      "Time: 39.534751176834106 Epoch 119 Train Loss: 0.1462 Train Acc: 0.9490 Val Loss: 1.6222 Val Acc: 0.6808 Best Val Acc: 0.6833\n",
      "Time: 39.33687448501587 Epoch 120 Train Loss: 0.1423 Train Acc: 0.9514 Val Loss: 1.6465 Val Acc: 0.6815 Best Val Acc: 0.6833\n",
      "Time: 38.17150855064392 Epoch 121 Train Loss: 0.1433 Train Acc: 0.9487 Val Loss: 1.6554 Val Acc: 0.6817 Best Val Acc: 0.6833\n",
      "Time: 39.634138345718384 Epoch 122 Train Loss: 0.1378 Train Acc: 0.9515 Val Loss: 1.6549 Val Acc: 0.6789 Best Val Acc: 0.6833\n",
      "Time: 40.33594083786011 Epoch 123 Train Loss: 0.1404 Train Acc: 0.9511 Val Loss: 1.6609 Val Acc: 0.6822 Best Val Acc: 0.6833\n",
      "Time: 38.2182080745697 Epoch 124 Train Loss: 0.1395 Train Acc: 0.9508 Val Loss: 1.6525 Val Acc: 0.6817 Best Val Acc: 0.6833\n",
      "Time: 38.265735387802124 Epoch 125 Train Loss: 0.1333 Train Acc: 0.9544 Val Loss: 1.6789 Val Acc: 0.6797 Best Val Acc: 0.6833\n",
      "Time: 38.622363805770874 Epoch 126 Train Loss: 0.1305 Train Acc: 0.9538 Val Loss: 1.6719 Val Acc: 0.6792 Best Val Acc: 0.6833\n",
      "Time: 40.504133462905884 Epoch 127 Train Loss: 0.1335 Train Acc: 0.9540 Val Loss: 1.6807 Val Acc: 0.6801 Best Val Acc: 0.6833\n",
      "Time: 37.748305559158325 Epoch 128 Train Loss: 0.1278 Train Acc: 0.9571 Val Loss: 1.6997 Val Acc: 0.6765 Best Val Acc: 0.6833\n",
      "Time: 37.45303988456726 Epoch 129 Train Loss: 0.1302 Train Acc: 0.9553 Val Loss: 1.7154 Val Acc: 0.6769 Best Val Acc: 0.6833\n",
      "Time: 37.8996524810791 Epoch 130 Train Loss: 0.1333 Train Acc: 0.9527 Val Loss: 1.6924 Val Acc: 0.6765 Best Val Acc: 0.6833\n",
      "Time: 38.877400398254395 Epoch 131 Train Loss: 0.1307 Train Acc: 0.9545 Val Loss: 1.7205 Val Acc: 0.6787 Best Val Acc: 0.6833\n",
      "Time: 39.61083984375 Epoch 132 Train Loss: 0.1271 Train Acc: 0.9561 Val Loss: 1.6915 Val Acc: 0.6803 Best Val Acc: 0.6833\n"
     ]
    },
    {
     "name": "stdout",
     "output_type": "stream",
     "text": [
      "Time: 39.98063325881958 Epoch 133 Train Loss: 0.1285 Train Acc: 0.9543 Val Loss: 1.7066 Val Acc: 0.6812 Best Val Acc: 0.6833\n",
      "Time: 38.53839707374573 Epoch 134 Train Loss: 0.1282 Train Acc: 0.9554 Val Loss: 1.7118 Val Acc: 0.6804 Best Val Acc: 0.6833\n",
      "Time: 38.138611793518066 Epoch 135 Train Loss: 0.1247 Train Acc: 0.9560 Val Loss: 1.7161 Val Acc: 0.6814 Best Val Acc: 0.6833\n",
      "Time: 39.33043837547302 Epoch 136 Train Loss: 0.1257 Train Acc: 0.9561 Val Loss: 1.7215 Val Acc: 0.6800 Best Val Acc: 0.6833\n",
      "Time: 39.49485158920288 Epoch 137 Train Loss: 0.1213 Train Acc: 0.9572 Val Loss: 1.7250 Val Acc: 0.6836 Best Val Acc: 0.6836\n",
      "Time: 39.15128231048584 Epoch 138 Train Loss: 0.1219 Train Acc: 0.9586 Val Loss: 1.7415 Val Acc: 0.6771 Best Val Acc: 0.6836\n",
      "Time: 39.42867112159729 Epoch 139 Train Loss: 0.1196 Train Acc: 0.9585 Val Loss: 1.7359 Val Acc: 0.6783 Best Val Acc: 0.6836\n",
      "Time: 39.94187617301941 Epoch 140 Train Loss: 0.1221 Train Acc: 0.9591 Val Loss: 1.7656 Val Acc: 0.6806 Best Val Acc: 0.6836\n",
      "Time: 39.92953443527222 Epoch 141 Train Loss: 0.1251 Train Acc: 0.9561 Val Loss: 1.7621 Val Acc: 0.6806 Best Val Acc: 0.6836\n",
      "Time: 39.27027702331543 Epoch 142 Train Loss: 0.1254 Train Acc: 0.9556 Val Loss: 1.7461 Val Acc: 0.6822 Best Val Acc: 0.6836\n",
      "Time: 39.26152682304382 Epoch 143 Train Loss: 0.1215 Train Acc: 0.9570 Val Loss: 1.7405 Val Acc: 0.6801 Best Val Acc: 0.6836\n",
      "Time: 38.833390951156616 Epoch 144 Train Loss: 0.1222 Train Acc: 0.9586 Val Loss: 1.7525 Val Acc: 0.6815 Best Val Acc: 0.6836\n",
      "Time: 39.2373366355896 Epoch 145 Train Loss: 0.1150 Train Acc: 0.9596 Val Loss: 1.7477 Val Acc: 0.6815 Best Val Acc: 0.6836\n",
      "Time: 38.54326057434082 Epoch 146 Train Loss: 0.1202 Train Acc: 0.9578 Val Loss: 1.7552 Val Acc: 0.6836 Best Val Acc: 0.6836\n",
      "Time: 38.218825340270996 Epoch 147 Train Loss: 0.1171 Train Acc: 0.9596 Val Loss: 1.7612 Val Acc: 0.6801 Best Val Acc: 0.6836\n",
      "Time: 39.162298917770386 Epoch 148 Train Loss: 0.1157 Train Acc: 0.9602 Val Loss: 1.7838 Val Acc: 0.6854 Best Val Acc: 0.6854\n",
      "Time: 38.480732440948486 Epoch 149 Train Loss: 0.1172 Train Acc: 0.9592 Val Loss: 1.7788 Val Acc: 0.6831 Best Val Acc: 0.6854\n",
      "Time: 39.19642996788025 Epoch 150 Train Loss: 0.1177 Train Acc: 0.9582 Val Loss: 1.7697 Val Acc: 0.6825 Best Val Acc: 0.6854\n",
      "Time: 41.10667109489441 Epoch 151 Train Loss: 0.1108 Train Acc: 0.9618 Val Loss: 1.7909 Val Acc: 0.6812 Best Val Acc: 0.6854\n",
      "Time: 39.30543637275696 Epoch 152 Train Loss: 0.1135 Train Acc: 0.9603 Val Loss: 1.7968 Val Acc: 0.6836 Best Val Acc: 0.6854\n",
      "Time: 38.23135280609131 Epoch 153 Train Loss: 0.1154 Train Acc: 0.9594 Val Loss: 1.7816 Val Acc: 0.6840 Best Val Acc: 0.6854\n",
      "Time: 39.19888210296631 Epoch 154 Train Loss: 0.1074 Train Acc: 0.9622 Val Loss: 1.7956 Val Acc: 0.6829 Best Val Acc: 0.6854\n",
      "Time: 39.62947082519531 Epoch 155 Train Loss: 0.1102 Train Acc: 0.9611 Val Loss: 1.7968 Val Acc: 0.6810 Best Val Acc: 0.6854\n",
      "Time: 40.67342734336853 Epoch 156 Train Loss: 0.1125 Train Acc: 0.9611 Val Loss: 1.7855 Val Acc: 0.6840 Best Val Acc: 0.6854\n",
      "Time: 38.715630292892456 Epoch 157 Train Loss: 0.1095 Train Acc: 0.9610 Val Loss: 1.7820 Val Acc: 0.6836 Best Val Acc: 0.6854\n",
      "Time: 38.672343492507935 Epoch 158 Train Loss: 0.1113 Train Acc: 0.9607 Val Loss: 1.7991 Val Acc: 0.6853 Best Val Acc: 0.6854\n",
      "Time: 37.873661041259766 Epoch 159 Train Loss: 0.1123 Train Acc: 0.9593 Val Loss: 1.7797 Val Acc: 0.6825 Best Val Acc: 0.6854\n",
      "Time: 37.204070806503296 Epoch 160 Train Loss: 0.1064 Train Acc: 0.9630 Val Loss: 1.8238 Val Acc: 0.6811 Best Val Acc: 0.6854\n",
      "Time: 37.94767618179321 Epoch 161 Train Loss: 0.1097 Train Acc: 0.9609 Val Loss: 1.7956 Val Acc: 0.6835 Best Val Acc: 0.6854\n",
      "Time: 38.453566551208496 Epoch 162 Train Loss: 0.1089 Train Acc: 0.9623 Val Loss: 1.8274 Val Acc: 0.6829 Best Val Acc: 0.6854\n",
      "Time: 38.680691957473755 Epoch 163 Train Loss: 0.1078 Train Acc: 0.9619 Val Loss: 1.8332 Val Acc: 0.6849 Best Val Acc: 0.6854\n",
      "Time: 37.746092319488525 Epoch 164 Train Loss: 0.1051 Train Acc: 0.9634 Val Loss: 1.8324 Val Acc: 0.6833 Best Val Acc: 0.6854\n",
      "Time: 38.54627871513367 Epoch 165 Train Loss: 0.1087 Train Acc: 0.9622 Val Loss: 1.8338 Val Acc: 0.6839 Best Val Acc: 0.6854\n",
      "Time: 38.23481845855713 Epoch 166 Train Loss: 0.1070 Train Acc: 0.9629 Val Loss: 1.8417 Val Acc: 0.6806 Best Val Acc: 0.6854\n",
      "Time: 38.87426829338074 Epoch 167 Train Loss: 0.1073 Train Acc: 0.9615 Val Loss: 1.8072 Val Acc: 0.6812 Best Val Acc: 0.6854\n",
      "Time: 37.96977877616882 Epoch 168 Train Loss: 0.1061 Train Acc: 0.9633 Val Loss: 1.8330 Val Acc: 0.6821 Best Val Acc: 0.6854\n",
      "Time: 37.90514922142029 Epoch 169 Train Loss: 0.1023 Train Acc: 0.9641 Val Loss: 1.8358 Val Acc: 0.6833 Best Val Acc: 0.6854\n",
      "Time: 37.50156211853027 Epoch 170 Train Loss: 0.1060 Train Acc: 0.9632 Val Loss: 1.8297 Val Acc: 0.6824 Best Val Acc: 0.6854\n",
      "Time: 51.07723569869995 Epoch 171 Train Loss: 0.1044 Train Acc: 0.9644 Val Loss: 1.8306 Val Acc: 0.6851 Best Val Acc: 0.6854\n",
      "Time: 37.93705368041992 Epoch 172 Train Loss: 0.1057 Train Acc: 0.9635 Val Loss: 1.8613 Val Acc: 0.6801 Best Val Acc: 0.6854\n",
      "Time: 38.20953869819641 Epoch 173 Train Loss: 0.1047 Train Acc: 0.9628 Val Loss: 1.8483 Val Acc: 0.6808 Best Val Acc: 0.6854\n",
      "Time: 37.915817975997925 Epoch 174 Train Loss: 0.0992 Train Acc: 0.9646 Val Loss: 1.8450 Val Acc: 0.6826 Best Val Acc: 0.6854\n",
      "Time: 37.99886441230774 Epoch 175 Train Loss: 0.1073 Train Acc: 0.9627 Val Loss: 1.8448 Val Acc: 0.6840 Best Val Acc: 0.6854\n",
      "Time: 37.75015377998352 Epoch 176 Train Loss: 0.1052 Train Acc: 0.9627 Val Loss: 1.8437 Val Acc: 0.6825 Best Val Acc: 0.6854\n",
      "Time: 37.13853073120117 Epoch 177 Train Loss: 0.1029 Train Acc: 0.9643 Val Loss: 1.8463 Val Acc: 0.6833 Best Val Acc: 0.6854\n",
      "Time: 37.955031633377075 Epoch 178 Train Loss: 0.0997 Train Acc: 0.9660 Val Loss: 1.8566 Val Acc: 0.6843 Best Val Acc: 0.6854\n",
      "Time: 39.20252537727356 Epoch 179 Train Loss: 0.0965 Train Acc: 0.9662 Val Loss: 1.8550 Val Acc: 0.6817 Best Val Acc: 0.6854\n",
      "Time: 38.7271249294281 Epoch 180 Train Loss: 0.0993 Train Acc: 0.9646 Val Loss: 1.8332 Val Acc: 0.6773 Best Val Acc: 0.6854\n",
      "Time: 38.08640432357788 Epoch 181 Train Loss: 0.1019 Train Acc: 0.9628 Val Loss: 1.8669 Val Acc: 0.6812 Best Val Acc: 0.6854\n",
      "Time: 37.86252188682556 Epoch 182 Train Loss: 0.0981 Train Acc: 0.9659 Val Loss: 1.8688 Val Acc: 0.6806 Best Val Acc: 0.6854\n",
      "Time: 38.20086359977722 Epoch 183 Train Loss: 0.0999 Train Acc: 0.9656 Val Loss: 1.8727 Val Acc: 0.6804 Best Val Acc: 0.6854\n",
      "Time: 37.442710161209106 Epoch 184 Train Loss: 0.0992 Train Acc: 0.9646 Val Loss: 1.9021 Val Acc: 0.6799 Best Val Acc: 0.6854\n",
      "Time: 37.40258812904358 Epoch 185 Train Loss: 0.1015 Train Acc: 0.9638 Val Loss: 1.8809 Val Acc: 0.6821 Best Val Acc: 0.6854\n",
      "Time: 37.79715347290039 Epoch 186 Train Loss: 0.0951 Train Acc: 0.9667 Val Loss: 1.8826 Val Acc: 0.6840 Best Val Acc: 0.6854\n",
      "Time: 37.91117835044861 Epoch 187 Train Loss: 0.0959 Train Acc: 0.9662 Val Loss: 1.8986 Val Acc: 0.6800 Best Val Acc: 0.6854\n",
      "Time: 37.63293957710266 Epoch 188 Train Loss: 0.0968 Train Acc: 0.9669 Val Loss: 1.9063 Val Acc: 0.6860 Best Val Acc: 0.6860\n",
      "Time: 37.57339859008789 Epoch 189 Train Loss: 0.0947 Train Acc: 0.9667 Val Loss: 1.8861 Val Acc: 0.6832 Best Val Acc: 0.6860\n",
      "Time: 37.84559893608093 Epoch 190 Train Loss: 0.0961 Train Acc: 0.9669 Val Loss: 1.8924 Val Acc: 0.6799 Best Val Acc: 0.6860\n",
      "Time: 37.883480072021484 Epoch 191 Train Loss: 0.0944 Train Acc: 0.9663 Val Loss: 1.8973 Val Acc: 0.6821 Best Val Acc: 0.6860\n",
      "Time: 37.87378215789795 Epoch 192 Train Loss: 0.0963 Train Acc: 0.9660 Val Loss: 1.8835 Val Acc: 0.6850 Best Val Acc: 0.6860\n",
      "Time: 38.50283122062683 Epoch 193 Train Loss: 0.0950 Train Acc: 0.9662 Val Loss: 1.9171 Val Acc: 0.6817 Best Val Acc: 0.6860\n",
      "Time: 38.53329277038574 Epoch 194 Train Loss: 0.0940 Train Acc: 0.9674 Val Loss: 1.8998 Val Acc: 0.6808 Best Val Acc: 0.6860\n",
      "Time: 38.74349284172058 Epoch 195 Train Loss: 0.0992 Train Acc: 0.9647 Val Loss: 1.8868 Val Acc: 0.6818 Best Val Acc: 0.6860\n",
      "Time: 39.90416240692139 Epoch 196 Train Loss: 0.0953 Train Acc: 0.9657 Val Loss: 1.9042 Val Acc: 0.6807 Best Val Acc: 0.6860\n",
      "Time: 38.655346393585205 Epoch 197 Train Loss: 0.0951 Train Acc: 0.9672 Val Loss: 1.9215 Val Acc: 0.6819 Best Val Acc: 0.6860\n",
      "Time: 37.841203689575195 Epoch 198 Train Loss: 0.0933 Train Acc: 0.9674 Val Loss: 1.9097 Val Acc: 0.6819 Best Val Acc: 0.6860\n"
     ]
    },
    {
     "name": "stdout",
     "output_type": "stream",
     "text": [
      "Time: 37.63083362579346 Epoch 199 Train Loss: 0.0949 Train Acc: 0.9661 Val Loss: 1.8956 Val Acc: 0.6838 Best Val Acc: 0.6860\n",
      "Time: 38.528552293777466 Epoch 200 Train Loss: 0.0954 Train Acc: 0.9661 Val Loss: 1.9074 Val Acc: 0.6808 Best Val Acc: 0.6860\n",
      "Finished Training\n"
     ]
    }
   ],
   "source": [
    "epochs = 200\n",
    "optimizer = optim.SGD(model.parameters(), lr=0.01, momentum=0.9)\n",
    "save_every = 50\n",
    "# define your loss function\n",
    "criterion = nn.CrossEntropyLoss()\n",
    "\n",
    "scheduler = optim.lr_scheduler.ReduceLROnPlateau(optimizer, mode='min', factor=0.1, patience=100, verbose=True, cooldown=0, min_lr=0.001, eps=1e-08)\n",
    "# define your checkpoint callback function\n",
    "def save_checkpoint(state, is_best, filename='Resnet12-64.128.256(x2)/checkpoint.pth.tar', save_every=save_every):\n",
    "    torch.save(state, filename)\n",
    "    if is_best:\n",
    "        shutil.copyfile(filename, 'Resnet12-64.128.256(x2)/best_model.pth.tar')\n",
    "    if state['epoch'] % save_every == 0:\n",
    "        torch.save(state, f'Resnet12-64.128.256(x2)/checkpoint_epoch{state[\"epoch\"]}.pth.tar')\n",
    "\n",
    "# initialize variables for tracking training progress and best validation accuracy\n",
    "train_losses = []\n",
    "train_accs = []\n",
    "val_losses = []\n",
    "val_accs = []\n",
    "best_val_acc = 0.0\n",
    "\n",
    "device = torch.device('cuda' if torch.cuda.is_available() else 'cpu')\n",
    "print(device)\n",
    "# train the model\n",
    "for epoch in range(epochs):\n",
    "    start=time.time()\n",
    "    # train for one epoch\n",
    "    model.to(device)\n",
    "    model.train()\n",
    "    train_loss = 0.0\n",
    "    train_acc = 0.0\n",
    "    for i, (inputs, labels) in enumerate(train_loader):\n",
    "        # zero the parameter gradients\n",
    "        optimizer.zero_grad()\n",
    "\n",
    "        # move inputs and labels to the same device as the model\n",
    "        inputs = inputs.to(device)\n",
    "        labels = labels.to(device)\n",
    "\n",
    "        # forward + backward + optimize\n",
    "        outputs = model(inputs)\n",
    "        loss = criterion(outputs, labels)\n",
    "        loss.backward()\n",
    "        optimizer.step()\n",
    "\n",
    "        # update training loss and accuracy\n",
    "        train_loss += loss.item() * inputs.size(0)\n",
    "        _, predicted = torch.max(outputs.data, 1)\n",
    "        train_acc += (predicted == labels).sum().item()\n",
    "\n",
    "    # calculate average training loss and accuracy for the epoch\n",
    "    train_loss = train_loss / len(train_loader.dataset)\n",
    "    train_acc = train_acc / len(train_loader.dataset)\n",
    "    train_losses.append(train_loss)\n",
    "    train_accs.append(train_acc)\n",
    "\n",
    "    # evaluate the model on the validation set\n",
    "    model.eval()\n",
    "    val_loss = 0.0\n",
    "    val_acc = 0.0\n",
    "    with torch.no_grad():\n",
    "        for inputs, labels in val_loader:\n",
    "            # move inputs and labels to the same device as the model\n",
    "            inputs = inputs.to(device)\n",
    "            labels = labels.to(device)\n",
    "\n",
    "            outputs = model(inputs)\n",
    "            loss = criterion(outputs, labels)\n",
    "            val_loss += loss.item() * inputs.size(0)\n",
    "            _, predicted = torch.max(outputs.data, 1)\n",
    "            val_acc += (predicted == labels).sum().item()\n",
    "\n",
    "    # calculate average validation loss and accuracy for the epoch\n",
    "    val_loss = val_loss / len(val_loader.dataset)\n",
    "    val_acc = val_acc / len(val_loader.dataset)\n",
    "    val_losses.append(val_loss)\n",
    "    val_accs.append(val_acc)\n",
    "\n",
    "    # update the learning rate scheduler based on validation loss\n",
    "    scheduler.step(-val_loss)\n",
    "\n",
    "    # save checkpoint and best model\n",
    "    is_best = val_acc > best_val_acc\n",
    "    best_val_acc = max(val_acc, best_val_acc)\n",
    "    save_checkpoint({\n",
    "        'epoch': epoch + 1,\n",
    "        'model_state_dict': model.state_dict(),\n",
    "        'optimizer_state_dict': optimizer.state_dict(),\n",
    "        'train_loss': train_loss,\n",
    "        'train_acc': train_acc,\n",
    "        'val_loss': val_loss,\n",
    "        'val_acc': val_acc\n",
    "    }, is_best)\n",
    "\n",
    "    # print training progress for the epoch\n",
    "    stop=time.time()\n",
    "    print(f'Time: {stop-start} Epoch {epoch+1} Train Loss: {train_loss:.4f} Train Acc: {train_acc:.4f} Val Loss: {val_loss:.4f} Val Acc: {val_acc:.4f} Best Val Acc: {best_val_acc:.4f}')\n",
    "\n",
    "print('Finished Training')"
   ]
  },
  {
   "cell_type": "markdown",
   "metadata": {
    "id": "vnmN7X0Lt88s"
   },
   "source": [
    "#Save model"
   ]
  },
  {
   "cell_type": "markdown",
   "metadata": {
    "id": "HRQ3-GAkutyh"
   },
   "source": [
    "# **Model evaluation:**"
   ]
  },
  {
   "cell_type": "code",
   "execution_count": 20,
   "metadata": {
    "id": "OirCn85XRRjJ"
   },
   "outputs": [
    {
     "data": {
      "image/png": "[encoded data removed]",
      "text/plain": [
       "<Figure size 1200x400 with 2 Axes>"
      ]
     },
     "metadata": {},
     "output_type": "display_data"
    }
   ],
   "source": [
    "# Create plots for accuracy and loss.\n",
    "fig, ax = plt.subplots(1, 2)\n",
    "fig.set_size_inches(12, 4)\n",
    "\n",
    "ax[0].plot(train_accs)\n",
    "ax[0].plot(val_accs)\n",
    "ax[0].set_title('Training Accuracy vs Validation Accuracy')\n",
    "ax[0].set_ylabel('Accuracy')\n",
    "ax[0].set_xlabel('Epoch')\n",
    "ax[0].legend(['Train', 'Validation'], loc='upper left')\n",
    "\n",
    "ax[1].plot(train_losses)\n",
    "ax[1].plot(val_losses)\n",
    "ax[1].set_title('Training Loss vs Validation Loss')\n",
    "ax[1].set_ylabel('Loss')\n",
    "ax[1].set_xlabel('Epoch')\n",
    "ax[1].legend(['Train', 'Validation'], loc='upper left')\n",
    "\n",
    "plt.show()"
   ]
  },
  {
   "cell_type": "markdown",
   "metadata": {
    "id": "YpwLo3MOVlo_"
   },
   "source": [
    "## Pretrain Model\n"
   ]
  },
  {
   "cell_type": "code",
   "execution_count": 24,
   "metadata": {
    "id": "M_4f0pr_MvTf"
   },
   "outputs": [
    {
     "name": "stdout",
     "output_type": "stream",
     "text": [
      "epoch\n",
      "model_state_dict\n",
      "optimizer_state_dict\n",
      "train_loss\n",
      "train_acc\n",
      "val_loss\n",
      "val_acc\n"
     ]
    },
    {
     "data": {
      "text/plain": [
       "<Figure size 640x480 with 0 Axes>"
      ]
     },
     "metadata": {},
     "output_type": "display_data"
    },
    {
     "data": {
      "image/png": "[encoded data removed]",
      "text/plain": [
       "<Figure size 1440x720 with 2 Axes>"
      ]
     },
     "metadata": {},
     "output_type": "display_data"
    }
   ],
   "source": [
    "import numpy as np\n",
    "import torch\n",
    "import itertools\n",
    "import matplotlib.pyplot as plt\n",
    "from sklearn.metrics import confusion_matrix\n",
    "\n",
    "# load the checkpoint file\n",
    "checkpoint = torch.load('Resnet12-64.128.256(x2)/best_model_2.pth.tar')\n",
    "for key in checkpoint:\n",
    "    print(key)\n",
    "        \n",
    "optimizer.load_state_dict(checkpoint[\"optimizer_state_dict\"])\n",
    "\n",
    "# retrieve the model state dictionary from the checkpoint\n",
    "model.load_state_dict(checkpoint['model_state_dict'])\n",
    "\n",
    "# compute predictions\n",
    "model.eval()\n",
    "y_pred = []\n",
    "y_true = []\n",
    "with torch.no_grad():\n",
    "    for inputs, labels in val_set:\n",
    "        inputs = inputs.to(device)\n",
    "        inputs = inputs.unsqueeze(0)\n",
    "        outputs = model(inputs)\n",
    "        _, preds = torch.max(outputs, 1)\n",
    "        y_pred += preds.tolist()\n",
    "        y_true.append(labels)  # remove .tolist()\n",
    "\n",
    "class_names = ['angry', 'disgust', 'fear', 'happy', 'neutral', 'sad', 'surprise']\n",
    "\n",
    "# Create function to plot confusion matrix.\n",
    "def plot_confusion_matrix(cm, classes, title='Confusion matrix', cmap=plt.cm.Blues):\n",
    "    cm = cm.astype('float') / cm.sum(axis=1)[:, np.newaxis]\n",
    "    plt.figure(figsize=(12,6), dpi=120)\n",
    "    plt.imshow(cm, interpolation='nearest', cmap=cmap)\n",
    "    plt.title(title)\n",
    "    plt.colorbar()\n",
    "    tick_marks = np.arange(len(classes))\n",
    "    plt.xticks(tick_marks, classes, rotation=45)\n",
    "    plt.yticks(tick_marks, classes)\n",
    "\n",
    "    fmt = '.2f'\n",
    "    thresh = cm.max() / 2.\n",
    "    for i, j in itertools.product(range(cm.shape[0]), range(cm.shape[1])):\n",
    "        plt.text(j, i, format(cm[i, j], fmt),\n",
    "                 horizontalalignment=\"center\",\n",
    "                 color=\"white\" if cm[i, j] > thresh else \"black\")\n",
    "\n",
    "    plt.ylabel('True label')\n",
    "    plt.xlabel('Predicted label')\n",
    "    plt.tight_layout()\n",
    "    plt.show()\n",
    "\n",
    "# Compute confusion matrix\n",
    "cnf_matrix = confusion_matrix(y_true, y_pred)\n",
    "np.set_printoptions(precision=2)\n",
    "\n",
    "# Plot normalized confusion matrix\n",
    "plt.figure()\n",
    "plot_confusion_matrix(cnf_matrix, classes=class_names, title='Normalized confusion matrix')\n",
    "plt.show()"
   ]
  },
  {
   "cell_type": "code",
   "execution_count": 23,
   "metadata": {},
   "outputs": [
    {
     "name": "stdout",
     "output_type": "stream",
     "text": [
      "cuda\n",
      "Time: 38.65484547615051 Epoch 1 Train Loss: 0.0983 Train Acc: 0.9651 Val Loss: 1.8809 Val Acc: 0.6839 Best Val Acc: 0.6839\n",
      "Time: 38.43045210838318 Epoch 2 Train Loss: 0.0947 Train Acc: 0.9668 Val Loss: 1.9040 Val Acc: 0.6826 Best Val Acc: 0.6839\n",
      "Time: 37.230252742767334 Epoch 3 Train Loss: 0.0942 Train Acc: 0.9678 Val Loss: 1.9343 Val Acc: 0.6842 Best Val Acc: 0.6842\n",
      "Time: 37.576719999313354 Epoch 4 Train Loss: 0.0985 Train Acc: 0.9659 Val Loss: 1.9097 Val Acc: 0.6801 Best Val Acc: 0.6842\n",
      "Time: 38.45512127876282 Epoch 5 Train Loss: 0.0929 Train Acc: 0.9672 Val Loss: 1.9059 Val Acc: 0.6861 Best Val Acc: 0.6861\n",
      "Time: 38.29913830757141 Epoch 6 Train Loss: 0.0945 Train Acc: 0.9675 Val Loss: 1.9150 Val Acc: 0.6814 Best Val Acc: 0.6861\n",
      "Time: 38.48737907409668 Epoch 7 Train Loss: 0.0947 Train Acc: 0.9668 Val Loss: 1.9205 Val Acc: 0.6843 Best Val Acc: 0.6861\n",
      "Time: 39.40674567222595 Epoch 8 Train Loss: 0.0945 Train Acc: 0.9669 Val Loss: 1.9042 Val Acc: 0.6851 Best Val Acc: 0.6861\n",
      "Time: 40.55265426635742 Epoch 9 Train Loss: 0.0948 Train Acc: 0.9663 Val Loss: 1.9083 Val Acc: 0.6842 Best Val Acc: 0.6861\n",
      "Time: 41.250675439834595 Epoch 10 Train Loss: 0.0950 Train Acc: 0.9654 Val Loss: 1.9219 Val Acc: 0.6826 Best Val Acc: 0.6861\n",
      "Time: 43.2130012512207 Epoch 11 Train Loss: 0.0923 Train Acc: 0.9668 Val Loss: 1.9240 Val Acc: 0.6812 Best Val Acc: 0.6861\n",
      "Time: 44.7983615398407 Epoch 12 Train Loss: 0.0905 Train Acc: 0.9685 Val Loss: 1.9212 Val Acc: 0.6825 Best Val Acc: 0.6861\n",
      "Time: 40.45761513710022 Epoch 13 Train Loss: 0.0943 Train Acc: 0.9662 Val Loss: 1.9177 Val Acc: 0.6842 Best Val Acc: 0.6861\n",
      "Time: 41.675405740737915 Epoch 14 Train Loss: 0.0916 Train Acc: 0.9678 Val Loss: 1.9318 Val Acc: 0.6835 Best Val Acc: 0.6861\n",
      "Time: 41.47390675544739 Epoch 15 Train Loss: 0.0903 Train Acc: 0.9674 Val Loss: 1.9106 Val Acc: 0.6838 Best Val Acc: 0.6861\n",
      "Time: 41.86233568191528 Epoch 16 Train Loss: 0.0867 Train Acc: 0.9687 Val Loss: 1.9248 Val Acc: 0.6821 Best Val Acc: 0.6861\n",
      "Time: 41.23515248298645 Epoch 17 Train Loss: 0.0886 Train Acc: 0.9695 Val Loss: 1.9566 Val Acc: 0.6829 Best Val Acc: 0.6861\n",
      "Time: 40.991050481796265 Epoch 18 Train Loss: 0.0929 Train Acc: 0.9669 Val Loss: 1.9242 Val Acc: 0.6843 Best Val Acc: 0.6861\n",
      "Time: 43.03681421279907 Epoch 19 Train Loss: 0.0903 Train Acc: 0.9677 Val Loss: 1.9514 Val Acc: 0.6843 Best Val Acc: 0.6861\n",
      "Time: 42.84307408332825 Epoch 20 Train Loss: 0.0934 Train Acc: 0.9674 Val Loss: 1.9410 Val Acc: 0.6840 Best Val Acc: 0.6861\n",
      "Time: 81.60916066169739 Epoch 21 Train Loss: 0.0912 Train Acc: 0.9680 Val Loss: 1.9442 Val Acc: 0.6850 Best Val Acc: 0.6861\n",
      "Time: 38.56782412528992 Epoch 22 Train Loss: 0.0905 Train Acc: 0.9675 Val Loss: 1.9176 Val Acc: 0.6840 Best Val Acc: 0.6861\n",
      "Time: 38.61022734642029 Epoch 23 Train Loss: 0.0921 Train Acc: 0.9671 Val Loss: 1.8959 Val Acc: 0.6842 Best Val Acc: 0.6861\n",
      "Time: 39.325661420822144 Epoch 24 Train Loss: 0.0921 Train Acc: 0.9670 Val Loss: 1.9605 Val Acc: 0.6811 Best Val Acc: 0.6861\n",
      "Time: 38.3829779624939 Epoch 25 Train Loss: 0.0889 Train Acc: 0.9692 Val Loss: 1.9356 Val Acc: 0.6825 Best Val Acc: 0.6861\n",
      "Time: 39.07699370384216 Epoch 26 Train Loss: 0.0873 Train Acc: 0.9692 Val Loss: 1.9495 Val Acc: 0.6838 Best Val Acc: 0.6861\n",
      "Time: 39.140098571777344 Epoch 27 Train Loss: 0.0946 Train Acc: 0.9664 Val Loss: 1.9225 Val Acc: 0.6832 Best Val Acc: 0.6861\n",
      "Time: 39.114301919937134 Epoch 28 Train Loss: 0.0887 Train Acc: 0.9681 Val Loss: 1.9414 Val Acc: 0.6828 Best Val Acc: 0.6861\n",
      "Time: 39.24085855484009 Epoch 29 Train Loss: 0.0884 Train Acc: 0.9685 Val Loss: 1.9490 Val Acc: 0.6860 Best Val Acc: 0.6861\n",
      "Time: 39.367483377456665 Epoch 30 Train Loss: 0.0885 Train Acc: 0.9684 Val Loss: 1.9323 Val Acc: 0.6864 Best Val Acc: 0.6864\n",
      "Time: 38.40850830078125 Epoch 31 Train Loss: 0.0870 Train Acc: 0.9683 Val Loss: 1.9438 Val Acc: 0.6857 Best Val Acc: 0.6864\n",
      "Time: 38.44770407676697 Epoch 32 Train Loss: 0.0873 Train Acc: 0.9694 Val Loss: 1.9251 Val Acc: 0.6875 Best Val Acc: 0.6875\n",
      "Time: 38.11271619796753 Epoch 33 Train Loss: 0.0866 Train Acc: 0.9688 Val Loss: 1.9503 Val Acc: 0.6847 Best Val Acc: 0.6875\n",
      "Time: 38.195603370666504 Epoch 34 Train Loss: 0.0865 Train Acc: 0.9707 Val Loss: 1.9534 Val Acc: 0.6828 Best Val Acc: 0.6875\n",
      "Time: 39.1904513835907 Epoch 35 Train Loss: 0.0868 Train Acc: 0.9693 Val Loss: 1.9510 Val Acc: 0.6853 Best Val Acc: 0.6875\n",
      "Time: 46.54607582092285 Epoch 36 Train Loss: 0.0871 Train Acc: 0.9696 Val Loss: 1.9573 Val Acc: 0.6812 Best Val Acc: 0.6875\n",
      "Time: 43.2820086479187 Epoch 37 Train Loss: 0.0866 Train Acc: 0.9703 Val Loss: 1.9734 Val Acc: 0.6871 Best Val Acc: 0.6875\n",
      "Time: 47.11943602561951 Epoch 38 Train Loss: 0.0873 Train Acc: 0.9689 Val Loss: 1.9362 Val Acc: 0.6857 Best Val Acc: 0.6875\n",
      "Time: 42.382948875427246 Epoch 39 Train Loss: 0.0864 Train Acc: 0.9687 Val Loss: 1.9504 Val Acc: 0.6861 Best Val Acc: 0.6875\n",
      "Time: 44.92192029953003 Epoch 40 Train Loss: 0.0871 Train Acc: 0.9697 Val Loss: 1.9447 Val Acc: 0.6819 Best Val Acc: 0.6875\n",
      "Time: 41.71769452095032 Epoch 41 Train Loss: 0.0812 Train Acc: 0.9707 Val Loss: 1.9423 Val Acc: 0.6825 Best Val Acc: 0.6875\n",
      "Time: 41.0104124546051 Epoch 42 Train Loss: 0.0901 Train Acc: 0.9690 Val Loss: 1.9359 Val Acc: 0.6854 Best Val Acc: 0.6875\n",
      "Time: 44.292548418045044 Epoch 43 Train Loss: 0.0866 Train Acc: 0.9688 Val Loss: 1.9434 Val Acc: 0.6843 Best Val Acc: 0.6875\n",
      "Time: 42.41636562347412 Epoch 44 Train Loss: 0.0836 Train Acc: 0.9701 Val Loss: 1.9679 Val Acc: 0.6860 Best Val Acc: 0.6875\n",
      "Time: 43.65465426445007 Epoch 45 Train Loss: 0.0844 Train Acc: 0.9694 Val Loss: 1.9475 Val Acc: 0.6845 Best Val Acc: 0.6875\n",
      "Time: 39.572001695632935 Epoch 46 Train Loss: 0.0845 Train Acc: 0.9704 Val Loss: 1.9741 Val Acc: 0.6814 Best Val Acc: 0.6875\n",
      "Time: 39.890998125076294 Epoch 47 Train Loss: 0.0857 Train Acc: 0.9700 Val Loss: 1.9404 Val Acc: 0.6845 Best Val Acc: 0.6875\n",
      "Time: 38.81500506401062 Epoch 48 Train Loss: 0.0833 Train Acc: 0.9693 Val Loss: 1.9698 Val Acc: 0.6847 Best Val Acc: 0.6875\n",
      "Time: 40.15899443626404 Epoch 49 Train Loss: 0.0837 Train Acc: 0.9700 Val Loss: 1.9883 Val Acc: 0.6821 Best Val Acc: 0.6875\n",
      "Time: 40.107701539993286 Epoch 50 Train Loss: 0.0812 Train Acc: 0.9724 Val Loss: 1.9550 Val Acc: 0.6826 Best Val Acc: 0.6875\n"
     ]
    },
    {
     "ename": "KeyboardInterrupt",
     "evalue": "",
     "output_type": "error",
     "traceback": [
      "\u001b[1;31m---------------------------------------------------------------------------\u001b[0m",
      "\u001b[1;31mKeyboardInterrupt\u001b[0m                         Traceback (most recent call last)",
      "Cell \u001b[1;32mIn[23], line 72\u001b[0m\n\u001b[0;32m     70\u001b[0m val_acc \u001b[38;5;241m=\u001b[39m \u001b[38;5;241m0.0\u001b[39m\n\u001b[0;32m     71\u001b[0m \u001b[38;5;28;01mwith\u001b[39;00m torch\u001b[38;5;241m.\u001b[39mno_grad():\n\u001b[1;32m---> 72\u001b[0m     \u001b[38;5;28;01mfor\u001b[39;00m inputs, labels \u001b[38;5;129;01min\u001b[39;00m val_loader:\n\u001b[0;32m     73\u001b[0m         \u001b[38;5;66;03m# move inputs and labels to the same device as the model\u001b[39;00m\n\u001b[0;32m     74\u001b[0m         inputs \u001b[38;5;241m=\u001b[39m inputs\u001b[38;5;241m.\u001b[39mto(device)\n\u001b[0;32m     75\u001b[0m         labels \u001b[38;5;241m=\u001b[39m labels\u001b[38;5;241m.\u001b[39mto(device)\n",
      "File \u001b[1;32m~\\anaconda3\\envs\\py38\\lib\\site-packages\\torch\\utils\\data\\dataloader.py:628\u001b[0m, in \u001b[0;36m_BaseDataLoaderIter.__next__\u001b[1;34m(self)\u001b[0m\n\u001b[0;32m    625\u001b[0m \u001b[38;5;28;01mif\u001b[39;00m \u001b[38;5;28mself\u001b[39m\u001b[38;5;241m.\u001b[39m_sampler_iter \u001b[38;5;129;01mis\u001b[39;00m \u001b[38;5;28;01mNone\u001b[39;00m:\n\u001b[0;32m    626\u001b[0m     \u001b[38;5;66;03m# TODO(https://github.com/pytorch/pytorch/issues/76750)\u001b[39;00m\n\u001b[0;32m    627\u001b[0m     \u001b[38;5;28mself\u001b[39m\u001b[38;5;241m.\u001b[39m_reset()  \u001b[38;5;66;03m# type: ignore[call-arg]\u001b[39;00m\n\u001b[1;32m--> 628\u001b[0m data \u001b[38;5;241m=\u001b[39m \u001b[38;5;28;43mself\u001b[39;49m\u001b[38;5;241;43m.\u001b[39;49m\u001b[43m_next_data\u001b[49m\u001b[43m(\u001b[49m\u001b[43m)\u001b[49m\n\u001b[0;32m    629\u001b[0m \u001b[38;5;28mself\u001b[39m\u001b[38;5;241m.\u001b[39m_num_yielded \u001b[38;5;241m+\u001b[39m\u001b[38;5;241m=\u001b[39m \u001b[38;5;241m1\u001b[39m\n\u001b[0;32m    630\u001b[0m \u001b[38;5;28;01mif\u001b[39;00m \u001b[38;5;28mself\u001b[39m\u001b[38;5;241m.\u001b[39m_dataset_kind \u001b[38;5;241m==\u001b[39m _DatasetKind\u001b[38;5;241m.\u001b[39mIterable \u001b[38;5;129;01mand\u001b[39;00m \\\n\u001b[0;32m    631\u001b[0m         \u001b[38;5;28mself\u001b[39m\u001b[38;5;241m.\u001b[39m_IterableDataset_len_called \u001b[38;5;129;01mis\u001b[39;00m \u001b[38;5;129;01mnot\u001b[39;00m \u001b[38;5;28;01mNone\u001b[39;00m \u001b[38;5;129;01mand\u001b[39;00m \\\n\u001b[0;32m    632\u001b[0m         \u001b[38;5;28mself\u001b[39m\u001b[38;5;241m.\u001b[39m_num_yielded \u001b[38;5;241m>\u001b[39m \u001b[38;5;28mself\u001b[39m\u001b[38;5;241m.\u001b[39m_IterableDataset_len_called:\n",
      "File \u001b[1;32m~\\anaconda3\\envs\\py38\\lib\\site-packages\\torch\\utils\\data\\dataloader.py:671\u001b[0m, in \u001b[0;36m_SingleProcessDataLoaderIter._next_data\u001b[1;34m(self)\u001b[0m\n\u001b[0;32m    669\u001b[0m \u001b[38;5;28;01mdef\u001b[39;00m \u001b[38;5;21m_next_data\u001b[39m(\u001b[38;5;28mself\u001b[39m):\n\u001b[0;32m    670\u001b[0m     index \u001b[38;5;241m=\u001b[39m \u001b[38;5;28mself\u001b[39m\u001b[38;5;241m.\u001b[39m_next_index()  \u001b[38;5;66;03m# may raise StopIteration\u001b[39;00m\n\u001b[1;32m--> 671\u001b[0m     data \u001b[38;5;241m=\u001b[39m \u001b[38;5;28;43mself\u001b[39;49m\u001b[38;5;241;43m.\u001b[39;49m\u001b[43m_dataset_fetcher\u001b[49m\u001b[38;5;241;43m.\u001b[39;49m\u001b[43mfetch\u001b[49m\u001b[43m(\u001b[49m\u001b[43mindex\u001b[49m\u001b[43m)\u001b[49m  \u001b[38;5;66;03m# may raise StopIteration\u001b[39;00m\n\u001b[0;32m    672\u001b[0m     \u001b[38;5;28;01mif\u001b[39;00m \u001b[38;5;28mself\u001b[39m\u001b[38;5;241m.\u001b[39m_pin_memory:\n\u001b[0;32m    673\u001b[0m         data \u001b[38;5;241m=\u001b[39m _utils\u001b[38;5;241m.\u001b[39mpin_memory\u001b[38;5;241m.\u001b[39mpin_memory(data, \u001b[38;5;28mself\u001b[39m\u001b[38;5;241m.\u001b[39m_pin_memory_device)\n",
      "File \u001b[1;32m~\\anaconda3\\envs\\py38\\lib\\site-packages\\torch\\utils\\data\\_utils\\fetch.py:58\u001b[0m, in \u001b[0;36m_MapDatasetFetcher.fetch\u001b[1;34m(self, possibly_batched_index)\u001b[0m\n\u001b[0;32m     56\u001b[0m         data \u001b[38;5;241m=\u001b[39m \u001b[38;5;28mself\u001b[39m\u001b[38;5;241m.\u001b[39mdataset\u001b[38;5;241m.\u001b[39m__getitems__(possibly_batched_index)\n\u001b[0;32m     57\u001b[0m     \u001b[38;5;28;01melse\u001b[39;00m:\n\u001b[1;32m---> 58\u001b[0m         data \u001b[38;5;241m=\u001b[39m [\u001b[38;5;28mself\u001b[39m\u001b[38;5;241m.\u001b[39mdataset[idx] \u001b[38;5;28;01mfor\u001b[39;00m idx \u001b[38;5;129;01min\u001b[39;00m possibly_batched_index]\n\u001b[0;32m     59\u001b[0m \u001b[38;5;28;01melse\u001b[39;00m:\n\u001b[0;32m     60\u001b[0m     data \u001b[38;5;241m=\u001b[39m \u001b[38;5;28mself\u001b[39m\u001b[38;5;241m.\u001b[39mdataset[possibly_batched_index]\n",
      "File \u001b[1;32m~\\anaconda3\\envs\\py38\\lib\\site-packages\\torch\\utils\\data\\_utils\\fetch.py:58\u001b[0m, in \u001b[0;36m<listcomp>\u001b[1;34m(.0)\u001b[0m\n\u001b[0;32m     56\u001b[0m         data \u001b[38;5;241m=\u001b[39m \u001b[38;5;28mself\u001b[39m\u001b[38;5;241m.\u001b[39mdataset\u001b[38;5;241m.\u001b[39m__getitems__(possibly_batched_index)\n\u001b[0;32m     57\u001b[0m     \u001b[38;5;28;01melse\u001b[39;00m:\n\u001b[1;32m---> 58\u001b[0m         data \u001b[38;5;241m=\u001b[39m [\u001b[38;5;28;43mself\u001b[39;49m\u001b[38;5;241;43m.\u001b[39;49m\u001b[43mdataset\u001b[49m\u001b[43m[\u001b[49m\u001b[43midx\u001b[49m\u001b[43m]\u001b[49m \u001b[38;5;28;01mfor\u001b[39;00m idx \u001b[38;5;129;01min\u001b[39;00m possibly_batched_index]\n\u001b[0;32m     59\u001b[0m \u001b[38;5;28;01melse\u001b[39;00m:\n\u001b[0;32m     60\u001b[0m     data \u001b[38;5;241m=\u001b[39m \u001b[38;5;28mself\u001b[39m\u001b[38;5;241m.\u001b[39mdataset[possibly_batched_index]\n",
      "Cell \u001b[1;32mIn[10], line 14\u001b[0m, in \u001b[0;36mMyDataset.__getitem__\u001b[1;34m(self, idx)\u001b[0m\n\u001b[0;32m     11\u001b[0m img_path \u001b[38;5;241m=\u001b[39m \u001b[38;5;28mself\u001b[39m\u001b[38;5;241m.\u001b[39mfile_list[idx]\n\u001b[0;32m     12\u001b[0m img \u001b[38;5;241m=\u001b[39m Image\u001b[38;5;241m.\u001b[39mopen(img_path)\n\u001b[1;32m---> 14\u001b[0m img_transformed \u001b[38;5;241m=\u001b[39m \u001b[38;5;28;43mself\u001b[39;49m\u001b[38;5;241;43m.\u001b[39;49m\u001b[43mtransform\u001b[49m\u001b[43m(\u001b[49m\u001b[43mimg\u001b[49m\u001b[43m,\u001b[49m\u001b[43m \u001b[49m\u001b[38;5;28;43mself\u001b[39;49m\u001b[38;5;241;43m.\u001b[39;49m\u001b[43mphase\u001b[49m\u001b[43m)\u001b[49m\n\u001b[0;32m     16\u001b[0m label \u001b[38;5;241m=\u001b[39m img_path\u001b[38;5;241m.\u001b[39msplit(\u001b[38;5;124m'\u001b[39m\u001b[38;5;130;01m\\\\\u001b[39;00m\u001b[38;5;124m'\u001b[39m)[\u001b[38;5;241m1\u001b[39m]\n\u001b[0;32m     18\u001b[0m \u001b[38;5;28;01mif\u001b[39;00m label \u001b[38;5;241m==\u001b[39m \u001b[38;5;124m\"\u001b[39m\u001b[38;5;124mangry\u001b[39m\u001b[38;5;124m\"\u001b[39m:\n",
      "Cell \u001b[1;32mIn[4], line 20\u001b[0m, in \u001b[0;36mImageTransform.__call__\u001b[1;34m(self, img, phase)\u001b[0m\n\u001b[0;32m     19\u001b[0m \u001b[38;5;28;01mdef\u001b[39;00m \u001b[38;5;21m__call__\u001b[39m(\u001b[38;5;28mself\u001b[39m, img, phase\u001b[38;5;241m=\u001b[39m\u001b[38;5;124m'\u001b[39m\u001b[38;5;124mtrain\u001b[39m\u001b[38;5;124m'\u001b[39m):\n\u001b[1;32m---> 20\u001b[0m     \u001b[38;5;28;01mreturn\u001b[39;00m \u001b[38;5;28;43mself\u001b[39;49m\u001b[38;5;241;43m.\u001b[39;49m\u001b[43mdata_transform\u001b[49m\u001b[43m[\u001b[49m\u001b[43mphase\u001b[49m\u001b[43m]\u001b[49m\u001b[43m(\u001b[49m\u001b[43mimg\u001b[49m\u001b[43m)\u001b[49m\n",
      "File \u001b[1;32m~\\anaconda3\\envs\\py38\\lib\\site-packages\\torchvision\\transforms\\transforms.py:95\u001b[0m, in \u001b[0;36mCompose.__call__\u001b[1;34m(self, img)\u001b[0m\n\u001b[0;32m     93\u001b[0m \u001b[38;5;28;01mdef\u001b[39;00m \u001b[38;5;21m__call__\u001b[39m(\u001b[38;5;28mself\u001b[39m, img):\n\u001b[0;32m     94\u001b[0m     \u001b[38;5;28;01mfor\u001b[39;00m t \u001b[38;5;129;01min\u001b[39;00m \u001b[38;5;28mself\u001b[39m\u001b[38;5;241m.\u001b[39mtransforms:\n\u001b[1;32m---> 95\u001b[0m         img \u001b[38;5;241m=\u001b[39m \u001b[43mt\u001b[49m\u001b[43m(\u001b[49m\u001b[43mimg\u001b[49m\u001b[43m)\u001b[49m\n\u001b[0;32m     96\u001b[0m     \u001b[38;5;28;01mreturn\u001b[39;00m img\n",
      "File \u001b[1;32m~\\anaconda3\\envs\\py38\\lib\\site-packages\\torch\\nn\\modules\\module.py:1194\u001b[0m, in \u001b[0;36mModule._call_impl\u001b[1;34m(self, *input, **kwargs)\u001b[0m\n\u001b[0;32m   1190\u001b[0m \u001b[38;5;66;03m# If we don't have any hooks, we want to skip the rest of the logic in\u001b[39;00m\n\u001b[0;32m   1191\u001b[0m \u001b[38;5;66;03m# this function, and just call forward.\u001b[39;00m\n\u001b[0;32m   1192\u001b[0m \u001b[38;5;28;01mif\u001b[39;00m \u001b[38;5;129;01mnot\u001b[39;00m (\u001b[38;5;28mself\u001b[39m\u001b[38;5;241m.\u001b[39m_backward_hooks \u001b[38;5;129;01mor\u001b[39;00m \u001b[38;5;28mself\u001b[39m\u001b[38;5;241m.\u001b[39m_forward_hooks \u001b[38;5;129;01mor\u001b[39;00m \u001b[38;5;28mself\u001b[39m\u001b[38;5;241m.\u001b[39m_forward_pre_hooks \u001b[38;5;129;01mor\u001b[39;00m _global_backward_hooks\n\u001b[0;32m   1193\u001b[0m         \u001b[38;5;129;01mor\u001b[39;00m _global_forward_hooks \u001b[38;5;129;01mor\u001b[39;00m _global_forward_pre_hooks):\n\u001b[1;32m-> 1194\u001b[0m     \u001b[38;5;28;01mreturn\u001b[39;00m \u001b[43mforward_call\u001b[49m\u001b[43m(\u001b[49m\u001b[38;5;241;43m*\u001b[39;49m\u001b[38;5;28;43minput\u001b[39;49m\u001b[43m,\u001b[49m\u001b[43m \u001b[49m\u001b[38;5;241;43m*\u001b[39;49m\u001b[38;5;241;43m*\u001b[39;49m\u001b[43mkwargs\u001b[49m\u001b[43m)\u001b[49m\n\u001b[0;32m   1195\u001b[0m \u001b[38;5;66;03m# Do not call functions when jit is used\u001b[39;00m\n\u001b[0;32m   1196\u001b[0m full_backward_hooks, non_full_backward_hooks \u001b[38;5;241m=\u001b[39m [], []\n",
      "File \u001b[1;32m~\\anaconda3\\envs\\py38\\lib\\site-packages\\torchvision\\transforms\\transforms.py:346\u001b[0m, in \u001b[0;36mResize.forward\u001b[1;34m(self, img)\u001b[0m\n\u001b[0;32m    338\u001b[0m \u001b[38;5;28;01mdef\u001b[39;00m \u001b[38;5;21mforward\u001b[39m(\u001b[38;5;28mself\u001b[39m, img):\n\u001b[0;32m    339\u001b[0m \u001b[38;5;250m    \u001b[39m\u001b[38;5;124;03m\"\"\"\u001b[39;00m\n\u001b[0;32m    340\u001b[0m \u001b[38;5;124;03m    Args:\u001b[39;00m\n\u001b[0;32m    341\u001b[0m \u001b[38;5;124;03m        img (PIL Image or Tensor): Image to be scaled.\u001b[39;00m\n\u001b[1;32m   (...)\u001b[0m\n\u001b[0;32m    344\u001b[0m \u001b[38;5;124;03m        PIL Image or Tensor: Rescaled image.\u001b[39;00m\n\u001b[0;32m    345\u001b[0m \u001b[38;5;124;03m    \"\"\"\u001b[39;00m\n\u001b[1;32m--> 346\u001b[0m     \u001b[38;5;28;01mreturn\u001b[39;00m \u001b[43mF\u001b[49m\u001b[38;5;241;43m.\u001b[39;49m\u001b[43mresize\u001b[49m\u001b[43m(\u001b[49m\u001b[43mimg\u001b[49m\u001b[43m,\u001b[49m\u001b[43m \u001b[49m\u001b[38;5;28;43mself\u001b[39;49m\u001b[38;5;241;43m.\u001b[39;49m\u001b[43msize\u001b[49m\u001b[43m,\u001b[49m\u001b[43m \u001b[49m\u001b[38;5;28;43mself\u001b[39;49m\u001b[38;5;241;43m.\u001b[39;49m\u001b[43minterpolation\u001b[49m\u001b[43m,\u001b[49m\u001b[43m \u001b[49m\u001b[38;5;28;43mself\u001b[39;49m\u001b[38;5;241;43m.\u001b[39;49m\u001b[43mmax_size\u001b[49m\u001b[43m,\u001b[49m\u001b[43m \u001b[49m\u001b[38;5;28;43mself\u001b[39;49m\u001b[38;5;241;43m.\u001b[39;49m\u001b[43mantialias\u001b[49m\u001b[43m)\u001b[49m\n",
      "File \u001b[1;32m~\\anaconda3\\envs\\py38\\lib\\site-packages\\torchvision\\transforms\\functional.py:474\u001b[0m, in \u001b[0;36mresize\u001b[1;34m(img, size, interpolation, max_size, antialias)\u001b[0m\n\u001b[0;32m    472\u001b[0m         warnings\u001b[38;5;241m.\u001b[39mwarn(\u001b[38;5;124m\"\u001b[39m\u001b[38;5;124mAnti-alias option is always applied for PIL Image input. Argument antialias is ignored.\u001b[39m\u001b[38;5;124m\"\u001b[39m)\n\u001b[0;32m    473\u001b[0m     pil_interpolation \u001b[38;5;241m=\u001b[39m pil_modes_mapping[interpolation]\n\u001b[1;32m--> 474\u001b[0m     \u001b[38;5;28;01mreturn\u001b[39;00m \u001b[43mF_pil\u001b[49m\u001b[38;5;241;43m.\u001b[39;49m\u001b[43mresize\u001b[49m\u001b[43m(\u001b[49m\u001b[43mimg\u001b[49m\u001b[43m,\u001b[49m\u001b[43m \u001b[49m\u001b[43msize\u001b[49m\u001b[38;5;241;43m=\u001b[39;49m\u001b[43moutput_size\u001b[49m\u001b[43m,\u001b[49m\u001b[43m \u001b[49m\u001b[43minterpolation\u001b[49m\u001b[38;5;241;43m=\u001b[39;49m\u001b[43mpil_interpolation\u001b[49m\u001b[43m)\u001b[49m\n\u001b[0;32m    476\u001b[0m \u001b[38;5;28;01mreturn\u001b[39;00m F_t\u001b[38;5;241m.\u001b[39mresize(img, size\u001b[38;5;241m=\u001b[39moutput_size, interpolation\u001b[38;5;241m=\u001b[39minterpolation\u001b[38;5;241m.\u001b[39mvalue, antialias\u001b[38;5;241m=\u001b[39mantialias)\n",
      "File \u001b[1;32m~\\anaconda3\\envs\\py38\\lib\\site-packages\\torchvision\\transforms\\functional_pil.py:252\u001b[0m, in \u001b[0;36mresize\u001b[1;34m(img, size, interpolation)\u001b[0m\n\u001b[0;32m    249\u001b[0m \u001b[38;5;28;01mif\u001b[39;00m \u001b[38;5;129;01mnot\u001b[39;00m (\u001b[38;5;28misinstance\u001b[39m(size, \u001b[38;5;28mlist\u001b[39m) \u001b[38;5;129;01mand\u001b[39;00m \u001b[38;5;28mlen\u001b[39m(size) \u001b[38;5;241m==\u001b[39m \u001b[38;5;241m2\u001b[39m):\n\u001b[0;32m    250\u001b[0m     \u001b[38;5;28;01mraise\u001b[39;00m \u001b[38;5;167;01mTypeError\u001b[39;00m(\u001b[38;5;124mf\u001b[39m\u001b[38;5;124m\"\u001b[39m\u001b[38;5;124mGot inappropriate size arg: \u001b[39m\u001b[38;5;132;01m{\u001b[39;00msize\u001b[38;5;132;01m}\u001b[39;00m\u001b[38;5;124m\"\u001b[39m)\n\u001b[1;32m--> 252\u001b[0m \u001b[38;5;28;01mreturn\u001b[39;00m \u001b[43mimg\u001b[49m\u001b[38;5;241;43m.\u001b[39;49m\u001b[43mresize\u001b[49m\u001b[43m(\u001b[49m\u001b[38;5;28;43mtuple\u001b[39;49m\u001b[43m(\u001b[49m\u001b[43msize\u001b[49m\u001b[43m[\u001b[49m\u001b[43m:\u001b[49m\u001b[43m:\u001b[49m\u001b[38;5;241;43m-\u001b[39;49m\u001b[38;5;241;43m1\u001b[39;49m\u001b[43m]\u001b[49m\u001b[43m)\u001b[49m\u001b[43m,\u001b[49m\u001b[43m \u001b[49m\u001b[43minterpolation\u001b[49m\u001b[43m)\u001b[49m\n",
      "File \u001b[1;32m~\\anaconda3\\envs\\py38\\lib\\site-packages\\PIL\\Image.py:2156\u001b[0m, in \u001b[0;36mImage.resize\u001b[1;34m(self, size, resample, box, reducing_gap)\u001b[0m\n\u001b[0;32m   2152\u001b[0m     \u001b[38;5;28;01mraise\u001b[39;00m \u001b[38;5;167;01mValueError\u001b[39;00m(msg)\n\u001b[0;32m   2154\u001b[0m size \u001b[38;5;241m=\u001b[39m \u001b[38;5;28mtuple\u001b[39m(size)\n\u001b[1;32m-> 2156\u001b[0m \u001b[38;5;28;43mself\u001b[39;49m\u001b[38;5;241;43m.\u001b[39;49m\u001b[43mload\u001b[49m\u001b[43m(\u001b[49m\u001b[43m)\u001b[49m\n\u001b[0;32m   2157\u001b[0m \u001b[38;5;28;01mif\u001b[39;00m box \u001b[38;5;129;01mis\u001b[39;00m \u001b[38;5;28;01mNone\u001b[39;00m:\n\u001b[0;32m   2158\u001b[0m     box \u001b[38;5;241m=\u001b[39m (\u001b[38;5;241m0\u001b[39m, \u001b[38;5;241m0\u001b[39m) \u001b[38;5;241m+\u001b[39m \u001b[38;5;28mself\u001b[39m\u001b[38;5;241m.\u001b[39msize\n",
      "File \u001b[1;32m~\\anaconda3\\envs\\py38\\lib\\site-packages\\PIL\\ImageFile.py:269\u001b[0m, in \u001b[0;36mImageFile.load\u001b[1;34m(self)\u001b[0m\n\u001b[0;32m    266\u001b[0m         \u001b[38;5;28;01mraise\u001b[39;00m \u001b[38;5;167;01mOSError\u001b[39;00m(msg)\n\u001b[0;32m    268\u001b[0m b \u001b[38;5;241m=\u001b[39m b \u001b[38;5;241m+\u001b[39m s\n\u001b[1;32m--> 269\u001b[0m n, err_code \u001b[38;5;241m=\u001b[39m \u001b[43mdecoder\u001b[49m\u001b[38;5;241;43m.\u001b[39;49m\u001b[43mdecode\u001b[49m\u001b[43m(\u001b[49m\u001b[43mb\u001b[49m\u001b[43m)\u001b[49m\n\u001b[0;32m    270\u001b[0m \u001b[38;5;28;01mif\u001b[39;00m n \u001b[38;5;241m<\u001b[39m \u001b[38;5;241m0\u001b[39m:\n\u001b[0;32m    271\u001b[0m     \u001b[38;5;28;01mbreak\u001b[39;00m\n",
      "\u001b[1;31mKeyboardInterrupt\u001b[0m: "
     ]
    }
   ],
   "source": [
    "epochs = 200\n",
    "optimizer = optim.SGD(model.parameters(), lr=0.001, momentum=0.9)\n",
    "\n",
    "save_every = 50\n",
    "# define your loss function\n",
    "criterion = nn.CrossEntropyLoss()\n",
    "\n",
    "scheduler = optim.lr_scheduler.ReduceLROnPlateau(optimizer, mode='min', factor=0.1, patience=50, verbose=True, cooldown=0, min_lr=0.001, eps=1e-08)\n",
    "# define your checkpoint callback function\n",
    "# load the checkpoint file\n",
    "checkpoint = torch.load('Resnet12-64.128.256(x2)/best_model.pth.tar')\n",
    "\n",
    "\n",
    "optimizer.load_state_dict(checkpoint[\"optimizer_state_dict\"])\n",
    "# retrieve the model state dictionary from the checkpoint\n",
    "model.load_state_dict(checkpoint['model_state_dict'])\n",
    "\n",
    "def save_checkpoint(state, is_best, filename='Resnet12-64.128.256(x2)/checkpoint.pth.tar', save_every=save_every):\n",
    "    torch.save(state, filename)\n",
    "    if is_best:\n",
    "        shutil.copyfile(filename, 'Resnet12-64.128.256(x2)/best_model_2.pth.tar')\n",
    "    if state['epoch'] % save_every == 0:\n",
    "        torch.save(state, f'Resnet12-64.128.256(x2)/checkpoint_2_epoch{state[\"epoch\"]}.pth.tar')\n",
    "\n",
    "# initialize variables for tracking training progress and best validation accuracy\n",
    "train_losses = []\n",
    "train_accs = []\n",
    "val_losses = []\n",
    "val_accs = []\n",
    "best_val_acc = 0.0\n",
    "\n",
    "device = torch.device('cuda' if torch.cuda.is_available() else 'cpu')\n",
    "print(device)\n",
    "# train the model\n",
    "for epoch in range(epochs):\n",
    "    start=time.time()\n",
    "    # train for one epoch\n",
    "    model.to(device)\n",
    "    model.train()\n",
    "    train_loss = 0.0\n",
    "    train_acc = 0.0\n",
    "    for i, (inputs, labels) in enumerate(train_loader):\n",
    "        # zero the parameter gradients\n",
    "        optimizer.zero_grad()\n",
    "\n",
    "        # move inputs and labels to the same device as the model\n",
    "        inputs = inputs.to(device)\n",
    "        labels = labels.to(device)\n",
    "\n",
    "        # forward + backward + optimize\n",
    "        outputs = model(inputs)\n",
    "        loss = criterion(outputs, labels)\n",
    "        loss.backward()\n",
    "        optimizer.step()\n",
    "\n",
    "        # update training loss and accuracy\n",
    "        train_loss += loss.item() * inputs.size(0)\n",
    "        _, predicted = torch.max(outputs.data, 1)\n",
    "        train_acc += (predicted == labels).sum().item()\n",
    "\n",
    "    # calculate average training loss and accuracy for the epoch\n",
    "    train_loss = train_loss / len(train_loader.dataset)\n",
    "    train_acc = train_acc / len(train_loader.dataset)\n",
    "    train_losses.append(train_loss)\n",
    "    train_accs.append(train_acc)\n",
    "\n",
    "    # evaluate the model on the validation set\n",
    "    model.eval()\n",
    "    val_loss = 0.0\n",
    "    val_acc = 0.0\n",
    "    with torch.no_grad():\n",
    "        for inputs, labels in val_loader:\n",
    "            # move inputs and labels to the same device as the model\n",
    "            inputs = inputs.to(device)\n",
    "            labels = labels.to(device)\n",
    "\n",
    "            outputs = model(inputs)\n",
    "            loss = criterion(outputs, labels)\n",
    "            val_loss += loss.item() * inputs.size(0)\n",
    "            _, predicted = torch.max(outputs.data, 1)\n",
    "            val_acc += (predicted == labels).sum().item()\n",
    "\n",
    "    # calculate average validation loss and accuracy for the epoch\n",
    "    val_loss = val_loss / len(val_loader.dataset)\n",
    "    val_acc = val_acc / len(val_loader.dataset)\n",
    "    val_losses.append(val_loss)\n",
    "    val_accs.append(val_acc)\n",
    "\n",
    "    # update the learning rate scheduler based on validation loss\n",
    "    scheduler.step(-val_loss)\n",
    "\n",
    "    # save checkpoint and best model\n",
    "    is_best = val_acc > best_val_acc\n",
    "    best_val_acc = max(val_acc, best_val_acc)\n",
    "    save_checkpoint({\n",
    "        'epoch': epoch + 1,\n",
    "        'model_state_dict': model.state_dict(),\n",
    "        'optimizer_state_dict': optimizer.state_dict(),\n",
    "        'train_loss': train_loss,\n",
    "        'train_acc': train_acc,\n",
    "        'val_loss': val_loss,\n",
    "        'val_acc': val_acc\n",
    "    }, is_best)\n",
    "\n",
    "    # print training progress for the epoch\n",
    "    stop=time.time()\n",
    "    print(f'Time: {stop-start} Epoch {epoch+1} Train Loss: {train_loss:.4f} Train Acc: {train_acc:.4f} Val Loss: {val_loss:.4f} Val Acc: {val_acc:.4f} Best Val Acc: {best_val_acc:.4f}')\n",
    "\n",
    "print('Finished Training')"
   ]
  },
  {
   "cell_type": "markdown",
   "metadata": {
    "id": "V69pX_lbVp0U"
   },
   "source": [
    "Load model:"
   ]
  },
  {
   "cell_type": "markdown",
   "metadata": {
    "id": "tgloycjsVovY"
   },
   "source": [
    "loaded_model = load_model(\"AlexNet_model-100iters.h5\")\n",
    "loaded_model.load_weights(\"AlexNet_model_weights-100iters.h5\")"
   ]
  }
 ],
 "metadata": {
  "accelerator": "GPU",
  "colab": {
   "collapsed_sections": [
    "URwdYfsiMltF",
    "g5RpZlMkPGG2"
   ],
   "provenance": []
  },
  "gpuClass": "standard",
  "kernelspec": {
   "display_name": "Python 3 (ipykernel)",
   "language": "python",
   "name": "python3"
  },
  "language_info": {
   "codemirror_mode": {
    "name": "ipython",
    "version": 3
   },
   "file_extension": ".py",
   "mimetype": "text/x-python",
   "name": "python",
   "nbconvert_exporter": "python",
   "pygments_lexer": "ipython3",
   "version": "3.8.16"
  }
 },
 "nbformat": 4,
 "nbformat_minor": 1
}
